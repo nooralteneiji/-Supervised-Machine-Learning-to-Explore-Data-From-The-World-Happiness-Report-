{
 "cells": [
  {
   "cell_type": "markdown",
   "id": "bed71e56-9949-4e2e-a447-c2dfa3e6371b",
   "metadata": {},
   "source": [
    "See [README.mb](/README.mb]) file for broad overview on methodology.\n",
    "\n",
    "## Code outline \n",
    "1. Prepare enviroment \n",
    "2. Data pre-processing \n",
    "3. **Research Question 1:** Can we accurately predict this year's (2023) happiness?\n",
    "4. **Research Question 2:** What will the happiness scores be in the year 2024?\n",
    "5. **Research Question 3:** Which variables are most strongly associated with happiness?\n",
    "6. Future directions \n",
    "7. Conclusions "
   ]
  },
  {
   "cell_type": "markdown",
   "id": "W3Iia0SPzBJm",
   "metadata": {
    "id": "W3Iia0SPzBJm",
    "tags": []
   },
   "source": [
    "# Prepare enviroment"
   ]
  },
  {
   "cell_type": "markdown",
   "id": "BXPzE5df7wLB",
   "metadata": {
    "id": "BXPzE5df7wLB"
   },
   "source": [
    "We will use the Scikit-learn library as it will provide us with an interface to apply machine learning techniques."
   ]
  },
  {
   "cell_type": "code",
   "execution_count": null,
   "id": "FRfw5RCTIBDh",
   "metadata": {
    "colab": {
     "base_uri": "https://localhost:8080/"
    },
    "id": "FRfw5RCTIBDh",
    "outputId": "fa046d3f-23c7-4f5c-bdb3-fc27eaeaeeaf",
    "tags": []
   },
   "outputs": [],
   "source": [
    "# we need to use an old version of scikit, otherwise we will face a compatiblity issue with eli5 (needed in order to use permutation importance to answer research question #3)\n",
    "!pip install scikit-learn==0.22\n",
    "!pip install eli5\n",
    "!pip install plotly"
   ]
  },
  {
   "cell_type": "code",
   "execution_count": 3,
   "id": "_5T0lhe96KnQ",
   "metadata": {
    "colab": {
     "base_uri": "https://localhost:8080/"
    },
    "id": "_5T0lhe96KnQ",
    "outputId": "320900d6-1223-4e8d-a4dc-1c52a9b11325",
    "tags": []
   },
   "outputs": [],
   "source": [
    "# data wrangling\n",
    "import pandas as pd\n",
    "import numpy as np\n",
    "import scipy\n",
    "from scipy.stats import pearsonr\n",
    "\n",
    "\n",
    "# visualizations\n",
    "import matplotlib.pyplot as plt\n",
    "import matplotlib.colors as colors\n",
    "import seaborn as sns\n",
    "from seaborn import histplot\n",
    "import plotly.graph_objects as go\n",
    "import plotly.io as pio\n",
    "pio.renderers.default='chrome' # 3d plots will be opened in browser since can't figure out how to render in notebook\n",
    "\n",
    "# model\n",
    "from sklearn.svm import SVR # this will make a support vector machine for regression\n",
    "from sklearn.linear_model import LinearRegression\n",
    "\n",
    "# permutation\n",
    "import eli5\n",
    "from eli5.sklearn import PermutationImportance # the downside of SVM is that it is a 'black-box', this will allow us to access our model and compute feauture importance to answer research question #3 without having to resort to do more work to prepare a i.e., decision tree or bayesian network\n",
    "\n",
    "# scoring metric\n",
    "from sklearn.metrics import r2_score, mean_squared_error # to evaluate our SVM\n",
    "\n",
    "# formatting data\n",
    "from sklearn.preprocessing import scale # scale and center data\n",
    "from sklearn.preprocessing import StandardScaler\n",
    "\n",
    "# model selection\n",
    "from sklearn.model_selection import train_test_split # split data into training and testing sets\n",
    "from sklearn.model_selection import GridSearchCV # this will do cross validation and allow us to find optimal parameters for our SVM\n",
    "from sklearn.model_selection import cross_val_score\n",
    "from sklearn.model_selection import KFold # provides K-Fold Cross Validation, in our case we will have 10 folds (9 subsamples will be used to train the model and the remaining 1 subsample is used to validate the model)\n",
    "\n",
    "from sklearn.pipeline import make_pipeline"
   ]
  },
  {
   "cell_type": "markdown",
   "id": "_pdbRUevTEdy",
   "metadata": {
    "id": "_pdbRUevTEdy",
    "tags": []
   },
   "source": [
    "# Data Pre-processing"
   ]
  },
  {
   "cell_type": "markdown",
   "id": "ScrbBosq_eL_",
   "metadata": {
    "id": "ScrbBosq_eL_"
   },
   "source": [
    "## Import data"
   ]
  },
  {
   "cell_type": "code",
   "execution_count": 4,
   "id": "vUZpzGHm7L-a",
   "metadata": {
    "id": "vUZpzGHm7L-a",
    "tags": []
   },
   "outputs": [],
   "source": [
    "df_RAW_pre2023 = pd.read_csv('Raw Data/pre-2023.csv')\n",
    "df_RAW_2023 = pd.read_csv('Raw Data/2023.csv')"
   ]
  },
  {
   "cell_type": "markdown",
   "id": "EIAPootfsFwF",
   "metadata": {
    "id": "EIAPootfsFwF",
    "tags": []
   },
   "source": [
    "## Cleaning"
   ]
  },
  {
   "cell_type": "markdown",
   "id": "8X2R17x81ymj",
   "metadata": {
    "id": "8X2R17x81ymj"
   },
   "source": [
    "### Modifying columns"
   ]
  },
  {
   "cell_type": "markdown",
   "id": "W1kbXJODaJou",
   "metadata": {
    "id": "W1kbXJODaJou"
   },
   "source": [
    "Let's remove the columns with variables that are not present in both datasets."
   ]
  },
  {
   "cell_type": "code",
   "execution_count": 5,
   "id": "htWEBAxqt7kP",
   "metadata": {
    "colab": {
     "base_uri": "https://localhost:8080/"
    },
    "id": "htWEBAxqt7kP",
    "outputId": "881f62e1-6b06-4178-827e-a2a71dc757aa",
    "tags": []
   },
   "outputs": [],
   "source": [
    "remove_pre2023 = ['Positive affect', 'Negative affect']\n",
    "\n",
    "df_RAW_pre2023 = df_RAW_pre2023.drop(columns=remove_pre2023)\n",
    "\n",
    "remove_2023 = ['Standard error of ladder score', 'upperwhisker', 'lowerwhisker',\n",
    "              'Ladder score in Dystopia', 'Explained by: Log GDP per capita',\n",
    "              'Explained by: Social support','Explained by: Healthy life expectancy',\n",
    "              'Explained by: Freedom to make life choices','Explained by: Generosity',\n",
    "              'Explained by: Perceptions of corruption','Dystopia + residual']\n",
    "\n",
    "df_RAW_2023 = df_RAW_2023.drop(columns=remove_2023)"
   ]
  },
  {
   "cell_type": "markdown",
   "id": "ObYtJMygxUUd",
   "metadata": {
    "id": "ObYtJMygxUUd"
   },
   "source": [
    "Add a `year` column to `df_2023` so that information is not lost if the dataframe is merged with `df_pre2023` in the future,"
   ]
  },
  {
   "cell_type": "code",
   "execution_count": 6,
   "id": "MbOGk6OYxR4D",
   "metadata": {
    "colab": {
     "base_uri": "https://localhost:8080/",
     "height": 0
    },
    "id": "MbOGk6OYxR4D",
    "outputId": "766fd629-7435-446c-d0e3-20a0cbbb57bf",
    "tags": []
   },
   "outputs": [],
   "source": [
    "df_RAW_2023.insert(loc=1, column='year', value=2023)"
   ]
  },
  {
   "cell_type": "markdown",
   "id": "w8dR7rRgdmeU",
   "metadata": {
    "id": "w8dR7rRgdmeU"
   },
   "source": [
    "**Sanity check:** Let's make sure all the dataframes have the same number of columns."
   ]
  },
  {
   "cell_type": "code",
   "execution_count": 7,
   "id": "d35vZg5IetIa",
   "metadata": {
    "colab": {
     "base_uri": "https://localhost:8080/"
    },
    "id": "d35vZg5IetIa",
    "outputId": "133ad730-f7c7-4341-ec02-0f325f333cae",
    "tags": []
   },
   "outputs": [
    {
     "name": "stdout",
     "output_type": "stream",
     "text": [
      "Number of columns in DataFrame 1 : 9\n",
      "Number of columns in DataFrame 2 : 9\n"
     ]
    }
   ],
   "source": [
    "dataframes = [df_RAW_pre2023, df_RAW_2023]\n",
    "\n",
    "# Count number of columns in each dataFrame\n",
    "for i, df in enumerate(dataframes):\n",
    "    num_columns = df.shape[1]\n",
    "    print(\"Number of columns in DataFrame\", i+1, \":\", num_columns)"
   ]
  },
  {
   "cell_type": "markdown",
   "id": "Te8V_D750h53",
   "metadata": {
    "id": "Te8V_D750h53"
   },
   "source": [
    "**Standardize naming scheme for dimensions**\n",
    "\n",
    "Between the two datasets, there is a slight difference in the naming scheme. We need the column names to be the same to allow for merging later on."
   ]
  },
  {
   "cell_type": "code",
   "execution_count": 8,
   "id": "lDMjT7lU008c",
   "metadata": {
    "id": "lDMjT7lU008c",
    "tags": []
   },
   "outputs": [],
   "source": [
    "df_RAW_pre2023.rename(columns={\n",
    "    'Country name': 'country',\n",
    "    'year': 'year',\n",
    "    'Life Ladder': 'happiness',\n",
    "    'Log GDP per capita': 'GDP',\n",
    "    'Social support' : 'socialSupport',\n",
    "    'Healthy life expectancy at birth': 'lifeExpectancy',\n",
    "    'Freedom to make life choices': 'freedom',\n",
    "    'Generosity': 'generosity',\n",
    "    'Perceptions of corruption' : 'corruption',\n",
    "}, inplace=True)\n",
    "\n",
    "df_RAW_2023.rename(columns={\n",
    "    'Country name': 'country',\n",
    "    'year': 'year',\n",
    "    'Ladder score': 'happiness',\n",
    "    'Logged GDP per capita': 'GDP',\n",
    "    'Social support' : 'socialSupport',\n",
    "    'Healthy life expectancy': 'lifeExpectancy',\n",
    "    'Freedom to make life choices': 'freedom',\n",
    "    'Generosity': 'generosity',\n",
    "    'Perceptions of corruption' : 'corruption',\n",
    "}, inplace=True)"
   ]
  },
  {
   "cell_type": "markdown",
   "id": "0hBdHNYxzyyc",
   "metadata": {
    "id": "0hBdHNYxzyyc"
   },
   "source": [
    "### Merge"
   ]
  },
  {
   "cell_type": "code",
   "execution_count": 9,
   "id": "ZugGNAiSz1k6",
   "metadata": {
    "colab": {
     "base_uri": "https://localhost:8080/",
     "height": 0
    },
    "id": "ZugGNAiSz1k6",
    "outputId": "90bfc4e9-39e1-4827-ffde-e02d46dc5904",
    "tags": []
   },
   "outputs": [],
   "source": [
    "df = pd.concat([df_RAW_pre2023, df_RAW_2023], axis=0)"
   ]
  },
  {
   "cell_type": "markdown",
   "id": "sktrs2kpsIIH",
   "metadata": {
    "id": "sktrs2kpsIIH"
   },
   "source": [
    "### Dealing with NaN or 0 values"
   ]
  },
  {
   "cell_type": "markdown",
   "id": "FE1AGJjznnz3",
   "metadata": {
    "id": "FE1AGJjznnz3"
   },
   "source": [
    "Let's make sure we do not have any NA values, since Scikit-learn's support vector machines do not work with datasets with missing values.\n",
    "\n",
    "\n"
   ]
  },
  {
   "cell_type": "code",
   "execution_count": null,
   "id": "KEyO5saQoGbv",
   "metadata": {
    "colab": {
     "base_uri": "https://localhost:8080/"
    },
    "id": "KEyO5saQoGbv",
    "outputId": "1784b8c3-86e8-48e9-c5ca-39202ef7020c",
    "tags": []
   },
   "outputs": [],
   "source": [
    "df.dtypes # check if there are character-based place holders for missing data"
   ]
  },
  {
   "cell_type": "markdown",
   "id": "cb6ac54d-b2b9-4877-8e46-65ccae63f42c",
   "metadata": {},
   "source": [
    "`country` is an object--we'll later convert it into a binary value using one-hot encoding"
   ]
  },
  {
   "cell_type": "code",
   "execution_count": 11,
   "id": "E4SJELdlon9I",
   "metadata": {
    "colab": {
     "base_uri": "https://localhost:8080/"
    },
    "id": "E4SJELdlon9I",
    "outputId": "dbe365ef-411a-40dd-ecf3-55830bd9061f",
    "tags": []
   },
   "outputs": [
    {
     "name": "stdout",
     "output_type": "stream",
     "text": [
      "Number of null or missing values:  310\n"
     ]
    }
   ],
   "source": [
    "print(\"Number of null or missing values: \",df.isnull().sum().sum())"
   ]
  },
  {
   "cell_type": "markdown",
   "id": "g3JGlf46n1ce",
   "metadata": {
    "id": "g3JGlf46n1ce"
   },
   "source": [
    "According to the [statistics appendix](https://s3.amazonaws.com/happiness-report/2018/Appendix1ofChapter2.pdf) from the World Happiness Report, none of the dimensions have a minimum value of 0. Any cells that have a value of zero are actually cells with missing data.\n",
    "\n",
    "Let's check to see if any observation has a 0 as a value."
   ]
  },
  {
   "cell_type": "code",
   "execution_count": 12,
   "id": "Jx4a6LNJn79I",
   "metadata": {
    "colab": {
     "base_uri": "https://localhost:8080/"
    },
    "id": "Jx4a6LNJn79I",
    "outputId": "e9ecff99-9f85-4365-8070-73f3c518f1d0",
    "tags": []
   },
   "outputs": [
    {
     "name": "stdout",
     "output_type": "stream",
     "text": [
      "Number of cells with a value of zero: 8\n"
     ]
    }
   ],
   "source": [
    "zero_indices = np.where(df == 0)\n",
    "num_zeros = zero_indices[0].shape[0]\n",
    "print(f'Number of cells with a value of zero: {num_zeros}')"
   ]
  },
  {
   "cell_type": "markdown",
   "id": "3o0sNCUQ7N1L",
   "metadata": {
    "id": "3o0sNCUQ7N1L"
   },
   "source": [
    "While it seems that some countries have missing data, it is not justifiable to discard the whole observation. In our dataset, usually for country that has missing data, it is only empty for a single variable and still has the 6 other dimensions filled. Therefore, discarding rows with missing information is not a good tradeoff.\n",
    "\n",
    "Luckily, we can use **linear interpolation** to estimate a resonable value for these cells and replace these cells. This method will draw a straight line between the points surrounding the missing value(s) and use this line to output an estimate. It's worth noting that we will assumes that the change between the values is constant."
   ]
  },
  {
   "cell_type": "markdown",
   "id": "79deL4w1rjP_",
   "metadata": {
    "id": "79deL4w1rjP_"
   },
   "source": [
    "Interpolation works only on cells exclusively with `NaN`. As such, we will replace all 0's with NaN's before proceeding."
   ]
  },
  {
   "cell_type": "code",
   "execution_count": 13,
   "id": "Hev2C4DxrzoW",
   "metadata": {
    "colab": {
     "base_uri": "https://localhost:8080/"
    },
    "id": "Hev2C4DxrzoW",
    "outputId": "2dd76b5f-d2d3-4d01-dbfd-9a8c9f3ab7be",
    "tags": []
   },
   "outputs": [
    {
     "name": "stdout",
     "output_type": "stream",
     "text": [
      "Number of null or missing values:  310\n"
     ]
    }
   ],
   "source": [
    "df.replace(0, np.nan)\n",
    "print(\"Number of null or missing values: \",df.isnull().sum().sum()) # check to see if we successfully replaced 0's"
   ]
  },
  {
   "cell_type": "markdown",
   "id": "1i7PNF5f8dAj",
   "metadata": {
    "id": "1i7PNF5f8dAj"
   },
   "source": [
    "Now that our dataset exclusively has missing data as `NaN`, we can proceed with the interpolation."
   ]
  },
  {
   "cell_type": "code",
   "execution_count": 14,
   "id": "omA37kc6pRZ2",
   "metadata": {
    "colab": {
     "base_uri": "https://localhost:8080/"
    },
    "id": "omA37kc6pRZ2",
    "outputId": "f3de71fe-57d9-440c-c0c6-67d54182fa9f",
    "tags": []
   },
   "outputs": [
    {
     "name": "stdout",
     "output_type": "stream",
     "text": [
      "Number of null or missing values:  0\n"
     ]
    }
   ],
   "source": [
    "df.interpolate(method='linear', inplace=True)\n",
    "print(\"Number of null or missing values: \",df.isnull().sum().sum())"
   ]
  },
  {
   "cell_type": "markdown",
   "id": "70_mvu3n8oXq",
   "metadata": {
    "id": "70_mvu3n8oXq"
   },
   "source": [
    "Success! We have no more `NaN` values in out dataset."
   ]
  },
  {
   "cell_type": "markdown",
   "id": "goPu6_nMsJ6p",
   "metadata": {
    "id": "goPu6_nMsJ6p"
   },
   "source": [
    "How many years does our dataframe account for? which countries are missing from each year?"
   ]
  },
  {
   "cell_type": "code",
   "execution_count": 20,
   "id": "gyeNsbzDsqmE",
   "metadata": {
    "colab": {
     "base_uri": "https://localhost:8080/"
    },
    "id": "gyeNsbzDsqmE",
    "outputId": "0b6ea8ab-f39a-4c11-b720-36f64db3edb2",
    "tags": []
   },
   "outputs": [
    {
     "name": "stdout",
     "output_type": "stream",
     "text": [
      "Countries: 165\n"
     ]
    }
   ],
   "source": [
    "unique_countrys = df['country'].nunique()\n",
    "print(f\"Countries: {unique_countrys}\")"
   ]
  },
  {
   "cell_type": "code",
   "execution_count": 21,
   "id": "qY7Mp8H3sZx-",
   "metadata": {
    "colab": {
     "base_uri": "https://localhost:8080/"
    },
    "id": "qY7Mp8H3sZx-",
    "outputId": "64ae7863-8a79-4f6d-8b54-c9814a912690",
    "tags": []
   },
   "outputs": [
    {
     "name": "stdout",
     "output_type": "stream",
     "text": [
      "The dataframe covers the years: [2008 2009 2010 2011 2012 2013 2014 2015 2016 2017 2018 2019 2021 2022\n",
      " 2007 2020 2006 2005 2023]\n"
     ]
    }
   ],
   "source": [
    "years = df['year'].unique()\n",
    "print(f\"The dataframe covers the years: {years}\")"
   ]
  },
  {
   "cell_type": "code",
   "execution_count": 32,
   "id": "0885e4e5-7c61-4983-84fd-e0c05d1b3577",
   "metadata": {},
   "outputs": [
    {
     "name": "stdout",
     "output_type": "stream",
     "text": [
      "Years_with_data\n",
      "1              [Maldives, Guyana, Suriname, Oman, Cuba]\n",
      "2                                              [Belize]\n",
      "3                           [Somalia, Bhutan, Eswatini]\n",
      "4     [Angola, Djibouti, Lesotho, South Sudan, Somal...\n",
      "5     [Sudan, Gambia, Qatar, Burundi, Trinidad and T...\n",
      "6                                               [Libya]\n",
      "7                                               [Syria]\n",
      "8                                             [Comoros]\n",
      "9                                             [Namibia]\n",
      "10    [Turkmenistan, Jamaica, Mauritius, Congo (Kins...\n",
      "11    [Algeria, Myanmar, Laos, Ethiopia, Kuwait, Ice...\n",
      "12          [Ivory Coast, Togo, Rwanda, Yemen, Bahrain]\n",
      "13    [Gabon, Guinea, Hong Kong S.A.R. of China, Mor...\n",
      "14    [Botswana, Congo (Brazzaville), Belarus, Slova...\n",
      "15    [Sierra Leone, Bosnia and Herzegovina, Serbia,...\n",
      "16    [North Macedonia, Albania, Niger, Taiwan Provi...\n",
      "17    [Kosovo, Poland, Philippines, Hungary, Turkiye...\n",
      "18    [Lebanon, Indonesia, Kyrgyzstan, Kenya, Kazakh...\n",
      "Name: Country, dtype: object\n"
     ]
    }
   ],
   "source": [
    "country_counts = df['country'].value_counts()\n",
    "country_counts_df = country_counts.reset_index() # Convert the series into a df\n",
    "country_counts_df.columns = ['Country', 'Years_with_data']# Rename  columns\n",
    "\n",
    "# Group by the counts and get the countries with the same counts\n",
    "grouped_counts = country_counts_df.groupby('Years_with_data')['Country'].apply(list)\n",
    "\n",
    "print(grouped_counts)"
   ]
  },
  {
   "cell_type": "markdown",
   "id": "TSPgsuMQss14",
   "metadata": {
    "id": "TSPgsuMQss14",
    "tags": []
   },
   "source": [
    "# **Q1:** Can we accurately predict this year's (2023) happiness?"
   ]
  },
  {
   "cell_type": "markdown",
   "id": "OowZtYLWHqXM",
   "metadata": {
    "id": "OowZtYLWHqXM"
   },
   "source": [
    "We already have the 2023 data. What we can do is train a model on the pre-2023 data to see if the predicted 2023 scores actually match the actual ones. If the model we build has a high accuracy, we can recyle the model to forecast 2024 scores!"
   ]
  },
  {
   "cell_type": "markdown",
   "id": "jBbBbWQ0Ym_-",
   "metadata": {
    "id": "jBbBbWQ0Ym_-"
   },
   "source": [
    "## Pre-processing for this specific research question "
   ]
  },
  {
   "cell_type": "code",
   "execution_count": 34,
   "id": "xzKjT8RPHu60",
   "metadata": {
    "id": "xzKjT8RPHu60",
    "tags": []
   },
   "outputs": [],
   "source": [
    "df_pre2023 = df[df['year'] < 2023] # we will train and test our model on this dataframe\n",
    "df_2023 = df[df['year'] == 2023] # well compare predicted data with this dataframe"
   ]
  },
  {
   "cell_type": "markdown",
   "id": "JaENk7ZzSqZW",
   "metadata": {
    "id": "JaENk7ZzSqZW"
   },
   "source": [
    "We need to dealing with countries present in pre-2023 data, but not 2023 (or vice versa)"
   ]
  },
  {
   "cell_type": "code",
   "execution_count": 35,
   "id": "BgYmuRgTWNOV",
   "metadata": {
    "colab": {
     "base_uri": "https://localhost:8080/"
    },
    "id": "BgYmuRgTWNOV",
    "outputId": "ab2bf648-f1a3-4a41-b52e-7c39c2c3d1e4",
    "tags": []
   },
   "outputs": [
    {
     "name": "stdout",
     "output_type": "stream",
     "text": [
      "Countries present in pre-2023 data but not 2023:\n",
      "{'Eswatini', 'Maldives', 'Burundi', 'Qatar', 'Trinidad and Tobago', 'Somaliland region', 'Yemen', 'Belize', 'Sudan', 'Lesotho', 'Cuba', 'Angola', 'Haiti', 'Central African Republic', 'Guyana', 'Rwanda', 'Turkmenistan', 'Oman', 'Kuwait', 'Azerbaijan', 'Suriname', 'Belarus', 'Djibouti', 'Syria', 'Bhutan', 'South Sudan', 'Somalia', 'Libya'}\n",
      "\n",
      "Countries present in 2023 data but not pre-2023:\n",
      "set()\n"
     ]
    }
   ],
   "source": [
    "countries_pre2023 = set(df_pre2023['country'].unique())\n",
    "countries_2023 = set(df_2023['country'].unique())\n",
    "\n",
    "# Find countries present in pre-2023 data but not 2023\n",
    "missing_in_2023 = countries_pre2023 - countries_2023\n",
    "print(\"Countries present in pre-2023 data but not 2023:\")\n",
    "print(missing_in_2023)\n",
    "\n",
    "# Find countries present in 2023 data but not pre-2023\n",
    "missing_in_pre2023 = countries_2023 - countries_pre2023\n",
    "print(\"\\nCountries present in 2023 data but not pre-2023:\")\n",
    "print(missing_in_pre2023)"
   ]
  },
  {
   "cell_type": "markdown",
   "id": "3euV25oqWS_t",
   "metadata": {
    "id": "3euV25oqWS_t"
   },
   "source": [
    "It turns out the countries the 2023 dataframe is missing are:\n",
    "\n",
    " 'Azerbaijan', 'Turkmenistan', 'Qatar', 'Angola', 'Belize', 'Oman', 'Belarus', 'Bhutan', 'Libya', 'Kuwait', 'Trinidad and Tobago', 'Djibouti', 'Maldives', 'Cuba', 'Haiti', 'Rwanda', 'South Sudan', 'Syria', 'Central African Republic', 'Eswatini', 'Somaliland region', 'Guyana', 'Yemen', 'Suriname', 'Burundi', 'Lesotho', 'Sudan', 'Somalia'\n",
    "\n",
    "Hence, we need to remove these countries from the pre-2023 dataframe."
   ]
  },
  {
   "cell_type": "code",
   "execution_count": 36,
   "id": "OqYbK0OeWySz",
   "metadata": {
    "id": "OqYbK0OeWySz",
    "tags": []
   },
   "outputs": [],
   "source": [
    "remove_countries = ['Azerbaijan', 'Turkmenistan', 'Qatar', 'Angola', 'Belize',\n",
    "                    'Oman', 'Belarus', 'Bhutan', 'Libya', 'Kuwait', 'Trinidad and Tobago',\n",
    "                    'Djibouti', 'Maldives', 'Cuba', 'Haiti', 'Rwanda', 'South Sudan',\n",
    "                    'Syria', 'Central African Republic', 'Eswatini', 'Somaliland region',\n",
    "                    'Guyana', 'Yemen', 'Suriname', 'Burundi', 'Lesotho', 'Sudan', 'Somalia']\n",
    "\n",
    "df_pre2023 = df_pre2023[~df_pre2023 ['country'].isin(remove_countries)] # # Filter the dataframe so only countries we want are left"
   ]
  },
  {
   "cell_type": "markdown",
   "id": "quqBwjXp9rEi",
   "metadata": {
    "id": "quqBwjXp9rEi"
   },
   "source": [
    "To avoid data leakage, we need to split variables into indepdent and dependent variables then perform one-hot encoding. We also need to split our data into training and test sets before we scale our data."
   ]
  },
  {
   "cell_type": "markdown",
   "id": "734f1309-6954-46e4-8a04-6946ac761922",
   "metadata": {},
   "source": [
    "## **Dataset splitting:** Split the data into dependent and independent variables"
   ]
  },
  {
   "cell_type": "markdown",
   "id": "7oDsOycs9rEi",
   "metadata": {
    "id": "7oDsOycs9rEi"
   },
   "source": [
    "In this case, the variable we want to predict is data from the 'happiness' coloumn. We will store this in **y**.\n",
    "\n",
    "The remaining other coloumns will correspond to our classification variables. This data will be store in **X**.\n",
    "\n",
    "So the independent variables are: `country`, `year`, `GDP`, `socialSupport`,`lifeExpectancy`, `freedom`, `generosity`, `corruption`"
   ]
  },
  {
   "cell_type": "code",
   "execution_count": 39,
   "id": "24nC_3hg9rEi",
   "metadata": {
    "collapsed": true,
    "id": "24nC_3hg9rEi",
    "jupyter": {
     "outputs_hidden": true
    }
   },
   "outputs": [],
   "source": [
    "X = df_pre2023.drop('happiness', axis=1).copy() # make a copy so as to not modify the original.\n",
    "X_2023 = df_2023.drop('happiness', axis=1).copy()"
   ]
  },
  {
   "cell_type": "code",
   "execution_count": 40,
   "id": "apE6wvUL9rEj",
   "metadata": {
    "id": "apE6wvUL9rEj",
    "tags": []
   },
   "outputs": [],
   "source": [
    "y = df_pre2023['happiness'].copy()\n",
    "y_2023 = df_2023['happiness'].copy()"
   ]
  },
  {
   "cell_type": "markdown",
   "id": "T2sanB9S9rEk",
   "metadata": {
    "id": "T2sanB9S9rEk",
    "jp-MarkdownHeadingCollapsed": true,
    "tags": []
   },
   "source": [
    "## **Dataset sp**Splitting into training and test set & scaling "
   ]
  },
  {
   "cell_type": "code",
   "execution_count": 42,
   "id": "B2qzoNzc9rEk",
   "metadata": {
    "collapsed": true,
    "id": "B2qzoNzc9rEk",
    "jupyter": {
     "outputs_hidden": true
    }
   },
   "outputs": [],
   "source": [
    "# lets create folds and tell the KFold function whether or not to shuffle the data beforehand.\n",
    "kf = KFold(n_splits=10, shuffle=True, random_state=1)"
   ]
  },
  {
   "cell_type": "code",
   "execution_count": 43,
   "id": "pBCFH1oH9rEk",
   "metadata": {
    "collapsed": true,
    "id": "pBCFH1oH9rEk",
    "jupyter": {
     "outputs_hidden": true
    }
   },
   "outputs": [],
   "source": [
    "# Initialize the scaler\n",
    "scaler = StandardScaler()\n",
    "\n",
    "# Prepare empty lists to hold the training and testing data for each fold\n",
    "X_train_list, X_test_list = [], []\n",
    "y_train_list, y_test_list = [], []\n",
    "\n",
    "for train_index, test_index in kf.split(X_encoded):\n",
    "    # Split the data\n",
    "    X_train, X_test = X_encoded.iloc[train_index], X_encoded.iloc[test_index]\n",
    "    y_train, y_test = y.iloc[train_index], y.iloc[test_index]\n",
    "\n",
    "    # Fit the scaler on the training set and transform both sets\n",
    "    X_train = scaler.fit_transform(X_train)\n",
    "    X_test = scaler.transform(X_test)\n",
    "\n",
    "    # Append to the lists\n",
    "    X_train_list.append(X_train)\n",
    "    X_test_list.append(X_test)\n",
    "    y_train_list.append(y_train)\n",
    "    y_test_list.append(y_test)"
   ]
  },
  {
   "cell_type": "code",
   "execution_count": 41,
   "id": "9-9FZnTk9rEj",
   "metadata": {
    "colab": {
     "base_uri": "https://localhost:8080/",
     "height": 0
    },
    "collapsed": true,
    "id": "9-9FZnTk9rEj",
    "jupyter": {
     "outputs_hidden": true
    },
    "outputId": "2afbc00f-b2a7-4389-8818-30705be1ab0d"
   },
   "outputs": [
    {
     "data": {
      "text/html": [
       "<div>\n",
       "<style scoped>\n",
       "    .dataframe tbody tr th:only-of-type {\n",
       "        vertical-align: middle;\n",
       "    }\n",
       "\n",
       "    .dataframe tbody tr th {\n",
       "        vertical-align: top;\n",
       "    }\n",
       "\n",
       "    .dataframe thead th {\n",
       "        text-align: right;\n",
       "    }\n",
       "</style>\n",
       "<table border=\"1\" class=\"dataframe\">\n",
       "  <thead>\n",
       "    <tr style=\"text-align: right;\">\n",
       "      <th></th>\n",
       "      <th>year</th>\n",
       "      <th>GDP</th>\n",
       "      <th>socialSupport</th>\n",
       "      <th>lifeExpectancy</th>\n",
       "      <th>freedom</th>\n",
       "      <th>generosity</th>\n",
       "      <th>corruption</th>\n",
       "      <th>country_Afghanistan</th>\n",
       "      <th>country_Albania</th>\n",
       "      <th>country_Algeria</th>\n",
       "      <th>...</th>\n",
       "      <th>country_Ukraine</th>\n",
       "      <th>country_United Arab Emirates</th>\n",
       "      <th>country_United Kingdom</th>\n",
       "      <th>country_United States</th>\n",
       "      <th>country_Uruguay</th>\n",
       "      <th>country_Uzbekistan</th>\n",
       "      <th>country_Venezuela</th>\n",
       "      <th>country_Vietnam</th>\n",
       "      <th>country_Zambia</th>\n",
       "      <th>country_Zimbabwe</th>\n",
       "    </tr>\n",
       "  </thead>\n",
       "  <tbody>\n",
       "    <tr>\n",
       "      <th>0</th>\n",
       "      <td>2008</td>\n",
       "      <td>7.350</td>\n",
       "      <td>0.451</td>\n",
       "      <td>50.5</td>\n",
       "      <td>0.718</td>\n",
       "      <td>0.168</td>\n",
       "      <td>0.882</td>\n",
       "      <td>1</td>\n",
       "      <td>0</td>\n",
       "      <td>0</td>\n",
       "      <td>...</td>\n",
       "      <td>0</td>\n",
       "      <td>0</td>\n",
       "      <td>0</td>\n",
       "      <td>0</td>\n",
       "      <td>0</td>\n",
       "      <td>0</td>\n",
       "      <td>0</td>\n",
       "      <td>0</td>\n",
       "      <td>0</td>\n",
       "      <td>0</td>\n",
       "    </tr>\n",
       "    <tr>\n",
       "      <th>1</th>\n",
       "      <td>2009</td>\n",
       "      <td>7.509</td>\n",
       "      <td>0.552</td>\n",
       "      <td>50.8</td>\n",
       "      <td>0.679</td>\n",
       "      <td>0.191</td>\n",
       "      <td>0.850</td>\n",
       "      <td>1</td>\n",
       "      <td>0</td>\n",
       "      <td>0</td>\n",
       "      <td>...</td>\n",
       "      <td>0</td>\n",
       "      <td>0</td>\n",
       "      <td>0</td>\n",
       "      <td>0</td>\n",
       "      <td>0</td>\n",
       "      <td>0</td>\n",
       "      <td>0</td>\n",
       "      <td>0</td>\n",
       "      <td>0</td>\n",
       "      <td>0</td>\n",
       "    </tr>\n",
       "    <tr>\n",
       "      <th>2</th>\n",
       "      <td>2010</td>\n",
       "      <td>7.614</td>\n",
       "      <td>0.539</td>\n",
       "      <td>51.1</td>\n",
       "      <td>0.600</td>\n",
       "      <td>0.121</td>\n",
       "      <td>0.707</td>\n",
       "      <td>1</td>\n",
       "      <td>0</td>\n",
       "      <td>0</td>\n",
       "      <td>...</td>\n",
       "      <td>0</td>\n",
       "      <td>0</td>\n",
       "      <td>0</td>\n",
       "      <td>0</td>\n",
       "      <td>0</td>\n",
       "      <td>0</td>\n",
       "      <td>0</td>\n",
       "      <td>0</td>\n",
       "      <td>0</td>\n",
       "      <td>0</td>\n",
       "    </tr>\n",
       "    <tr>\n",
       "      <th>3</th>\n",
       "      <td>2011</td>\n",
       "      <td>7.581</td>\n",
       "      <td>0.521</td>\n",
       "      <td>51.4</td>\n",
       "      <td>0.496</td>\n",
       "      <td>0.164</td>\n",
       "      <td>0.731</td>\n",
       "      <td>1</td>\n",
       "      <td>0</td>\n",
       "      <td>0</td>\n",
       "      <td>...</td>\n",
       "      <td>0</td>\n",
       "      <td>0</td>\n",
       "      <td>0</td>\n",
       "      <td>0</td>\n",
       "      <td>0</td>\n",
       "      <td>0</td>\n",
       "      <td>0</td>\n",
       "      <td>0</td>\n",
       "      <td>0</td>\n",
       "      <td>0</td>\n",
       "    </tr>\n",
       "    <tr>\n",
       "      <th>4</th>\n",
       "      <td>2012</td>\n",
       "      <td>7.661</td>\n",
       "      <td>0.521</td>\n",
       "      <td>51.7</td>\n",
       "      <td>0.531</td>\n",
       "      <td>0.238</td>\n",
       "      <td>0.776</td>\n",
       "      <td>1</td>\n",
       "      <td>0</td>\n",
       "      <td>0</td>\n",
       "      <td>...</td>\n",
       "      <td>0</td>\n",
       "      <td>0</td>\n",
       "      <td>0</td>\n",
       "      <td>0</td>\n",
       "      <td>0</td>\n",
       "      <td>0</td>\n",
       "      <td>0</td>\n",
       "      <td>0</td>\n",
       "      <td>0</td>\n",
       "      <td>0</td>\n",
       "    </tr>\n",
       "  </tbody>\n",
       "</table>\n",
       "<p>5 rows × 144 columns</p>\n",
       "</div>"
      ],
      "text/plain": [
       "   year    GDP  socialSupport  lifeExpectancy  freedom  generosity  \\\n",
       "0  2008  7.350          0.451            50.5    0.718       0.168   \n",
       "1  2009  7.509          0.552            50.8    0.679       0.191   \n",
       "2  2010  7.614          0.539            51.1    0.600       0.121   \n",
       "3  2011  7.581          0.521            51.4    0.496       0.164   \n",
       "4  2012  7.661          0.521            51.7    0.531       0.238   \n",
       "\n",
       "   corruption  country_Afghanistan  country_Albania  country_Algeria  ...  \\\n",
       "0       0.882                    1                0                0  ...   \n",
       "1       0.850                    1                0                0  ...   \n",
       "2       0.707                    1                0                0  ...   \n",
       "3       0.731                    1                0                0  ...   \n",
       "4       0.776                    1                0                0  ...   \n",
       "\n",
       "   country_Ukraine  country_United Arab Emirates  country_United Kingdom  \\\n",
       "0                0                             0                       0   \n",
       "1                0                             0                       0   \n",
       "2                0                             0                       0   \n",
       "3                0                             0                       0   \n",
       "4                0                             0                       0   \n",
       "\n",
       "   country_United States  country_Uruguay  country_Uzbekistan  \\\n",
       "0                      0                0                   0   \n",
       "1                      0                0                   0   \n",
       "2                      0                0                   0   \n",
       "3                      0                0                   0   \n",
       "4                      0                0                   0   \n",
       "\n",
       "   country_Venezuela  country_Vietnam  country_Zambia  country_Zimbabwe  \n",
       "0                  0                0               0                 0  \n",
       "1                  0                0               0                 0  \n",
       "2                  0                0               0                 0  \n",
       "3                  0                0               0                 0  \n",
       "4                  0                0               0                 0  \n",
       "\n",
       "[5 rows x 144 columns]"
      ]
     },
     "execution_count": 41,
     "metadata": {},
     "output_type": "execute_result"
    }
   ],
   "source": [
    "X_encoded = pd.get_dummies(X, columns=['country'])\n",
    "X_encoded_2023 = pd.get_dummies(X_2023, columns=['country'])\n",
    "X_encoded.head()"
   ]
  },
  {
   "cell_type": "markdown",
   "id": "zyLryd1p9rEj",
   "metadata": {
    "id": "zyLryd1p9rEj"
   },
   "source": [
    "You can see that the outcome of hot-encoding is that, for example, the row corresponding to the UAE has a 0 for all country columns (i.e., country_Afghanistan, country_Albania, country_Algeria) except for the column country_United_Arab_Emirates--this is how we maintain the country information for each column in a numerical format."
   ]
  },
  {
   "cell_type": "markdown",
   "id": "aS7BuBuusxpa",
   "metadata": {
    "id": "aS7BuBuusxpa"
   },
   "source": [
    "Since our model performed really well at predicting this year, lets forcast the happiness of contries in the upcoming year.\n",
    "\n",
    "**check which countries have missing years** Even though the survey claims to have included data about 156 countries, there are only a small number of countries for which data has been recorded in the initial years.\n",
    "\n"
   ]
  },
  {
   "cell_type": "markdown",
   "id": "c59e1143-795b-4b9f-b0c5-b779888c0654",
   "metadata": {},
   "source": [
    "## Feature engineering"
   ]
  },
  {
   "cell_type": "markdown",
   "id": "rZ6yS7kJ9rEj",
   "metadata": {
    "id": "rZ6yS7kJ9rEj"
   },
   "source": [
    "### One-hot encoding"
   ]
  },
  {
   "cell_type": "markdown",
   "id": "uSvi3Goy9rEj",
   "metadata": {
    "id": "uSvi3Goy9rEj"
   },
   "source": [
    "In our datasets, we have one categorical column; country. We can't just plug it into our SVM as is, because SVM requires numerical input.\n",
    "\n",
    "Luckily we can use a trick to bypass this issue by using one-Hot encoding.\n",
    "\n",
    "One-hot encoding will create a binary column for each category in the feature. The only downside is that the dimensionality of out data will increase since we have 195 countries in the world. Even though we could maintain dimensionality by using ordinal encoding, we will not use it as it would assign a value to each country, implying a ranking--which is not true in our case. It would, for an example, cluster country 193, 194, 195 together because it would assume they are similiar.\n",
    "\n",
    "This type of feature engineering needs to happen after data splitting into training and test sets to prevent \"data leakage\". Because performing encoding before the split would use information for the entire dataset, including the test set. "
   ]
  },
  {
   "cell_type": "markdown",
   "id": "bmF6pM8vL3VJ",
   "metadata": {
    "id": "bmF6pM8vL3VJ"
   },
   "source": [
    "## Initializing support vector machine **EDIT COMMENTS**"
   ]
  },
  {
   "cell_type": "markdown",
   "id": "a0Akpa14L3VK",
   "metadata": {
    "id": "a0Akpa14L3VK"
   },
   "source": [
    "Our problem is a regression one, not a classification one since we are working with continuous target values (e.g., predicting a numerical value, in our case, happiness)."
   ]
  },
  {
   "cell_type": "code",
   "execution_count": 44,
   "id": "eSLUCHY8L3VK",
   "metadata": {
    "colab": {
     "base_uri": "https://localhost:8080/"
    },
    "collapsed": true,
    "id": "eSLUCHY8L3VK",
    "jupyter": {
     "outputs_hidden": true
    },
    "outputId": "3f630943-4455-40a9-ba7d-531cbaafe6d9"
   },
   "outputs": [
    {
     "name": "stdout",
     "output_type": "stream",
     "text": [
      "Average R^2 Score: 0.8882538776050592\n",
      "Average RMSE: 0.3718669854963271\n",
      "Average Accuracy:  0.8505714968914395\n"
     ]
    }
   ],
   "source": [
    "# Initialize the SVR model\n",
    "model = SVR()\n",
    "\n",
    "# Create an empty list to store scores for each fold\n",
    "r2_scores = []\n",
    "rmse_scores = []\n",
    "accuracy_scores = []\n",
    "\n",
    "# Define the threshold\n",
    "threshold = 0.1  # 10% acceptable limit of error (the percentage of the true value that you'll allow as error)\n",
    "\n",
    "for i in range(kf.get_n_splits()):\n",
    "    # Get the data for this fold\n",
    "    X_train = X_train_list[i]\n",
    "    X_test = X_test_list[i]\n",
    "    y_train = y_train_list[i]\n",
    "    y_test = y_test_list[i]\n",
    "\n",
    "    # Fit the model and make predictions\n",
    "    model.fit(X_train, y_train)\n",
    "    y_pred = model.predict(X_test)\n",
    "\n",
    "    # Calculate and store the performance metrics\n",
    "    r2_scores.append(r2_score(y_test, y_pred))\n",
    "    rmse_scores.append(np.sqrt(mean_squared_error(y_test, y_pred)))\n",
    "\n",
    "    # computing accuracy\n",
    "    relative_error = np.abs((y_test - y_pred) / y_test) # Compute the relative error\n",
    "    correct_predictions = np.sum(relative_error <= threshold) # Count the number of predictions that fall within the threshold\n",
    "    accuracy_scores.append(correct_predictions / len(y_test)) # Compute and store the accuracy for this fold\n",
    "\n",
    "# Print average performance metrics\n",
    "print(\"Average R^2 Score:\", np.mean(r2_scores))\n",
    "print(\"Average RMSE:\", np.mean(rmse_scores))\n",
    "print('Average Accuracy: ', np.mean(accuracy_scores)) # Print average accuracy"
   ]
  },
  {
   "cell_type": "markdown",
   "id": "kTWIAry5MkxG",
   "metadata": {
    "id": "kTWIAry5MkxG"
   },
   "source": [
    "So far we defined and fit the SVM regression model within each fold on the pre-2023 data. Currently, out of the box, our SVM model performed pretty well:\n",
    "\n",
    " R^2 = `0.889`, RMSE = `0.372`, Accuracy = `85.1%`"
   ]
  },
  {
   "cell_type": "markdown",
   "id": "0fpFRRvIL3VK",
   "metadata": {
    "id": "0fpFRRvIL3VK"
   },
   "source": [
    "Accuracy: If the difference between the predicted and actual values falls within this threshold, then the prediction is deemed correct."
   ]
  },
  {
   "cell_type": "markdown",
   "id": "klWfhzl1MDEL",
   "metadata": {
    "id": "klWfhzl1MDEL"
   },
   "source": [
    "## Tune/optimize model parameters"
   ]
  },
  {
   "cell_type": "markdown",
   "id": "fBoUyg9tMDEX",
   "metadata": {
    "id": "fBoUyg9tMDEX"
   },
   "source": [
    "Though our model perfromed quite well, let's find the optimal values for our model paramerts to see if we can improve performance.\n",
    "\n",
    "\n",
    "So let's use cross validation with the hopes of improving the accuracy on the **testing dataset** from the pre-2023 data.\n",
    "\n",
    "Since we have more than one parameter to optimize, we will use GridSearchCV() to test all possible combinations.\n",
    "\n",
    "**Epsilon**: SVR uses the epsilon parameter to specify the epsilon-tube within which no penalty is associated in the training loss function with points predicted within a distance epsilon from the actual value.\n",
    "**C**: Regularization parameter"
   ]
  },
  {
   "cell_type": "markdown",
   "id": "CR7086hORBq2",
   "metadata": {
    "id": "CR7086hORBq2"
   },
   "source": [
    "The below block of code takes ~10min to run. Hence it is commented out for now, but below are the ideal parameters found after running it last time."
   ]
  },
  {
   "cell_type": "markdown",
   "id": "fmeCKqJcMDEY",
   "metadata": {
    "id": "fmeCKqJcMDEY"
   },
   "source": [
    "We see that the ideal parameter values are C = `100`, epsilon = `0.1`, gamma= `'auto'`, and kernel = `rbf`.\n"
   ]
  },
  {
   "cell_type": "code",
   "execution_count": 45,
   "id": "i-WT1aJBMDEX",
   "metadata": {
    "collapsed": true,
    "id": "i-WT1aJBMDEX",
    "jupyter": {
     "outputs_hidden": true
    }
   },
   "outputs": [],
   "source": [
    "# # Define the grid of parameters to search\n",
    "# param_grid = [\n",
    "#     {\n",
    "#         'C': [0.5, 1, 10, 100], # Note: Values of C > 0\n",
    "#         'gamma':['scale', 'auto', 1, 0.1, 0.001, 0.0001],\n",
    "#         'epsilon': [0.1, 0.2, 0.3, 0.4, 0.5, 0.6, 0.7, 0.8, 0.9, 1.0],\n",
    "#         'kernel': ['rbf'] # 'linear' was also previously added, but since gridsearch computed rbf as optimal, we will remove 'linear' to reduce future run time.\n",
    "#     },\n",
    "# ]\n",
    "# # We are including C=1 and gamma=0.1 since they are the default values\n",
    "\n",
    "# # Initialize the grid search\n",
    "# grid_search = GridSearchCV(model,\n",
    "#                            param_grid,\n",
    "#                            cv=kf, # cross-validation splitting strategy. the function will use the k-fold cross-validation strategy defined by the kf object.\n",
    "#                            scoring='neg_mean_squared_error',\n",
    "#                            n_jobs=-1) # n_jobs, the higher number, more messages\n",
    "\n",
    "# # Conduct the grid search\n",
    "# grid_search.fit(X_encoded, y)\n",
    "\n",
    "# print(grid_search.best_params_) # print the optimal parameters"
   ]
  },
  {
   "cell_type": "markdown",
   "id": "3HR0fLH0MIZn",
   "metadata": {
    "id": "3HR0fLH0MIZn"
   },
   "source": [
    "## Building final support vector machine"
   ]
  },
  {
   "cell_type": "code",
   "execution_count": 46,
   "id": "o0sl-t7dMIZ8",
   "metadata": {
    "colab": {
     "base_uri": "https://localhost:8080/"
    },
    "collapsed": true,
    "id": "o0sl-t7dMIZ8",
    "jupyter": {
     "outputs_hidden": true
    },
    "outputId": "df2bca35-ae0c-4134-94dd-205993febb9c"
   },
   "outputs": [
    {
     "name": "stdout",
     "output_type": "stream",
     "text": [
      "Average R^2 Score: 0.8915699608179251\n",
      "Average RMSE: 0.363640060888052\n",
      "Average Accuracy:  0.8505738880918221\n"
     ]
    }
   ],
   "source": [
    "# Initialize the SVR model\n",
    "model = SVR(kernel='rbf', C = 100, epsilon = 0.1, gamma = 'auto')\n",
    "\n",
    "# Create an empty list to store scores for each fold\n",
    "r2_scores = []\n",
    "rmse_scores = []\n",
    "accuracy_scores = []\n",
    "\n",
    "# Define the threshold\n",
    "threshold = 0.1  # 10% acceptable limit of error (the percentage of the true value that you'll allow as error)\n",
    "\n",
    "for i in range(kf.get_n_splits()):\n",
    "    # Get the data for this fold\n",
    "    X_train = X_train_list[i]\n",
    "    X_test = X_test_list[i]\n",
    "    y_train = y_train_list[i]\n",
    "    y_test = y_test_list[i]\n",
    "\n",
    "    # Fit the model and make predictions\n",
    "    model.fit(X_train, y_train)\n",
    "    y_pred = model.predict(X_test)\n",
    "\n",
    "    # Calculate and store the performance metrics\n",
    "    r2_scores.append(r2_score(y_test, y_pred))\n",
    "    rmse_scores.append(np.sqrt(mean_squared_error(y_test, y_pred)))\n",
    "\n",
    "    # computing accuracy\n",
    "    relative_error = np.abs((y_test - y_pred) / y_test) # Compute the relative error\n",
    "    correct_predictions = np.sum(relative_error <= threshold) # Count the number of predictions that fall within the threshold\n",
    "    accuracy_scores.append(correct_predictions / len(y_test)) # Compute and store the accuracy for this fold\n",
    "\n",
    "# Print average performance metrics\n",
    "print(\"Average R^2 Score:\", np.mean(r2_scores))\n",
    "print(\"Average RMSE:\", np.mean(rmse_scores))\n",
    "print('Average Accuracy: ', np.mean(accuracy_scores)) # Print average accuracy"
   ]
  },
  {
   "cell_type": "markdown",
   "id": "oc9AyxAxMIZ9",
   "metadata": {
    "id": "oc9AyxAxMIZ9"
   },
   "source": [
    "Without tuning:  R^2 = `0.889`, RMSE = `0.372`, Accuracy = `85.1%`\n",
    "\n",
    "Aftering tuning: R^2 = `0.892`, RMSE = `0.364`, Accuracy =  `85.1%`\n",
    "\n",
    "The SVM preformed really well straight out of the box, with only slight improvements being added to the R^2 and RSME after optimization, but no changce in accuracy.\n"
   ]
  },
  {
   "cell_type": "markdown",
   "id": "oqFHZpEfRke_",
   "metadata": {
    "id": "oqFHZpEfRke_"
   },
   "source": [
    "## Evaluation: How close is our model predictions to actual 2023 data?"
   ]
  },
  {
   "cell_type": "code",
   "execution_count": 47,
   "id": "I7VrSb_aSJPo",
   "metadata": {
    "colab": {
     "base_uri": "https://localhost:8080/",
     "height": 0
    },
    "collapsed": true,
    "id": "I7VrSb_aSJPo",
    "jupyter": {
     "outputs_hidden": true
    },
    "outputId": "3a33b1b7-692c-41ab-98ef-c3557202bf28"
   },
   "outputs": [
    {
     "data": {
      "image/png": "[encoded data removed]",
      "text/plain": [
       "<Figure size 500x500 with 1 Axes>"
      ]
     },
     "metadata": {},
     "output_type": "display_data"
    }
   ],
   "source": [
    "# Predict the 2023 data using the trained model\n",
    "y_pred_2023 = model.predict(scaler.transform(X_encoded_2023))\n",
    "\n",
    "# Create a scatter plot\n",
    "plt.figure(figsize=(5, 5))\n",
    "plt.scatter(y_2023, y_pred_2023, alpha=0.5)\n",
    "plt.xlabel('Actual happiness scores from 2023')\n",
    "plt.ylabel('Predicted happiness scores by SVM model')\n",
    "plt.title('Predicted 2023 Happiness Scores as a Function of Actual Scores')\n",
    "\n",
    "# Line of equality\n",
    "plt.plot([min(y_2023), max(y_2023)], [min(y_2023), max(y_2023)], color='red')\n",
    "\n",
    "# annotate\n",
    "avg_r2 = np.mean(r2_scores)\n",
    "avg_rmse = np.mean(rmse_scores)\n",
    "plt.annotate(f'R^2 = {avg_r2:.2f}\\nRMSE = {avg_rmse:.2f}', xy=(0.75, 0.05), xycoords='axes fraction')\n",
    "\n",
    "plt.show()"
   ]
  },
  {
   "cell_type": "markdown",
   "id": "y4LfEthyd8yD",
   "metadata": {
    "id": "y4LfEthyd8yD"
   },
   "source": [
    "1. The points fall along the line of equality. The closer the points are to this line, the more accurate the model's predictions are.\n",
    "2. There is a tight cluster of points around the line of equality, implying a more precise model.\n",
    "3. There is no systematic pattern to the points deviating from the line of equality (for example, if points for lower actual values are consistently overpredicted), this could indicate that the model does not have a bias / captures the relationship between the predictors and the outcome variable."
   ]
  },
  {
   "cell_type": "markdown",
   "id": "Jm9cdPQu1Pbj",
   "metadata": {
    "id": "Jm9cdPQu1Pbj"
   },
   "source": [
    "## Further performance evaluations"
   ]
  },
  {
   "cell_type": "markdown",
   "id": "FZcLc3hFjBAM",
   "metadata": {
    "id": "FZcLc3hFjBAM"
   },
   "source": [
    "### Does our prediction model have a lot of error?\n"
   ]
  },
  {
   "cell_type": "markdown",
   "id": "nhhs9qUtkHR4",
   "metadata": {
    "id": "nhhs9qUtkHR4"
   },
   "source": [
    " visualizes the errors in out predictions. Ideally, residuals should be randomly and evenly distributed around the x-axis, and shouldn't form any discernible pattern."
   ]
  },
  {
   "cell_type": "code",
   "execution_count": 48,
   "id": "Lc7UqReujJfV",
   "metadata": {
    "colab": {
     "base_uri": "https://localhost:8080/",
     "height": 0
    },
    "collapsed": true,
    "id": "Lc7UqReujJfV",
    "jupyter": {
     "outputs_hidden": true
    },
    "outputId": "7182ed91-eaff-4ef1-f22b-7d58390d6d73"
   },
   "outputs": [
    {
     "data": {
      "image/png": "[encoded data removed]",
      "text/plain": [
       "<Figure size 640x480 with 1 Axes>"
      ]
     },
     "metadata": {},
     "output_type": "display_data"
    }
   ],
   "source": [
    "residuals = y_test - y_pred\n",
    "plt.scatter(y_pred, residuals)\n",
    "plt.xlabel('Predicted Values')\n",
    "plt.ylabel('Residuals')\n",
    "plt.title('Residual Plot')\n",
    "plt.show()"
   ]
  },
  {
   "cell_type": "markdown",
   "id": "8vunfBcgjY8X",
   "metadata": {
    "id": "8vunfBcgjY8X"
   },
   "source": [
    "### How much are our predictions off by?\n",
    "**What does the distribution mean in plain words?**"
   ]
  },
  {
   "cell_type": "code",
   "execution_count": 49,
   "id": "hFwTn_2Djeha",
   "metadata": {
    "colab": {
     "base_uri": "https://localhost:8080/",
     "height": 0
    },
    "collapsed": true,
    "id": "hFwTn_2Djeha",
    "jupyter": {
     "outputs_hidden": true
    },
    "outputId": "824228d6-859b-440a-fee2-2895c6817f26"
   },
   "outputs": [
    {
     "data": {
      "image/png": "[encoded data removed]",
      "text/plain": [
       "<Figure size 640x480 with 1 Axes>"
      ]
     },
     "metadata": {},
     "output_type": "display_data"
    }
   ],
   "source": [
    "sns.histplot(residuals, kde=True)\n",
    "plt.xlabel('Residuals')\n",
    "plt.title('Distribution of Residuals')\n",
    "plt.show()"
   ]
  },
  {
   "cell_type": "markdown",
   "id": "kE2JnMiegL9v",
   "metadata": {
    "id": "kE2JnMiegL9v"
   },
   "source": [
    "* Hard to predict the future! Just because our model performed well on 2023 data, there is no guarantee it will perform as well on the next year's data. The underlying relationships between variables might change over time. A model can make predictions for 2024, but we won't be able to validate these predictions against actual values as we did for the previous years, because the real 2024 data is not available yet.\n",
    "\n",
    "* If there are large year-to-year fluctuations in happiness scores or the predictors, the model might not produce accurate predictions for 2024.\n",
    "* the predictions are essentially a replication of 2023's data with some minor alterations due to the model. They don't account for potential new information or significant changes that may occur in 2024."
   ]
  },
  {
   "cell_type": "markdown",
   "id": "c3jYUgYmmjvX",
   "metadata": {
    "id": "c3jYUgYmmjvX",
    "tags": []
   },
   "source": [
    "# **Q2:** Can we predict 2024 happiness?"
   ]
  },
  {
   "cell_type": "markdown",
   "id": "sar9XfrUg1hm",
   "metadata": {
    "id": "sar9XfrUg1hm"
   },
   "source": [
    "Since our model performed so well, it is reasonable to try an use to forecast the upcoming year."
   ]
  },
  {
   "cell_type": "markdown",
   "id": "g5kKj1KRIERJ",
   "metadata": {
    "id": "g5kKj1KRIERJ"
   },
   "source": [
    "## Format data"
   ]
  },
  {
   "cell_type": "markdown",
   "id": "5_f1b9LKByT3",
   "metadata": {
    "id": "5_f1b9LKByT3"
   },
   "source": [
    "To avoid data leakage, we need to split our data into training and test sets before scale our data."
   ]
  },
  {
   "cell_type": "markdown",
   "id": "ncvSteTbzLk4",
   "metadata": {
    "id": "ncvSteTbzLk4"
   },
   "source": [
    "### Split the data into dependent and independent variables"
   ]
  },
  {
   "cell_type": "markdown",
   "id": "5Gen_ageBZif",
   "metadata": {
    "id": "5Gen_ageBZif"
   },
   "source": [
    "Where as in the 2023 model, the training and test dataset did not include 2023 data. In this model, 2023 data is included too."
   ]
  },
  {
   "cell_type": "code",
   "execution_count": 365,
   "id": "R_zuaytoIOCw",
   "metadata": {
    "collapsed": true,
    "id": "R_zuaytoIOCw",
    "jupyter": {
     "outputs_hidden": true
    }
   },
   "outputs": [],
   "source": [
    "# we will make a copy of our df so as to not modify the original.\n",
    "X = df.drop('happiness', axis=1).copy()\n",
    "y = df['happiness'].copy()"
   ]
  },
  {
   "cell_type": "markdown",
   "id": "4MUfz0-ek7qv",
   "metadata": {
    "id": "4MUfz0-ek7qv"
   },
   "source": [
    "### One-hot encoding"
   ]
  },
  {
   "cell_type": "code",
   "execution_count": 366,
   "id": "o6SU0p71k7q5",
   "metadata": {
    "colab": {
     "base_uri": "https://localhost:8080/",
     "height": 317
    },
    "collapsed": true,
    "id": "o6SU0p71k7q5",
    "jupyter": {
     "outputs_hidden": true
    },
    "outputId": "5c8cdab9-af41-4ea9-92a3-44bb9d278f39"
   },
   "outputs": [
    {
     "data": {
      "text/html": [
       "<div>\n",
       "<style scoped>\n",
       "    .dataframe tbody tr th:only-of-type {\n",
       "        vertical-align: middle;\n",
       "    }\n",
       "\n",
       "    .dataframe tbody tr th {\n",
       "        vertical-align: top;\n",
       "    }\n",
       "\n",
       "    .dataframe thead th {\n",
       "        text-align: right;\n",
       "    }\n",
       "</style>\n",
       "<table border=\"1\" class=\"dataframe\">\n",
       "  <thead>\n",
       "    <tr style=\"text-align: right;\">\n",
       "      <th></th>\n",
       "      <th>year</th>\n",
       "      <th>GDP</th>\n",
       "      <th>socialSupport</th>\n",
       "      <th>lifeExpectancy</th>\n",
       "      <th>freedom</th>\n",
       "      <th>generosity</th>\n",
       "      <th>corruption</th>\n",
       "      <th>country_Afghanistan</th>\n",
       "      <th>country_Albania</th>\n",
       "      <th>country_Algeria</th>\n",
       "      <th>...</th>\n",
       "      <th>country_United Arab Emirates</th>\n",
       "      <th>country_United Kingdom</th>\n",
       "      <th>country_United States</th>\n",
       "      <th>country_Uruguay</th>\n",
       "      <th>country_Uzbekistan</th>\n",
       "      <th>country_Venezuela</th>\n",
       "      <th>country_Vietnam</th>\n",
       "      <th>country_Yemen</th>\n",
       "      <th>country_Zambia</th>\n",
       "      <th>country_Zimbabwe</th>\n",
       "    </tr>\n",
       "  </thead>\n",
       "  <tbody>\n",
       "    <tr>\n",
       "      <th>0</th>\n",
       "      <td>2008</td>\n",
       "      <td>7.350</td>\n",
       "      <td>0.451</td>\n",
       "      <td>50.5</td>\n",
       "      <td>0.718</td>\n",
       "      <td>0.168</td>\n",
       "      <td>0.882</td>\n",
       "      <td>1</td>\n",
       "      <td>0</td>\n",
       "      <td>0</td>\n",
       "      <td>...</td>\n",
       "      <td>0</td>\n",
       "      <td>0</td>\n",
       "      <td>0</td>\n",
       "      <td>0</td>\n",
       "      <td>0</td>\n",
       "      <td>0</td>\n",
       "      <td>0</td>\n",
       "      <td>0</td>\n",
       "      <td>0</td>\n",
       "      <td>0</td>\n",
       "    </tr>\n",
       "    <tr>\n",
       "      <th>1</th>\n",
       "      <td>2009</td>\n",
       "      <td>7.509</td>\n",
       "      <td>0.552</td>\n",
       "      <td>50.8</td>\n",
       "      <td>0.679</td>\n",
       "      <td>0.191</td>\n",
       "      <td>0.850</td>\n",
       "      <td>1</td>\n",
       "      <td>0</td>\n",
       "      <td>0</td>\n",
       "      <td>...</td>\n",
       "      <td>0</td>\n",
       "      <td>0</td>\n",
       "      <td>0</td>\n",
       "      <td>0</td>\n",
       "      <td>0</td>\n",
       "      <td>0</td>\n",
       "      <td>0</td>\n",
       "      <td>0</td>\n",
       "      <td>0</td>\n",
       "      <td>0</td>\n",
       "    </tr>\n",
       "    <tr>\n",
       "      <th>2</th>\n",
       "      <td>2010</td>\n",
       "      <td>7.614</td>\n",
       "      <td>0.539</td>\n",
       "      <td>51.1</td>\n",
       "      <td>0.600</td>\n",
       "      <td>0.121</td>\n",
       "      <td>0.707</td>\n",
       "      <td>1</td>\n",
       "      <td>0</td>\n",
       "      <td>0</td>\n",
       "      <td>...</td>\n",
       "      <td>0</td>\n",
       "      <td>0</td>\n",
       "      <td>0</td>\n",
       "      <td>0</td>\n",
       "      <td>0</td>\n",
       "      <td>0</td>\n",
       "      <td>0</td>\n",
       "      <td>0</td>\n",
       "      <td>0</td>\n",
       "      <td>0</td>\n",
       "    </tr>\n",
       "    <tr>\n",
       "      <th>3</th>\n",
       "      <td>2011</td>\n",
       "      <td>7.581</td>\n",
       "      <td>0.521</td>\n",
       "      <td>51.4</td>\n",
       "      <td>0.496</td>\n",
       "      <td>0.164</td>\n",
       "      <td>0.731</td>\n",
       "      <td>1</td>\n",
       "      <td>0</td>\n",
       "      <td>0</td>\n",
       "      <td>...</td>\n",
       "      <td>0</td>\n",
       "      <td>0</td>\n",
       "      <td>0</td>\n",
       "      <td>0</td>\n",
       "      <td>0</td>\n",
       "      <td>0</td>\n",
       "      <td>0</td>\n",
       "      <td>0</td>\n",
       "      <td>0</td>\n",
       "      <td>0</td>\n",
       "    </tr>\n",
       "    <tr>\n",
       "      <th>4</th>\n",
       "      <td>2012</td>\n",
       "      <td>7.661</td>\n",
       "      <td>0.521</td>\n",
       "      <td>51.7</td>\n",
       "      <td>0.531</td>\n",
       "      <td>0.238</td>\n",
       "      <td>0.776</td>\n",
       "      <td>1</td>\n",
       "      <td>0</td>\n",
       "      <td>0</td>\n",
       "      <td>...</td>\n",
       "      <td>0</td>\n",
       "      <td>0</td>\n",
       "      <td>0</td>\n",
       "      <td>0</td>\n",
       "      <td>0</td>\n",
       "      <td>0</td>\n",
       "      <td>0</td>\n",
       "      <td>0</td>\n",
       "      <td>0</td>\n",
       "      <td>0</td>\n",
       "    </tr>\n",
       "  </tbody>\n",
       "</table>\n",
       "<p>5 rows × 172 columns</p>\n",
       "</div>"
      ],
      "text/plain": [
       "   year    GDP  socialSupport  lifeExpectancy  freedom  generosity  \\\n",
       "0  2008  7.350          0.451            50.5    0.718       0.168   \n",
       "1  2009  7.509          0.552            50.8    0.679       0.191   \n",
       "2  2010  7.614          0.539            51.1    0.600       0.121   \n",
       "3  2011  7.581          0.521            51.4    0.496       0.164   \n",
       "4  2012  7.661          0.521            51.7    0.531       0.238   \n",
       "\n",
       "   corruption  country_Afghanistan  country_Albania  country_Algeria  ...  \\\n",
       "0       0.882                    1                0                0  ...   \n",
       "1       0.850                    1                0                0  ...   \n",
       "2       0.707                    1                0                0  ...   \n",
       "3       0.731                    1                0                0  ...   \n",
       "4       0.776                    1                0                0  ...   \n",
       "\n",
       "   country_United Arab Emirates  country_United Kingdom  \\\n",
       "0                             0                       0   \n",
       "1                             0                       0   \n",
       "2                             0                       0   \n",
       "3                             0                       0   \n",
       "4                             0                       0   \n",
       "\n",
       "   country_United States  country_Uruguay  country_Uzbekistan  \\\n",
       "0                      0                0                   0   \n",
       "1                      0                0                   0   \n",
       "2                      0                0                   0   \n",
       "3                      0                0                   0   \n",
       "4                      0                0                   0   \n",
       "\n",
       "   country_Venezuela  country_Vietnam  country_Yemen  country_Zambia  \\\n",
       "0                  0                0              0               0   \n",
       "1                  0                0              0               0   \n",
       "2                  0                0              0               0   \n",
       "3                  0                0              0               0   \n",
       "4                  0                0              0               0   \n",
       "\n",
       "   country_Zimbabwe  \n",
       "0                 0  \n",
       "1                 0  \n",
       "2                 0  \n",
       "3                 0  \n",
       "4                 0  \n",
       "\n",
       "[5 rows x 172 columns]"
      ]
     },
     "execution_count": 366,
     "metadata": {},
     "output_type": "execute_result"
    }
   ],
   "source": [
    "X_encoded = pd.get_dummies(X, columns=['country'])\n",
    "X_encoded.head()"
   ]
  },
  {
   "cell_type": "markdown",
   "id": "CQeajNpNFqRr",
   "metadata": {
    "id": "CQeajNpNFqRr"
   },
   "source": [
    "### Splitting into training and test set & scaling"
   ]
  },
  {
   "cell_type": "code",
   "execution_count": 367,
   "id": "1LfNRhVrQWtc",
   "metadata": {
    "collapsed": true,
    "id": "1LfNRhVrQWtc",
    "jupyter": {
     "outputs_hidden": true
    }
   },
   "outputs": [],
   "source": [
    "# lets create folds and tell the KFold function whether or not to shuffle the data beforehand.\n",
    "kf = KFold(n_splits=10, shuffle=True, random_state=1)\n",
    "\n",
    "# Initialize the scaler\n",
    "scaler = StandardScaler()\n",
    "\n",
    "# Prepare empty lists to hold the training and testing data for each fold\n",
    "X_train_list, X_test_list = [], []\n",
    "y_train_list, y_test_list = [], []\n",
    "\n",
    "for train_index, test_index in kf.split(X_encoded):\n",
    "    # Split the data\n",
    "    X_train, X_test = X_encoded.iloc[train_index], X_encoded.iloc[test_index]\n",
    "    y_train, y_test = y.iloc[train_index], y.iloc[test_index]\n",
    "\n",
    "    # Fit the scaler on the training set and transform both sets\n",
    "    X_train = scaler.fit_transform(X_train)\n",
    "    X_test = scaler.transform(X_test)\n",
    "\n",
    "    # Append to the lists\n",
    "    X_train_list.append(X_train)\n",
    "    X_test_list.append(X_test)\n",
    "    y_train_list.append(y_train)\n",
    "    y_test_list.append(y_test)"
   ]
  },
  {
   "cell_type": "markdown",
   "id": "OdAxws60khnj",
   "metadata": {
    "id": "OdAxws60khnj"
   },
   "source": [
    "## Building support vector machine"
   ]
  },
  {
   "cell_type": "code",
   "execution_count": 53,
   "id": "-coe6XV7kluD",
   "metadata": {
    "colab": {
     "base_uri": "https://localhost:8080/"
    },
    "collapsed": true,
    "id": "-coe6XV7kluD",
    "jupyter": {
     "outputs_hidden": true
    },
    "outputId": "4a05f12f-56f6-49cc-b550-65448f6e9e53"
   },
   "outputs": [
    {
     "name": "stdout",
     "output_type": "stream",
     "text": [
      "Average R^2 Score: 0.8976094975041727\n",
      "Average RMSE: 0.35793757576772134\n",
      "Average Accuracy:  0.8625820769597594\n"
     ]
    }
   ],
   "source": [
    "# Initialize the SVR model\n",
    "model = SVR(kernel='rbf', C = 100, epsilon = 0.1, gamma = 'auto')\n",
    "\n",
    "# Create an empty list to store scores for each fold\n",
    "r2_scores = []\n",
    "rmse_scores = []\n",
    "accuracy_scores = []\n",
    "\n",
    "# Define the threshold\n",
    "threshold = 0.1  # 10% acceptable limit of error (the percentage of the true value that you'll allow as error)\n",
    "\n",
    "for i in range(kf.get_n_splits()):\n",
    "    # Get the data for this fold\n",
    "    X_train = X_train_list[i]\n",
    "    X_test = X_test_list[i]\n",
    "    y_train = y_train_list[i]\n",
    "    y_test = y_test_list[i]\n",
    "\n",
    "    # Fit the model and make predictions\n",
    "    model.fit(X_train, y_train)\n",
    "    y_pred = model.predict(X_test)\n",
    "\n",
    "    # Calculate and store the performance metrics\n",
    "    r2_scores.append(r2_score(y_test, y_pred))\n",
    "    rmse_scores.append(np.sqrt(mean_squared_error(y_test, y_pred)))\n",
    "\n",
    "    # computing accuracy\n",
    "    relative_error = np.abs((y_test - y_pred) / y_test) # Compute the relative error\n",
    "    correct_predictions = np.sum(relative_error <= threshold) # Count the number of predictions that fall within the threshold\n",
    "    accuracy_scores.append(correct_predictions / len(y_test)) # Compute and store the accuracy for this fold\n",
    "\n",
    "# Print average performance metrics\n",
    "print(\"Average R^2 Score:\", np.mean(r2_scores))\n",
    "print(\"Average RMSE:\", np.mean(rmse_scores))\n",
    "print('Average Accuracy: ', np.mean(accuracy_scores)) # Print average accuracy"
   ]
  },
  {
   "cell_type": "markdown",
   "id": "905a88a8-cdb2-48b8-8b24-fe91fec6447e",
   "metadata": {},
   "source": [
    "these metrics are computed within a cross-validation loop for the support vector regression model. This is what is happening:\n",
    "\n",
    "1. In each fold of the cross-validation, the dataset is split into a training set (X_train, y_train) and a testing set (X_test, y_test). The specific split depends on the fold - different folds will have different splits of the data into training and testing sets.\n",
    "2. The model is then fitted on the training data and used to predict the outputs (y_pred) for the test data (X_test).\n",
    "3. These predictions are then compared to the true outputs for the test data (y_test) to compute the R^2 score, the root mean square error (RMSE), and the accuracy.\n",
    "These are the metrics computed based on the predicted and actual values within each cross-validation fold (not on the actual 2023 and predicted 2024 values).\n",
    "\n",
    "Why are we doing this? By computing the metrics on the predicted and actual values within each cross-validation fold during the model training and validation phase, we can estimate how well the model is expected to perform on unseen 2024 data based on our available data."
   ]
  },
  {
   "cell_type": "markdown",
   "id": "jS_XMJizk4Tq",
   "metadata": {
    "id": "jS_XMJizk4Tq"
   },
   "source": [
    " R^2 = `0.898`, RMSE = `0.358`, Accuracy =  `86.3%`\n",
    "\n",
    "The SVM preformed really well.\n"
   ]
  },
  {
   "cell_type": "markdown",
   "id": "rhPsNritwUNv",
   "metadata": {
    "id": "rhPsNritwUNv"
   },
   "source": [
    "## Preparing X variables for 2024 forecasting"
   ]
  },
  {
   "cell_type": "markdown",
   "id": "kQEbBAYYwa8q",
   "metadata": {
    "id": "kQEbBAYYwa8q"
   },
   "source": [
    "After training our Support Vector Machine model on the data from 2005-2023, we will use this trained model to forecast the 'happiness' score (y) for the year 2024.\n",
    "\n",
    "However, in order to make this prediction, we will first need the predictor variables (X) for the year 2024.\n",
    "\n",
    "Since the predictor variables for 2024 are time-independent, we can simply extract the most recent available data for those variables."
   ]
  },
  {
   "cell_type": "code",
   "execution_count": 368,
   "id": "gx11SxNSwZiI",
   "metadata": {
    "collapsed": true,
    "id": "gx11SxNSwZiI",
    "jupyter": {
     "outputs_hidden": true
    }
   },
   "outputs": [],
   "source": [
    "X_2024 = df[df['year'] == 2023] # Get the most recent data for each country\n",
    "X_2024 = X_2024.drop('happiness', axis=1) # Remove the 'happiness' column, as it's the target variable\n",
    "\n",
    "# we need to make sure X_2024 is processed in the same way as our training data (2005-2023)\n",
    "\n",
    "# One-hot encode the 'country' column to match the training data\n",
    "X_2024_encoded = pd.get_dummies(X_2024, columns=['country'])\n",
    "\n",
    "# Ensure that the 2024 data has the same columns as the training data\n",
    "missing_cols = set(X_encoded.columns) - set(X_2024_encoded.columns)\n",
    "for c in missing_cols:\n",
    "    X_2024_encoded[c] = 0\n",
    "\n",
    "# Make sure the columns are in the same order as in the training data\n",
    "X_2024_encoded = X_2024_encoded[X_encoded.columns]\n",
    "\n",
    "# Scale the 2024 data using the same scaler object used on the training data\n",
    "X_2024_scaled = scaler.transform(X_2024_encoded)"
   ]
  },
  {
   "cell_type": "markdown",
   "id": "a6056a01-a76b-4c86-820e-0519198ee888",
   "metadata": {},
   "source": [
    "Let's add confidence intervals for our prediction. \n",
    "\n",
    "Since SVMs are not probailistic models, they do not inherently provide a way for us to calculate confidence intervals (unlike e.g., linear regression). However, we can use a rough approach to generate confidence intervals for our model through bootstrapping. Using bootstrapping will allow us to draw samples from the dataset we used to predict 2024 data. It then replaces the taken samples to fit the model again and again, giving us a distribution of the estimates. With this distribution, we can take it's percentiles to create confidence intervals.\n",
    "\n",
    "In SVMs, these intervals do not necessarily capture the model's uncertainty about its predictions (unlike models that assume a normal distribution e.g., bayesian model), but rather the variability in the predictions that arises when re-fitting the model to different samples of the data.\n",
    "\n",
    "A 95% confidence interval, in our case, means that if we were to repeat the sampling process many times, we would expect the true value to fall within this interval 95% of the time. However, this interpretation doesn't imply that there's a 95% chance the true value is within the interval; rather, it's a statement about the method's reliability if the process was repeated many times."
   ]
  },
  {
   "cell_type": "markdown",
   "id": "d52c721f-eb84-4cf8-90d3-bf59b40f71cd",
   "metadata": {},
   "source": [
    "Bootstrapping is very computationally expensive. In our case, it took **1hr 7min**. To save on time for future runs on this script, we have **commented-out the actual code** and also saved the results from initial bootstrapping into `bootstrap_predictions` incase the kernel is reset. However, if any changes are made to the model or dataset, then the below block will need to be re-run."
   ]
  },
  {
   "cell_type": "code",
   "execution_count": 120,
   "id": "c5ccf457-b7bb-4167-aa12-fc2ef2d72208",
   "metadata": {
    "collapsed": true,
    "jupyter": {
     "outputs_hidden": true
    }
   },
   "outputs": [
    {
     "name": "stdout",
     "output_type": "stream",
     "text": [
      "Execution time:  4049.783894777298 seconds\n"
     ]
    }
   ],
   "source": [
    "# import time # we will add a timer to see how long it takes to bootstrap our model.\n",
    "# start_time = time.time()\n",
    "\n",
    "# from sklearn.utils import resample\n",
    "\n",
    "# # Initialize the SVR model\n",
    "# model = SVR(kernel='rbf', C = 100, epsilon = 0.1, gamma = 'auto')\n",
    "\n",
    "# n_iterations = 1000  # Number of bootstrap samples to create\n",
    "# bootstrap_prediction_list = []\n",
    "\n",
    "# # Fitting and evaluating the model for each fold\n",
    "# for i in range(kf.get_n_splits()):\n",
    "#     # Get the data for this fold\n",
    "#     X_train = X_train_list[i]\n",
    "#     X_test = X_test_list[i]\n",
    "#     y_train = y_train_list[i]\n",
    "#     y_test = y_test_list[i]\n",
    "\n",
    "#     # Fitting the model and make predictions\n",
    "#     model.fit(X_train, y_train)\n",
    "\n",
    "#     for _ in range(n_iterations):\n",
    "#         # Preparing a bootstrap sample\n",
    "#         X_train_resample, y_train_resample = resample(X_train, y_train)\n",
    "        \n",
    "#         # Fitting model on the bootstrap sample\n",
    "#         model_resample = SVR(kernel='rbf', C = 100, epsilon = 0.1, gamma = 'auto').fit(X_train_resample, y_train_resample)\n",
    "        \n",
    "#         # Predicting on the 2024 data\n",
    "#         y_pred_2024_resample = model_resample.predict(X_2024_scaled)\n",
    "        \n",
    "#         bootstrap_prediction_list.append(y_pred_2024_resample)\n",
    "\n",
    "# bootstrap_predictions = np.array(bootstrap_prediction_list)\n",
    "\n",
    "# # Calculating lower and upper percentiles\n",
    "# lower = np.percentile(bootstrap_predictions, 2.5, axis=0)\n",
    "# upper = np.percentile(bootstrap_predictions, 97.5, axis=0)\n",
    "\n",
    "\n",
    "\n",
    "\n",
    "# end_time = time.time()\n",
    "# print(\"Execution time: \", end_time - start_time, \"seconds\")"
   ]
  },
  {
   "cell_type": "markdown",
   "id": "0fbf915e-7edd-43ab-9e87-55fb5c493325",
   "metadata": {},
   "source": [
    "let's save the bootstrapping results in a new dataframe so that we don't have to run the above block again."
   ]
  },
  {
   "cell_type": "code",
   "execution_count": 369,
   "id": "07ffccf9-e506-4bf6-be9f-3695173d6dbc",
   "metadata": {
    "collapsed": true,
    "jupyter": {
     "outputs_hidden": true
    }
   },
   "outputs": [],
   "source": [
    "# save Cl to csv file (create data frame, then save as a csv)\n",
    "confidence_intervals = pd.DataFrame( \n",
    "    {'lower': lower,\n",
    "     'upper': upper}\n",
    ")\n",
    "confidence_intervals.to_csv('Pipeline Outputs/confidence_intervals.csv', index=False) \n",
    "\n",
    "# we can then read the data back in \n",
    "np.savez('Pipeline Outputs/confidence_intervals.npz', lower=lower, upper=upper) # Save to a numpy file\n",
    "\n",
    "# bring data back\n",
    "data = np.load('Pipeline Outputs/confidence_intervals.npz')\n",
    "lower = data['lower']\n",
    "upper = data['upper']"
   ]
  },
  {
   "cell_type": "markdown",
   "id": "85a20e3a-ca09-4e7c-b16c-888f0eef3cfe",
   "metadata": {},
   "source": [
    "Create a plot with the confidence intervals."
   ]
  },
  {
   "cell_type": "code",
   "execution_count": 370,
   "id": "8d797ecf-e35e-48c2-b513-36566470c5b3",
   "metadata": {
    "collapsed": true,
    "jupyter": {
     "outputs_hidden": true
    }
   },
   "outputs": [
    {
     "data": {
      "image/png": "[encoded data removed]",
      "text/plain": [
       "<Figure size 2700x600 with 1 Axes>"
      ]
     },
     "metadata": {},
     "output_type": "display_data"
    }
   ],
   "source": [
    "sns.set_style(\"whitegrid\")\n",
    "sns.set_context(\"notebook\", font_scale=1.5)\n",
    "\n",
    "plt.figure(figsize=(27, 6))\n",
    "\n",
    "# actual 2023 happiness scores\n",
    "plt.plot(df_2023_sorted['country'], df_2023_sorted['happiness'], label='2023 Actual', color='blue', linewidth=1.5)\n",
    "\n",
    "# forecast\n",
    "plt.plot(df_pred_2024_sorted['country'], df_pred_2024_sorted['happiness'], label='2024 Forecast', color='red', linestyle='dashed', linewidth=3.5)\n",
    "\n",
    "# Add the confidence intervals to the plot\n",
    "plt.fill_between(df_lower_sorted['country'], df_lower_sorted['happiness'], df_upper_sorted['happiness'], color='skyblue', alpha=0.2)\n",
    "\n",
    "# Add annotation to show where the UAE is\n",
    "# Get the index of UAE in 2024 predictions\n",
    "index_uae = df_pred_2024_sorted[df_pred_2024_sorted['country']=='United Arab Emirates'].index[0]\n",
    "# Get the happiness score of UAE in 2024 predictions\n",
    "happiness_uae = df_pred_2024_sorted.loc[index_uae, 'happiness']\n",
    "\n",
    "plt.annotate('UAE Forecast', \n",
    "             xy=('United Arab Emirates', happiness_uae), \n",
    "             xytext=(-90, -120),\n",
    "             textcoords='offset points', \n",
    "             color = 'green',\n",
    "             weight = 'bold',\n",
    "             arrowprops=dict(facecolor='green', \n",
    "                             shrink=0.15, width=5, headwidth=20, headlength=30),\n",
    "             fontsize=24)\n",
    "# styling\n",
    "plt.xlabel('Country', fontsize=34)\n",
    "plt.ylabel('Happiness score', fontsize=34)\n",
    "plt.title('Comparison of Actual 2023 and Forecasted 2024 Happiness Scores for Each Country', fontsize=34)\n",
    "#plt.xticks(fontsize=12, rotation=90) # Rotate x-axis labels for better readability\n",
    "plt.xticks([])\n",
    "plt.yticks([])\n",
    "plt.yticks(fontsize=12)\n",
    "plt.legend(['2023 Actual', '2024 Forecast', '95% Confidence Interval'], fontsize=20)\n",
    "\n",
    "# Remove grid lines and set background to white\n",
    "plt.grid(False)\n",
    "plt.gca().set_facecolor('white')\n",
    "\n",
    "plt.tight_layout() # ensures that the full labels of the x-axis are displayed\n",
    "plt.savefig('Pipeline Outputs/Figures/happiness_forecast.png')\n",
    "\n",
    "plt.show()\n"
   ]
  },
  {
   "cell_type": "markdown",
   "id": "592c4886-efcf-4619-9cd6-10b2cce3d58f",
   "metadata": {},
   "source": [
    "Visually, it seems like all countries have a forecast that falls in the confidence interval. However, it is hard to tell for Finland, denmark and iceland if that is actually the case. Let's check:"
   ]
  },
  {
   "cell_type": "code",
   "execution_count": 371,
   "id": "5f8eefaf-b558-42b8-9ada-38b1498d5356",
   "metadata": {
    "collapsed": true,
    "jupyter": {
     "outputs_hidden": true
    }
   },
   "outputs": [
    {
     "name": "stdout",
     "output_type": "stream",
     "text": [
      "All countries fall within the confidence interval.\n"
     ]
    }
   ],
   "source": [
    "# Merge all predictions and their confidence intervals into a single DataFrame\n",
    "df_all = df_pred_2024_sorted.merge(df_lower_sorted, on='country', suffixes=('_pred', '_lower'))\n",
    "df_all = df_all.merge(df_upper_sorted, on='country')\n",
    "df_all.rename(columns={'happiness': 'happiness_upper'}, inplace=True)\n",
    "\n",
    "outliers = [] # Initialize a list to hold the names of countries that do not fall within the confidence interval\n",
    "\n",
    "# Check each country\n",
    "for i in df_all.index:\n",
    "    if not df_all.loc[i, 'happiness_lower'] <= df_all.loc[i, 'happiness_pred'] <= df_all.loc[i, 'happiness_upper']:\n",
    "        outliers.append(df_all.loc[i, 'country'])\n",
    "\n",
    "# Print \n",
    "if outliers:\n",
    "    print(\"The following countries do not fall within the confidence interval:\")\n",
    "    for country in outliers:\n",
    "        print(country)\n",
    "else:\n",
    "    print(\"All countries fall within the confidence interval.\")"
   ]
  },
  {
   "cell_type": "markdown",
   "id": "8cbab30f-96d6-4184-a34c-f66631b13f42",
   "metadata": {},
   "source": [
    "Since no prediction falls outside the confidence interval, it suggests that the model's prediction is in line with the variability observed in the data during bootstrapping. However, we need to remeber that there is an implication that we expect 5% of predictions to fall outside the interval due to random variation alone. But overall, since the 2024 model's predictions frequently fall inside the confidence interval, we are able to capture the most important aspects of the data.\n",
    "\n",
    "We cannot further asses the performance of the 2024 regression model since since we are trying to forecast future unseen data. We cannot validate these predictions until the actual 2024 data is released in order to compute metrics such as R^2, RMSE, and accuracy for the 2024 forecasts. We did however previsiously train the SVM model, conducted cross-validation, and calculated the associated metrics on the cross-validation folds, which gave us an estimate of how well our model generalizes to unseen data based on the training data we had available (in this case, data up to and including 2023)."
   ]
  },
  {
   "cell_type": "markdown",
   "id": "54fa3bfc-0d24-42c0-b789-71a8ef3e537f",
   "metadata": {},
   "source": [
    "Let's visualize the percent changes for each country."
   ]
  },
  {
   "cell_type": "code",
   "execution_count": 372,
   "id": "ypI6pSnr0lfl",
   "metadata": {
    "collapsed": true,
    "id": "ypI6pSnr0lfl",
    "jupyter": {
     "outputs_hidden": true
    },
    "tags": []
   },
   "outputs": [],
   "source": [
    "df_2024 = pd.DataFrame({\n",
    "    'country': X_2024['country'],\n",
    "    '2023_value': df[df['year'] == 2023]['happiness'],  # Get 2023 happiness values from the original dataframe\n",
    "    'predicted_2024_value': y_pred_2024\n",
    "})\n",
    "\n",
    "# Calculate the percent change from 2023 to 2024\n",
    "df_2024['percent_change'] = ((df_2024['predicted_2024_value'] - df_2024['2023_value']) / df_2024['2023_value']) * 100"
   ]
  },
  {
   "cell_type": "code",
   "execution_count": 293,
   "id": "af8fdba5-a925-4a4f-805d-762bd95f80ae",
   "metadata": {
    "collapsed": true,
    "jupyter": {
     "outputs_hidden": true
    }
   },
   "outputs": [
    {
     "data": {
      "text/html": [
       "<div>\n",
       "<style scoped>\n",
       "    .dataframe tbody tr th:only-of-type {\n",
       "        vertical-align: middle;\n",
       "    }\n",
       "\n",
       "    .dataframe tbody tr th {\n",
       "        vertical-align: top;\n",
       "    }\n",
       "\n",
       "    .dataframe thead th {\n",
       "        text-align: right;\n",
       "    }\n",
       "</style>\n",
       "<table border=\"1\" class=\"dataframe\">\n",
       "  <thead>\n",
       "    <tr style=\"text-align: right;\">\n",
       "      <th></th>\n",
       "      <th>country</th>\n",
       "      <th>2023_value</th>\n",
       "      <th>predicted_2024_value</th>\n",
       "      <th>percent_change</th>\n",
       "      <th>Change</th>\n",
       "    </tr>\n",
       "  </thead>\n",
       "  <tbody>\n",
       "    <tr>\n",
       "      <th>36</th>\n",
       "      <td>Malta</td>\n",
       "      <td>6.300</td>\n",
       "      <td>6.614762</td>\n",
       "      <td>4.996226</td>\n",
       "      <td>Positive</td>\n",
       "    </tr>\n",
       "    <tr>\n",
       "      <th>90</th>\n",
       "      <td>Guinea</td>\n",
       "      <td>5.072</td>\n",
       "      <td>5.291386</td>\n",
       "      <td>4.325441</td>\n",
       "      <td>Positive</td>\n",
       "    </tr>\n",
       "    <tr>\n",
       "      <th>134</th>\n",
       "      <td>Sierra Leone</td>\n",
       "      <td>3.138</td>\n",
       "      <td>3.262106</td>\n",
       "      <td>3.954933</td>\n",
       "      <td>Positive</td>\n",
       "    </tr>\n",
       "    <tr>\n",
       "      <th>92</th>\n",
       "      <td>Ivory Coast</td>\n",
       "      <td>5.053</td>\n",
       "      <td>5.246733</td>\n",
       "      <td>3.834026</td>\n",
       "      <td>Positive</td>\n",
       "    </tr>\n",
       "    <tr>\n",
       "      <th>121</th>\n",
       "      <td>Togo</td>\n",
       "      <td>4.137</td>\n",
       "      <td>4.286420</td>\n",
       "      <td>3.611797</td>\n",
       "      <td>Positive</td>\n",
       "    </tr>\n",
       "    <tr>\n",
       "      <th>93</th>\n",
       "      <td>Gabon</td>\n",
       "      <td>5.035</td>\n",
       "      <td>5.214204</td>\n",
       "      <td>3.559168</td>\n",
       "      <td>Positive</td>\n",
       "    </tr>\n",
       "    <tr>\n",
       "      <th>25</th>\n",
       "      <td>United Arab Emirates</td>\n",
       "      <td>6.571</td>\n",
       "      <td>6.789765</td>\n",
       "      <td>3.329248</td>\n",
       "      <td>Positive</td>\n",
       "    </tr>\n",
       "    <tr>\n",
       "      <th>49</th>\n",
       "      <td>El Salvador</td>\n",
       "      <td>6.122</td>\n",
       "      <td>6.303844</td>\n",
       "      <td>2.970329</td>\n",
       "      <td>Positive</td>\n",
       "    </tr>\n",
       "    <tr>\n",
       "      <th>129</th>\n",
       "      <td>Comoros</td>\n",
       "      <td>3.545</td>\n",
       "      <td>3.645491</td>\n",
       "      <td>2.834735</td>\n",
       "      <td>Positive</td>\n",
       "    </tr>\n",
       "    <tr>\n",
       "      <th>126</th>\n",
       "      <td>Madagascar</td>\n",
       "      <td>4.019</td>\n",
       "      <td>4.119212</td>\n",
       "      <td>2.493462</td>\n",
       "      <td>Positive</td>\n",
       "    </tr>\n",
       "    <tr>\n",
       "      <th>111</th>\n",
       "      <td>Sri Lanka</td>\n",
       "      <td>4.442</td>\n",
       "      <td>4.342334</td>\n",
       "      <td>-2.243708</td>\n",
       "      <td>Negative</td>\n",
       "    </tr>\n",
       "    <tr>\n",
       "      <th>122</th>\n",
       "      <td>Jordan</td>\n",
       "      <td>4.120</td>\n",
       "      <td>4.020427</td>\n",
       "      <td>-2.416821</td>\n",
       "      <td>Negative</td>\n",
       "    </tr>\n",
       "    <tr>\n",
       "      <th>127</th>\n",
       "      <td>Zambia</td>\n",
       "      <td>3.982</td>\n",
       "      <td>3.881832</td>\n",
       "      <td>-2.515509</td>\n",
       "      <td>Negative</td>\n",
       "    </tr>\n",
       "    <tr>\n",
       "      <th>131</th>\n",
       "      <td>Botswana</td>\n",
       "      <td>3.435</td>\n",
       "      <td>3.334908</td>\n",
       "      <td>-2.913878</td>\n",
       "      <td>Negative</td>\n",
       "    </tr>\n",
       "    <tr>\n",
       "      <th>135</th>\n",
       "      <td>Lebanon</td>\n",
       "      <td>2.392</td>\n",
       "      <td>2.315715</td>\n",
       "      <td>-3.189190</td>\n",
       "      <td>Negative</td>\n",
       "    </tr>\n",
       "    <tr>\n",
       "      <th>99</th>\n",
       "      <td>Morocco</td>\n",
       "      <td>4.903</td>\n",
       "      <td>4.742987</td>\n",
       "      <td>-3.263580</td>\n",
       "      <td>Negative</td>\n",
       "    </tr>\n",
       "    <tr>\n",
       "      <th>136</th>\n",
       "      <td>Afghanistan</td>\n",
       "      <td>1.859</td>\n",
       "      <td>1.786847</td>\n",
       "      <td>-3.881295</td>\n",
       "      <td>Negative</td>\n",
       "    </tr>\n",
       "    <tr>\n",
       "      <th>87</th>\n",
       "      <td>Venezuela</td>\n",
       "      <td>5.211</td>\n",
       "      <td>4.981750</td>\n",
       "      <td>-4.399350</td>\n",
       "      <td>Negative</td>\n",
       "    </tr>\n",
       "    <tr>\n",
       "      <th>125</th>\n",
       "      <td>India</td>\n",
       "      <td>4.036</td>\n",
       "      <td>3.798850</td>\n",
       "      <td>-5.875860</td>\n",
       "      <td>Negative</td>\n",
       "    </tr>\n",
       "    <tr>\n",
       "      <th>123</th>\n",
       "      <td>Ethiopia</td>\n",
       "      <td>4.091</td>\n",
       "      <td>3.834486</td>\n",
       "      <td>-6.270211</td>\n",
       "      <td>Negative</td>\n",
       "    </tr>\n",
       "  </tbody>\n",
       "</table>\n",
       "</div>"
      ],
      "text/plain": [
       "                  country  2023_value  predicted_2024_value  percent_change  \\\n",
       "36                  Malta       6.300              6.614762        4.996226   \n",
       "90                 Guinea       5.072              5.291386        4.325441   \n",
       "134          Sierra Leone       3.138              3.262106        3.954933   \n",
       "92            Ivory Coast       5.053              5.246733        3.834026   \n",
       "121                  Togo       4.137              4.286420        3.611797   \n",
       "93                  Gabon       5.035              5.214204        3.559168   \n",
       "25   United Arab Emirates       6.571              6.789765        3.329248   \n",
       "49            El Salvador       6.122              6.303844        2.970329   \n",
       "129               Comoros       3.545              3.645491        2.834735   \n",
       "126            Madagascar       4.019              4.119212        2.493462   \n",
       "111             Sri Lanka       4.442              4.342334       -2.243708   \n",
       "122                Jordan       4.120              4.020427       -2.416821   \n",
       "127                Zambia       3.982              3.881832       -2.515509   \n",
       "131              Botswana       3.435              3.334908       -2.913878   \n",
       "135               Lebanon       2.392              2.315715       -3.189190   \n",
       "99                Morocco       4.903              4.742987       -3.263580   \n",
       "136           Afghanistan       1.859              1.786847       -3.881295   \n",
       "87              Venezuela       5.211              4.981750       -4.399350   \n",
       "125                 India       4.036              3.798850       -5.875860   \n",
       "123              Ethiopia       4.091              3.834486       -6.270211   \n",
       "\n",
       "       Change  \n",
       "36   Positive  \n",
       "90   Positive  \n",
       "134  Positive  \n",
       "92   Positive  \n",
       "121  Positive  \n",
       "93   Positive  \n",
       "25   Positive  \n",
       "49   Positive  \n",
       "129  Positive  \n",
       "126  Positive  \n",
       "111  Negative  \n",
       "122  Negative  \n",
       "127  Negative  \n",
       "131  Negative  \n",
       "135  Negative  \n",
       "99   Negative  \n",
       "136  Negative  \n",
       "87   Negative  \n",
       "125  Negative  \n",
       "123  Negative  "
      ]
     },
     "execution_count": 293,
     "metadata": {},
     "output_type": "execute_result"
    }
   ],
   "source": [
    "df_2024_merged"
   ]
  },
  {
   "cell_type": "code",
   "execution_count": 307,
   "id": "e6c0bbef-eb50-4f52-ad88-a67ae435d553",
   "metadata": {
    "collapsed": true,
    "jupyter": {
     "outputs_hidden": true
    }
   },
   "outputs": [
    {
     "data": {
      "image/png": "[encoded data removed]",
      "text/plain": [
       "<Figure size 1000x400 with 1 Axes>"
      ]
     },
     "metadata": {},
     "output_type": "display_data"
    }
   ],
   "source": [
    "df_2024_positive = df_2024[df_2024['percent_change'] > 0].sort_values('percent_change', ascending=False).head(10)\n",
    "\n",
    "df_2024_negative = df_2024[df_2024['percent_change'] < 0].sort_values('percent_change', ascending=True).head(10)\n",
    "df_2024_negative = df_2024_negative.sort_values('percent_change', ascending=False)\n",
    "\n",
    "df_2024_positive['Change'] = 'Positive'\n",
    "df_2024_negative['Change'] = 'Negative'\n",
    "\n",
    "df_2024_merged = pd.concat([df_2024_positive, df_2024_negative])\n",
    "\n",
    "plt.figure(figsize=(10, 4))\n",
    "sns.barplot(data=df_2024_merged, y='country', x='percent_change', hue='Change', palette=['lightgreen', 'salmon'])\n",
    "plt.xlabel('Change in happiness (%)',fontsize=13)\n",
    "plt.ylabel('')\n",
    "plt.yticks(fontsize=10)\n",
    "plt.xticks(fontsize=10)\n",
    "for label in plt.gca().get_yticklabels(): # Highlight 'United Arab Emirates' y label\n",
    "    if label.get_text() == 'United Arab Emirates':\n",
    "        label.set_color('green')  \n",
    "        label.set_weight('bold')  \n",
    "        label.set_size(12)  \n",
    "        \n",
    "plt.title('Top 10 Countries with Highest Percent Changes in Happiness from 2023 to Predicted 2024', fontsize=13)\n",
    "plt.legend().remove()\n",
    "plt.savefig('Pipeline Outputs/Figures/happiness_forecast_percentage_change.png', bbox_inches='tight')\n",
    "\n",
    "plt.tight_layout()\n",
    "plt.show()\n"
   ]
  },
  {
   "cell_type": "markdown",
   "id": "BQTlPmRkgJIv",
   "metadata": {
    "id": "BQTlPmRkgJIv",
    "tags": []
   },
   "source": [
    "## Limitations"
   ]
  },
  {
   "cell_type": "markdown",
   "id": "w03MJZ25fBs-",
   "metadata": {
    "id": "w03MJZ25fBs-",
    "tags": []
   },
   "source": [
    "#  **Q3:** Which variables are most strongly associated with happiness?\n",
    "\n"
   ]
  },
  {
   "cell_type": "markdown",
   "id": "CsSR_0BR9Qbq",
   "metadata": {
    "id": "CsSR_0BR9Qbq"
   },
   "source": [
    "Looking at the forecast for global happiness in the upcoming year is interesting. For an example, the UAE is expected to witness the largest positive change in their happiness compared to other countries.\n",
    "\n",
    "What would be even more interesting, is to investigate what are the most salient features that associated with predicting happiness on a global scale. "
   ]
  },
  {
   "cell_type": "markdown",
   "id": "U9JjW0G-AL3X",
   "metadata": {
    "id": "U9JjW0G-AL3X"
   },
   "source": [
    "## Which variables have the largest influence on determining happiness?"
   ]
  },
  {
   "cell_type": "markdown",
   "id": "pvRzvZHZJS0W",
   "metadata": {
    "id": "pvRzvZHZJS0W"
   },
   "source": [
    "[Reference](https://medium.com/@T_Jen/feature-importance-for-any-model-using-permutation-7997b7287aa) used to write this code."
   ]
  },
  {
   "cell_type": "markdown",
   "id": "dnc50kY-SdG_",
   "metadata": {
    "id": "dnc50kY-SdG_"
   },
   "source": [
    "In this code, we calculate the permutation importances for each split in the KFold cross-validation. Then we store these importances in a DataFrame, which allows us to easily calculate the average importance for each feature. Finally, we sort the DataFrame by the average importance to easily see which features are most important. "
   ]
  },
  {
   "cell_type": "markdown",
   "id": "WkO8PVFiUNNe",
   "metadata": {
    "id": "WkO8PVFiUNNe"
   },
   "source": [
    " To compute permutation importance on validation sets during cross-validation, we can use the same logic and integrate it into our cross-validation loop.\n",
    "\n",
    " This way, we are not using our test set for the calculation of permutation importance but rather using the validation sets from the cross-validation. Note that the `X_test` and `y_test` are essentially acting as validation sets here, as they are different subsets of our training data in each iteration of the cross-validation.\n",
    "\n"
   ]
  },
  {
   "cell_type": "markdown",
   "id": "9ddf2b03-afb3-45af-9c6d-182e5120f35f",
   "metadata": {},
   "source": [
    "**Expect run time to take long (~5-8 minutes)**. After initial run we saved results csv file so we can later re-use it without having to wait to long. If dataset or model changes, un-comment the below block and run the permutation importance again. "
   ]
  },
  {
   "cell_type": "code",
   "execution_count": 318,
   "id": "iZqZDU9ZMM9D",
   "metadata": {
    "colab": {
     "base_uri": "https://localhost:8080/"
    },
    "collapsed": true,
    "id": "iZqZDU9ZMM9D",
    "jupyter": {
     "outputs_hidden": true
    },
    "outputId": "d3e6f916-1e54-49e1-9abc-a76706bff39e",
    "tags": []
   },
   "outputs": [],
   "source": [
    "# # Initialize a dataframe to store importances for each fold\n",
    "# importances_df = pd.DataFrame()\n",
    "\n",
    "# # Loop over each split\n",
    "# for i in range(kf.get_n_splits()):\n",
    "\n",
    "#     # Get the data for this fold\n",
    "#     X_train = X_train_list[i]\n",
    "#     X_test = X_test_list[i] # In this case, X_test acts as a validation set\n",
    "#     y_train = y_train_list[i]\n",
    "#     y_test = y_test_list[i] # And y_test acts as validation labels\n",
    "\n",
    "#     # Fit the model\n",
    "#     model.fit(X_train, y_train)\n",
    "\n",
    "#     # Compute the permutation importances\n",
    "#     perm = PermutationImportance(model, random_state=1).fit(X_test, y_test)\n",
    "\n",
    "#     # Get feature names\n",
    "#     feature_names = X_encoded.columns.tolist()\n",
    "\n",
    "#     # Get importances and convert them into a dataframe\n",
    "#     importances = pd.DataFrame(perm.feature_importances_, index=feature_names, columns=[f'Importance Fold {i}'])\n",
    "\n",
    "#     # Concatenate the current fold's importances with the previous ones\n",
    "#     importances_df = pd.concat([importances_df, importances], axis=1)\n",
    "\n",
    "# # Compute the average importances\n",
    "# importances_df['Average Importance'] = importances_df.mean(axis=1)\n",
    "\n",
    "# # Sort the importances\n",
    "# importances_df = importances_df.sort_values('Average Importance', ascending=False)"
   ]
  },
  {
   "cell_type": "code",
   "execution_count": 373,
   "id": "b80454fc-8d6e-4174-9007-130d13700b11",
   "metadata": {
    "collapsed": true,
    "jupyter": {
     "outputs_hidden": true
    }
   },
   "outputs": [
    {
     "name": "stdout",
     "output_type": "stream",
     "text": [
      "                   Average Importance\n",
      "GDP                          0.486848\n",
      "socialSupport                0.205741\n",
      "corruption                   0.093848\n",
      "freedom                      0.063421\n",
      "country_Singapore            0.054672\n",
      "...                               ...\n",
      "country_Cuba                 0.000036\n",
      "country_Maldives             0.000034\n",
      "country_Oman                 0.000020\n",
      "country_Suriname             0.000007\n",
      "country_Guyana              -0.000001\n",
      "\n",
      "[172 rows x 1 columns]\n"
     ]
    }
   ],
   "source": [
    "#saving results locally so we can use it again later without running the above block\n",
    "importances_df.to_csv('Pipeline Outputs/importances_df.csv', index=False) \n",
    "np.savez('Pipeline Outputs/importances_df.npz', importances_df=importances_df.values) # save as numpy array \n",
    "\n",
    "#saving results locally so we can use it again later without running the above block\n",
    "importances_df.to_csv('Pipeline Outputs/importances_df.csv', index=False) \n",
    "np.savez('Pipeline Outputs/importances_df.npz', importances_df=importances_df.values) # save as numpy array \n",
    "\n",
    "print(importances_df)"
   ]
  },
  {
   "cell_type": "code",
   "execution_count": 374,
   "id": "hAE19rxZZEuI",
   "metadata": {
    "colab": {
     "base_uri": "https://localhost:8080/",
     "height": 206
    },
    "collapsed": true,
    "id": "hAE19rxZZEuI",
    "jupyter": {
     "outputs_hidden": true
    },
    "outputId": "09fd3477-aeae-44f9-d2a8-5b8c776ebb2c"
   },
   "outputs": [
    {
     "data": {
      "text/html": [
       "<div>\n",
       "<style scoped>\n",
       "    .dataframe tbody tr th:only-of-type {\n",
       "        vertical-align: middle;\n",
       "    }\n",
       "\n",
       "    .dataframe tbody tr th {\n",
       "        vertical-align: top;\n",
       "    }\n",
       "\n",
       "    .dataframe thead th {\n",
       "        text-align: right;\n",
       "    }\n",
       "</style>\n",
       "<table border=\"1\" class=\"dataframe\">\n",
       "  <thead>\n",
       "    <tr style=\"text-align: right;\">\n",
       "      <th></th>\n",
       "      <th>Average Importance</th>\n",
       "    </tr>\n",
       "  </thead>\n",
       "  <tbody>\n",
       "    <tr>\n",
       "      <th>GDP</th>\n",
       "      <td>0.486848</td>\n",
       "    </tr>\n",
       "    <tr>\n",
       "      <th>socialSupport</th>\n",
       "      <td>0.205741</td>\n",
       "    </tr>\n",
       "    <tr>\n",
       "      <th>corruption</th>\n",
       "      <td>0.093848</td>\n",
       "    </tr>\n",
       "    <tr>\n",
       "      <th>freedom</th>\n",
       "      <td>0.063421</td>\n",
       "    </tr>\n",
       "    <tr>\n",
       "      <th>country_Singapore</th>\n",
       "      <td>0.054672</td>\n",
       "    </tr>\n",
       "  </tbody>\n",
       "</table>\n",
       "</div>"
      ],
      "text/plain": [
       "                   Average Importance\n",
       "GDP                          0.486848\n",
       "socialSupport                0.205741\n",
       "corruption                   0.093848\n",
       "freedom                      0.063421\n",
       "country_Singapore            0.054672"
      ]
     },
     "execution_count": 374,
     "metadata": {},
     "output_type": "execute_result"
    }
   ],
   "source": [
    "importances_df = importances_df[['Average Importance']]\n",
    "importances_df.head()"
   ]
  },
  {
   "cell_type": "markdown",
   "id": "xccV4gDFYRpT",
   "metadata": {
    "id": "xccV4gDFYRpT"
   },
   "source": [
    "We want to create a visualization, but we want the countries to have different color than the other variables i.e., GDP, for clarity."
   ]
  },
  {
   "cell_type": "code",
   "execution_count": 375,
   "id": "giexcFAgagS5",
   "metadata": {
    "collapsed": true,
    "id": "giexcFAgagS5",
    "jupyter": {
     "outputs_hidden": true
    }
   },
   "outputs": [],
   "source": [
    "# create a boolean mask indicating whether each index contains the string 'country'. we will use this to filter the dataframe.\n",
    "\n",
    "# Create a boolean mask\n",
    "mask = importances_df.index.str.contains('country')\n",
    "\n",
    "# Create DataFrame for features containing 'country'\n",
    "df_importanceCountry = importances_df[mask]\n",
    "\n",
    "# Create DataFrame for features not containing 'country'\n",
    "df_importanceNon_country = importances_df[~mask]"
   ]
  },
  {
   "cell_type": "code",
   "execution_count": 376,
   "id": "NpnDIYX7cav6",
   "metadata": {
    "colab": {
     "base_uri": "https://localhost:8080/",
     "height": 206
    },
    "collapsed": true,
    "id": "NpnDIYX7cav6",
    "jupyter": {
     "outputs_hidden": true
    },
    "outputId": "6b2d24d8-d6ad-4948-c543-7aff24b99cf2"
   },
   "outputs": [
    {
     "data": {
      "text/html": [
       "<div>\n",
       "<style scoped>\n",
       "    .dataframe tbody tr th:only-of-type {\n",
       "        vertical-align: middle;\n",
       "    }\n",
       "\n",
       "    .dataframe tbody tr th {\n",
       "        vertical-align: top;\n",
       "    }\n",
       "\n",
       "    .dataframe thead th {\n",
       "        text-align: right;\n",
       "    }\n",
       "</style>\n",
       "<table border=\"1\" class=\"dataframe\">\n",
       "  <thead>\n",
       "    <tr style=\"text-align: right;\">\n",
       "      <th></th>\n",
       "      <th>Average Importance</th>\n",
       "    </tr>\n",
       "  </thead>\n",
       "  <tbody>\n",
       "    <tr>\n",
       "      <th>Singapore</th>\n",
       "      <td>0.054672</td>\n",
       "    </tr>\n",
       "    <tr>\n",
       "      <th>Hong Kong S.A.R. of China</th>\n",
       "      <td>0.052752</td>\n",
       "    </tr>\n",
       "    <tr>\n",
       "      <th>Ireland</th>\n",
       "      <td>0.049348</td>\n",
       "    </tr>\n",
       "    <tr>\n",
       "      <th>Luxembourg</th>\n",
       "      <td>0.046483</td>\n",
       "    </tr>\n",
       "    <tr>\n",
       "      <th>Estonia</th>\n",
       "      <td>0.045628</td>\n",
       "    </tr>\n",
       "  </tbody>\n",
       "</table>\n",
       "</div>"
      ],
      "text/plain": [
       "                           Average Importance\n",
       "Singapore                            0.054672\n",
       "Hong Kong S.A.R. of China            0.052752\n",
       "Ireland                              0.049348\n",
       "Luxembourg                           0.046483\n",
       "Estonia                              0.045628"
      ]
     },
     "execution_count": 376,
     "metadata": {},
     "output_type": "execute_result"
    }
   ],
   "source": [
    "# Remove 'country_' from the index\n",
    "df_importanceCountry.index = df_importanceCountry.index.str.replace('country_', '', regex=False)\n",
    "df_importanceCountry.head()"
   ]
  },
  {
   "cell_type": "code",
   "execution_count": 377,
   "id": "lpc0ueGwZSYX",
   "metadata": {
    "collapsed": true,
    "id": "lpc0ueGwZSYX",
    "jupyter": {
     "outputs_hidden": true
    }
   },
   "outputs": [],
   "source": [
    "# lets create a color map\n",
    "def color_negative_red(value):\n",
    "  \"\"\"\n",
    "  Colors values in a DataFrame green if they are positive and red if they are negative.\n",
    "\n",
    "  Args:\n",
    "    value (float): The value to color.\n",
    "\n",
    "  Returns:\n",
    "    str: The color string.\n",
    "  \"\"\"\n",
    "  if value < 0:\n",
    "    color = 'red'\n",
    "  else:\n",
    "    color = 'green'\n",
    "\n",
    "  return 'color: %s' % color"
   ]
  },
  {
   "cell_type": "code",
   "execution_count": 378,
   "id": "z6VCb-Rycxco",
   "metadata": {
    "colab": {
     "base_uri": "https://localhost:8080/",
     "height": 1000
    },
    "collapsed": true,
    "id": "z6VCb-Rycxco",
    "jupyter": {
     "outputs_hidden": true
    },
    "outputId": "945d40ee-1bf1-4122-b844-c32f303ee327",
    "tags": []
   },
   "outputs": [
    {
     "data": {
      "text/html": [
       "<style type=\"text/css\">\n",
       "#T_73e0d_row0_col0, #T_73e0d_row1_col0, #T_73e0d_row2_col0, #T_73e0d_row3_col0, #T_73e0d_row4_col0, #T_73e0d_row5_col0, #T_73e0d_row6_col0, #T_73e0d_row7_col0, #T_73e0d_row8_col0, #T_73e0d_row9_col0, #T_73e0d_row10_col0, #T_73e0d_row11_col0, #T_73e0d_row12_col0, #T_73e0d_row13_col0, #T_73e0d_row14_col0, #T_73e0d_row15_col0, #T_73e0d_row16_col0, #T_73e0d_row17_col0, #T_73e0d_row18_col0, #T_73e0d_row19_col0, #T_73e0d_row20_col0, #T_73e0d_row21_col0, #T_73e0d_row22_col0, #T_73e0d_row23_col0, #T_73e0d_row24_col0, #T_73e0d_row25_col0, #T_73e0d_row26_col0, #T_73e0d_row27_col0, #T_73e0d_row28_col0, #T_73e0d_row29_col0, #T_73e0d_row30_col0, #T_73e0d_row31_col0, #T_73e0d_row32_col0, #T_73e0d_row33_col0, #T_73e0d_row34_col0, #T_73e0d_row35_col0, #T_73e0d_row36_col0, #T_73e0d_row37_col0, #T_73e0d_row38_col0, #T_73e0d_row39_col0, #T_73e0d_row40_col0, #T_73e0d_row41_col0, #T_73e0d_row42_col0, #T_73e0d_row43_col0, #T_73e0d_row44_col0, #T_73e0d_row45_col0, #T_73e0d_row46_col0, #T_73e0d_row47_col0, #T_73e0d_row48_col0, #T_73e0d_row49_col0, #T_73e0d_row50_col0, #T_73e0d_row51_col0, #T_73e0d_row52_col0, #T_73e0d_row53_col0, #T_73e0d_row54_col0, #T_73e0d_row55_col0, #T_73e0d_row56_col0, #T_73e0d_row57_col0, #T_73e0d_row58_col0, #T_73e0d_row59_col0, #T_73e0d_row60_col0, #T_73e0d_row61_col0, #T_73e0d_row62_col0, #T_73e0d_row63_col0, #T_73e0d_row64_col0, #T_73e0d_row65_col0, #T_73e0d_row66_col0, #T_73e0d_row67_col0, #T_73e0d_row68_col0, #T_73e0d_row69_col0, #T_73e0d_row70_col0, #T_73e0d_row71_col0, #T_73e0d_row72_col0, #T_73e0d_row73_col0, #T_73e0d_row74_col0, #T_73e0d_row75_col0, #T_73e0d_row76_col0, #T_73e0d_row77_col0, #T_73e0d_row78_col0, #T_73e0d_row79_col0, #T_73e0d_row80_col0, #T_73e0d_row81_col0, #T_73e0d_row82_col0, #T_73e0d_row83_col0, #T_73e0d_row84_col0, #T_73e0d_row85_col0, #T_73e0d_row86_col0, #T_73e0d_row87_col0, #T_73e0d_row88_col0, #T_73e0d_row89_col0, #T_73e0d_row90_col0, #T_73e0d_row91_col0, #T_73e0d_row92_col0, #T_73e0d_row93_col0, #T_73e0d_row94_col0, #T_73e0d_row95_col0, #T_73e0d_row96_col0, #T_73e0d_row97_col0, #T_73e0d_row98_col0, #T_73e0d_row99_col0, #T_73e0d_row100_col0, #T_73e0d_row101_col0, #T_73e0d_row102_col0, #T_73e0d_row103_col0, #T_73e0d_row104_col0, #T_73e0d_row105_col0, #T_73e0d_row106_col0, #T_73e0d_row107_col0, #T_73e0d_row108_col0, #T_73e0d_row109_col0, #T_73e0d_row110_col0, #T_73e0d_row111_col0, #T_73e0d_row112_col0, #T_73e0d_row113_col0, #T_73e0d_row114_col0, #T_73e0d_row115_col0, #T_73e0d_row116_col0, #T_73e0d_row117_col0, #T_73e0d_row118_col0, #T_73e0d_row119_col0, #T_73e0d_row120_col0, #T_73e0d_row121_col0, #T_73e0d_row122_col0, #T_73e0d_row123_col0, #T_73e0d_row124_col0, #T_73e0d_row125_col0, #T_73e0d_row126_col0, #T_73e0d_row127_col0, #T_73e0d_row128_col0, #T_73e0d_row129_col0, #T_73e0d_row130_col0, #T_73e0d_row131_col0, #T_73e0d_row132_col0, #T_73e0d_row133_col0, #T_73e0d_row134_col0, #T_73e0d_row135_col0, #T_73e0d_row136_col0, #T_73e0d_row137_col0, #T_73e0d_row138_col0, #T_73e0d_row139_col0, #T_73e0d_row140_col0, #T_73e0d_row141_col0, #T_73e0d_row142_col0, #T_73e0d_row143_col0, #T_73e0d_row144_col0, #T_73e0d_row145_col0, #T_73e0d_row146_col0, #T_73e0d_row147_col0, #T_73e0d_row148_col0, #T_73e0d_row149_col0, #T_73e0d_row150_col0, #T_73e0d_row151_col0, #T_73e0d_row152_col0, #T_73e0d_row153_col0, #T_73e0d_row154_col0, #T_73e0d_row155_col0, #T_73e0d_row156_col0, #T_73e0d_row157_col0, #T_73e0d_row158_col0, #T_73e0d_row159_col0, #T_73e0d_row160_col0, #T_73e0d_row161_col0, #T_73e0d_row162_col0, #T_73e0d_row163_col0 {\n",
       "  color: green;\n",
       "}\n",
       "#T_73e0d_row164_col0 {\n",
       "  color: red;\n",
       "}\n",
       "</style>\n",
       "<table id=\"T_73e0d\">\n",
       "  <thead>\n",
       "    <tr>\n",
       "      <th class=\"blank level0\" >&nbsp;</th>\n",
       "      <th id=\"T_73e0d_level0_col0\" class=\"col_heading level0 col0\" >Average Importance</th>\n",
       "    </tr>\n",
       "  </thead>\n",
       "  <tbody>\n",
       "    <tr>\n",
       "      <th id=\"T_73e0d_level0_row0\" class=\"row_heading level0 row0\" >Singapore</th>\n",
       "      <td id=\"T_73e0d_row0_col0\" class=\"data row0 col0\" >0.054672</td>\n",
       "    </tr>\n",
       "    <tr>\n",
       "      <th id=\"T_73e0d_level0_row1\" class=\"row_heading level0 row1\" >Hong Kong S.A.R. of China</th>\n",
       "      <td id=\"T_73e0d_row1_col0\" class=\"data row1 col0\" >0.052752</td>\n",
       "    </tr>\n",
       "    <tr>\n",
       "      <th id=\"T_73e0d_level0_row2\" class=\"row_heading level0 row2\" >Ireland</th>\n",
       "      <td id=\"T_73e0d_row2_col0\" class=\"data row2 col0\" >0.049348</td>\n",
       "    </tr>\n",
       "    <tr>\n",
       "      <th id=\"T_73e0d_level0_row3\" class=\"row_heading level0 row3\" >Luxembourg</th>\n",
       "      <td id=\"T_73e0d_row3_col0\" class=\"data row3 col0\" >0.046483</td>\n",
       "    </tr>\n",
       "    <tr>\n",
       "      <th id=\"T_73e0d_level0_row4\" class=\"row_heading level0 row4\" >Estonia</th>\n",
       "      <td id=\"T_73e0d_row4_col0\" class=\"data row4 col0\" >0.045628</td>\n",
       "    </tr>\n",
       "    <tr>\n",
       "      <th id=\"T_73e0d_level0_row5\" class=\"row_heading level0 row5\" >Japan</th>\n",
       "      <td id=\"T_73e0d_row5_col0\" class=\"data row5 col0\" >0.040881</td>\n",
       "    </tr>\n",
       "    <tr>\n",
       "      <th id=\"T_73e0d_level0_row6\" class=\"row_heading level0 row6\" >United Arab Emirates</th>\n",
       "      <td id=\"T_73e0d_row6_col0\" class=\"data row6 col0\" >0.036113</td>\n",
       "    </tr>\n",
       "    <tr>\n",
       "      <th id=\"T_73e0d_level0_row7\" class=\"row_heading level0 row7\" >Germany</th>\n",
       "      <td id=\"T_73e0d_row7_col0\" class=\"data row7 col0\" >0.034091</td>\n",
       "    </tr>\n",
       "    <tr>\n",
       "      <th id=\"T_73e0d_level0_row8\" class=\"row_heading level0 row8\" >United Kingdom</th>\n",
       "      <td id=\"T_73e0d_row8_col0\" class=\"data row8 col0\" >0.032976</td>\n",
       "    </tr>\n",
       "    <tr>\n",
       "      <th id=\"T_73e0d_level0_row9\" class=\"row_heading level0 row9\" >France</th>\n",
       "      <td id=\"T_73e0d_row9_col0\" class=\"data row9 col0\" >0.032374</td>\n",
       "    </tr>\n",
       "    <tr>\n",
       "      <th id=\"T_73e0d_level0_row10\" class=\"row_heading level0 row10\" >Slovenia</th>\n",
       "      <td id=\"T_73e0d_row10_col0\" class=\"data row10 col0\" >0.032050</td>\n",
       "    </tr>\n",
       "    <tr>\n",
       "      <th id=\"T_73e0d_level0_row11\" class=\"row_heading level0 row11\" >Malta</th>\n",
       "      <td id=\"T_73e0d_row11_col0\" class=\"data row11 col0\" >0.031632</td>\n",
       "    </tr>\n",
       "    <tr>\n",
       "      <th id=\"T_73e0d_level0_row12\" class=\"row_heading level0 row12\" >Bulgaria</th>\n",
       "      <td id=\"T_73e0d_row12_col0\" class=\"data row12 col0\" >0.031369</td>\n",
       "    </tr>\n",
       "    <tr>\n",
       "      <th id=\"T_73e0d_level0_row13\" class=\"row_heading level0 row13\" >Bahrain</th>\n",
       "      <td id=\"T_73e0d_row13_col0\" class=\"data row13 col0\" >0.030848</td>\n",
       "    </tr>\n",
       "    <tr>\n",
       "      <th id=\"T_73e0d_level0_row14\" class=\"row_heading level0 row14\" >Botswana</th>\n",
       "      <td id=\"T_73e0d_row14_col0\" class=\"data row14 col0\" >0.030005</td>\n",
       "    </tr>\n",
       "    <tr>\n",
       "      <th id=\"T_73e0d_level0_row15\" class=\"row_heading level0 row15\" >Sri Lanka</th>\n",
       "      <td id=\"T_73e0d_row15_col0\" class=\"data row15 col0\" >0.029927</td>\n",
       "    </tr>\n",
       "    <tr>\n",
       "      <th id=\"T_73e0d_level0_row16\" class=\"row_heading level0 row16\" >Portugal</th>\n",
       "      <td id=\"T_73e0d_row16_col0\" class=\"data row16 col0\" >0.029646</td>\n",
       "    </tr>\n",
       "    <tr>\n",
       "      <th id=\"T_73e0d_level0_row17\" class=\"row_heading level0 row17\" >United States</th>\n",
       "      <td id=\"T_73e0d_row17_col0\" class=\"data row17 col0\" >0.028905</td>\n",
       "    </tr>\n",
       "    <tr>\n",
       "      <th id=\"T_73e0d_level0_row18\" class=\"row_heading level0 row18\" >Australia</th>\n",
       "      <td id=\"T_73e0d_row18_col0\" class=\"data row18 col0\" >0.028845</td>\n",
       "    </tr>\n",
       "    <tr>\n",
       "      <th id=\"T_73e0d_level0_row19\" class=\"row_heading level0 row19\" >Hungary</th>\n",
       "      <td id=\"T_73e0d_row19_col0\" class=\"data row19 col0\" >0.027674</td>\n",
       "    </tr>\n",
       "    <tr>\n",
       "      <th id=\"T_73e0d_level0_row20\" class=\"row_heading level0 row20\" >Spain</th>\n",
       "      <td id=\"T_73e0d_row20_col0\" class=\"data row20 col0\" >0.027615</td>\n",
       "    </tr>\n",
       "    <tr>\n",
       "      <th id=\"T_73e0d_level0_row21\" class=\"row_heading level0 row21\" >Norway</th>\n",
       "      <td id=\"T_73e0d_row21_col0\" class=\"data row21 col0\" >0.027362</td>\n",
       "    </tr>\n",
       "    <tr>\n",
       "      <th id=\"T_73e0d_level0_row22\" class=\"row_heading level0 row22\" >Kuwait</th>\n",
       "      <td id=\"T_73e0d_row22_col0\" class=\"data row22 col0\" >0.027270</td>\n",
       "    </tr>\n",
       "    <tr>\n",
       "      <th id=\"T_73e0d_level0_row23\" class=\"row_heading level0 row23\" >Belgium</th>\n",
       "      <td id=\"T_73e0d_row23_col0\" class=\"data row23 col0\" >0.026476</td>\n",
       "    </tr>\n",
       "    <tr>\n",
       "      <th id=\"T_73e0d_level0_row24\" class=\"row_heading level0 row24\" >Austria</th>\n",
       "      <td id=\"T_73e0d_row24_col0\" class=\"data row24 col0\" >0.026444</td>\n",
       "    </tr>\n",
       "    <tr>\n",
       "      <th id=\"T_73e0d_level0_row25\" class=\"row_heading level0 row25\" >Netherlands</th>\n",
       "      <td id=\"T_73e0d_row25_col0\" class=\"data row25 col0\" >0.026191</td>\n",
       "    </tr>\n",
       "    <tr>\n",
       "      <th id=\"T_73e0d_level0_row26\" class=\"row_heading level0 row26\" >New Zealand</th>\n",
       "      <td id=\"T_73e0d_row26_col0\" class=\"data row26 col0\" >0.026042</td>\n",
       "    </tr>\n",
       "    <tr>\n",
       "      <th id=\"T_73e0d_level0_row27\" class=\"row_heading level0 row27\" >Sweden</th>\n",
       "      <td id=\"T_73e0d_row27_col0\" class=\"data row27 col0\" >0.025947</td>\n",
       "    </tr>\n",
       "    <tr>\n",
       "      <th id=\"T_73e0d_level0_row28\" class=\"row_heading level0 row28\" >Switzerland</th>\n",
       "      <td id=\"T_73e0d_row28_col0\" class=\"data row28 col0\" >0.025913</td>\n",
       "    </tr>\n",
       "    <tr>\n",
       "      <th id=\"T_73e0d_level0_row29\" class=\"row_heading level0 row29\" >Latvia</th>\n",
       "      <td id=\"T_73e0d_row29_col0\" class=\"data row29 col0\" >0.024900</td>\n",
       "    </tr>\n",
       "    <tr>\n",
       "      <th id=\"T_73e0d_level0_row30\" class=\"row_heading level0 row30\" >Poland</th>\n",
       "      <td id=\"T_73e0d_row30_col0\" class=\"data row30 col0\" >0.024343</td>\n",
       "    </tr>\n",
       "    <tr>\n",
       "      <th id=\"T_73e0d_level0_row31\" class=\"row_heading level0 row31\" >Canada</th>\n",
       "      <td id=\"T_73e0d_row31_col0\" class=\"data row31 col0\" >0.023899</td>\n",
       "    </tr>\n",
       "    <tr>\n",
       "      <th id=\"T_73e0d_level0_row32\" class=\"row_heading level0 row32\" >Denmark</th>\n",
       "      <td id=\"T_73e0d_row32_col0\" class=\"data row32 col0\" >0.023446</td>\n",
       "    </tr>\n",
       "    <tr>\n",
       "      <th id=\"T_73e0d_level0_row33\" class=\"row_heading level0 row33\" >Russia</th>\n",
       "      <td id=\"T_73e0d_row33_col0\" class=\"data row33 col0\" >0.023307</td>\n",
       "    </tr>\n",
       "    <tr>\n",
       "      <th id=\"T_73e0d_level0_row34\" class=\"row_heading level0 row34\" >Dominican Republic</th>\n",
       "      <td id=\"T_73e0d_row34_col0\" class=\"data row34 col0\" >0.023011</td>\n",
       "    </tr>\n",
       "    <tr>\n",
       "      <th id=\"T_73e0d_level0_row35\" class=\"row_heading level0 row35\" >Saudi Arabia</th>\n",
       "      <td id=\"T_73e0d_row35_col0\" class=\"data row35 col0\" >0.022854</td>\n",
       "    </tr>\n",
       "    <tr>\n",
       "      <th id=\"T_73e0d_level0_row36\" class=\"row_heading level0 row36\" >Finland</th>\n",
       "      <td id=\"T_73e0d_row36_col0\" class=\"data row36 col0\" >0.022399</td>\n",
       "    </tr>\n",
       "    <tr>\n",
       "      <th id=\"T_73e0d_level0_row37\" class=\"row_heading level0 row37\" >Taiwan Province of China</th>\n",
       "      <td id=\"T_73e0d_row37_col0\" class=\"data row37 col0\" >0.021208</td>\n",
       "    </tr>\n",
       "    <tr>\n",
       "      <th id=\"T_73e0d_level0_row38\" class=\"row_heading level0 row38\" >Kazakhstan</th>\n",
       "      <td id=\"T_73e0d_row38_col0\" class=\"data row38 col0\" >0.020476</td>\n",
       "    </tr>\n",
       "    <tr>\n",
       "      <th id=\"T_73e0d_level0_row39\" class=\"row_heading level0 row39\" >Turkiye</th>\n",
       "      <td id=\"T_73e0d_row39_col0\" class=\"data row39 col0\" >0.020357</td>\n",
       "    </tr>\n",
       "    <tr>\n",
       "      <th id=\"T_73e0d_level0_row40\" class=\"row_heading level0 row40\" >Italy</th>\n",
       "      <td id=\"T_73e0d_row40_col0\" class=\"data row40 col0\" >0.020299</td>\n",
       "    </tr>\n",
       "    <tr>\n",
       "      <th id=\"T_73e0d_level0_row41\" class=\"row_heading level0 row41\" >South Korea</th>\n",
       "      <td id=\"T_73e0d_row41_col0\" class=\"data row41 col0\" >0.020075</td>\n",
       "    </tr>\n",
       "    <tr>\n",
       "      <th id=\"T_73e0d_level0_row42\" class=\"row_heading level0 row42\" >South Africa</th>\n",
       "      <td id=\"T_73e0d_row42_col0\" class=\"data row42 col0\" >0.019977</td>\n",
       "    </tr>\n",
       "    <tr>\n",
       "      <th id=\"T_73e0d_level0_row43\" class=\"row_heading level0 row43\" >Ukraine</th>\n",
       "      <td id=\"T_73e0d_row43_col0\" class=\"data row43 col0\" >0.018877</td>\n",
       "    </tr>\n",
       "    <tr>\n",
       "      <th id=\"T_73e0d_level0_row44\" class=\"row_heading level0 row44\" >Lithuania</th>\n",
       "      <td id=\"T_73e0d_row44_col0\" class=\"data row44 col0\" >0.018599</td>\n",
       "    </tr>\n",
       "    <tr>\n",
       "      <th id=\"T_73e0d_level0_row45\" class=\"row_heading level0 row45\" >Iceland</th>\n",
       "      <td id=\"T_73e0d_row45_col0\" class=\"data row45 col0\" >0.017777</td>\n",
       "    </tr>\n",
       "    <tr>\n",
       "      <th id=\"T_73e0d_level0_row46\" class=\"row_heading level0 row46\" >Qatar</th>\n",
       "      <td id=\"T_73e0d_row46_col0\" class=\"data row46 col0\" >0.017351</td>\n",
       "    </tr>\n",
       "    <tr>\n",
       "      <th id=\"T_73e0d_level0_row47\" class=\"row_heading level0 row47\" >Uruguay</th>\n",
       "      <td id=\"T_73e0d_row47_col0\" class=\"data row47 col0\" >0.017095</td>\n",
       "    </tr>\n",
       "    <tr>\n",
       "      <th id=\"T_73e0d_level0_row48\" class=\"row_heading level0 row48\" >Croatia</th>\n",
       "      <td id=\"T_73e0d_row48_col0\" class=\"data row48 col0\" >0.016924</td>\n",
       "    </tr>\n",
       "    <tr>\n",
       "      <th id=\"T_73e0d_level0_row49\" class=\"row_heading level0 row49\" >Belarus</th>\n",
       "      <td id=\"T_73e0d_row49_col0\" class=\"data row49 col0\" >0.015825</td>\n",
       "    </tr>\n",
       "    <tr>\n",
       "      <th id=\"T_73e0d_level0_row50\" class=\"row_heading level0 row50\" >Pakistan</th>\n",
       "      <td id=\"T_73e0d_row50_col0\" class=\"data row50 col0\" >0.015399</td>\n",
       "    </tr>\n",
       "    <tr>\n",
       "      <th id=\"T_73e0d_level0_row51\" class=\"row_heading level0 row51\" >Benin</th>\n",
       "      <td id=\"T_73e0d_row51_col0\" class=\"data row51 col0\" >0.015253</td>\n",
       "    </tr>\n",
       "    <tr>\n",
       "      <th id=\"T_73e0d_level0_row52\" class=\"row_heading level0 row52\" >Burundi</th>\n",
       "      <td id=\"T_73e0d_row52_col0\" class=\"data row52 col0\" >0.014926</td>\n",
       "    </tr>\n",
       "    <tr>\n",
       "      <th id=\"T_73e0d_level0_row53\" class=\"row_heading level0 row53\" >Cyprus</th>\n",
       "      <td id=\"T_73e0d_row53_col0\" class=\"data row53 col0\" >0.014822</td>\n",
       "    </tr>\n",
       "    <tr>\n",
       "      <th id=\"T_73e0d_level0_row54\" class=\"row_heading level0 row54\" >Slovakia</th>\n",
       "      <td id=\"T_73e0d_row54_col0\" class=\"data row54 col0\" >0.014323</td>\n",
       "    </tr>\n",
       "    <tr>\n",
       "      <th id=\"T_73e0d_level0_row55\" class=\"row_heading level0 row55\" >Thailand</th>\n",
       "      <td id=\"T_73e0d_row55_col0\" class=\"data row55 col0\" >0.014303</td>\n",
       "    </tr>\n",
       "    <tr>\n",
       "      <th id=\"T_73e0d_level0_row56\" class=\"row_heading level0 row56\" >Mongolia</th>\n",
       "      <td id=\"T_73e0d_row56_col0\" class=\"data row56 col0\" >0.014076</td>\n",
       "    </tr>\n",
       "    <tr>\n",
       "      <th id=\"T_73e0d_level0_row57\" class=\"row_heading level0 row57\" >Azerbaijan</th>\n",
       "      <td id=\"T_73e0d_row57_col0\" class=\"data row57 col0\" >0.013689</td>\n",
       "    </tr>\n",
       "    <tr>\n",
       "      <th id=\"T_73e0d_level0_row58\" class=\"row_heading level0 row58\" >Paraguay</th>\n",
       "      <td id=\"T_73e0d_row58_col0\" class=\"data row58 col0\" >0.013438</td>\n",
       "    </tr>\n",
       "    <tr>\n",
       "      <th id=\"T_73e0d_level0_row59\" class=\"row_heading level0 row59\" >Czechia</th>\n",
       "      <td id=\"T_73e0d_row59_col0\" class=\"data row59 col0\" >0.013367</td>\n",
       "    </tr>\n",
       "    <tr>\n",
       "      <th id=\"T_73e0d_level0_row60\" class=\"row_heading level0 row60\" >Gabon</th>\n",
       "      <td id=\"T_73e0d_row60_col0\" class=\"data row60 col0\" >0.013360</td>\n",
       "    </tr>\n",
       "    <tr>\n",
       "      <th id=\"T_73e0d_level0_row61\" class=\"row_heading level0 row61\" >Mozambique</th>\n",
       "      <td id=\"T_73e0d_row61_col0\" class=\"data row61 col0\" >0.013289</td>\n",
       "    </tr>\n",
       "    <tr>\n",
       "      <th id=\"T_73e0d_level0_row62\" class=\"row_heading level0 row62\" >Niger</th>\n",
       "      <td id=\"T_73e0d_row62_col0\" class=\"data row62 col0\" >0.013027</td>\n",
       "    </tr>\n",
       "    <tr>\n",
       "      <th id=\"T_73e0d_level0_row63\" class=\"row_heading level0 row63\" >Egypt</th>\n",
       "      <td id=\"T_73e0d_row63_col0\" class=\"data row63 col0\" >0.012899</td>\n",
       "    </tr>\n",
       "    <tr>\n",
       "      <th id=\"T_73e0d_level0_row64\" class=\"row_heading level0 row64\" >Malaysia</th>\n",
       "      <td id=\"T_73e0d_row64_col0\" class=\"data row64 col0\" >0.012740</td>\n",
       "    </tr>\n",
       "    <tr>\n",
       "      <th id=\"T_73e0d_level0_row65\" class=\"row_heading level0 row65\" >Bangladesh</th>\n",
       "      <td id=\"T_73e0d_row65_col0\" class=\"data row65 col0\" >0.012564</td>\n",
       "    </tr>\n",
       "    <tr>\n",
       "      <th id=\"T_73e0d_level0_row66\" class=\"row_heading level0 row66\" >Chad</th>\n",
       "      <td id=\"T_73e0d_row66_col0\" class=\"data row66 col0\" >0.012483</td>\n",
       "    </tr>\n",
       "    <tr>\n",
       "      <th id=\"T_73e0d_level0_row67\" class=\"row_heading level0 row67\" >Mauritius</th>\n",
       "      <td id=\"T_73e0d_row67_col0\" class=\"data row67 col0\" >0.012421</td>\n",
       "    </tr>\n",
       "    <tr>\n",
       "      <th id=\"T_73e0d_level0_row68\" class=\"row_heading level0 row68\" >Montenegro</th>\n",
       "      <td id=\"T_73e0d_row68_col0\" class=\"data row68 col0\" >0.012196</td>\n",
       "    </tr>\n",
       "    <tr>\n",
       "      <th id=\"T_73e0d_level0_row69\" class=\"row_heading level0 row69\" >North Macedonia</th>\n",
       "      <td id=\"T_73e0d_row69_col0\" class=\"data row69 col0\" >0.012142</td>\n",
       "    </tr>\n",
       "    <tr>\n",
       "      <th id=\"T_73e0d_level0_row70\" class=\"row_heading level0 row70\" >Greece</th>\n",
       "      <td id=\"T_73e0d_row70_col0\" class=\"data row70 col0\" >0.011703</td>\n",
       "    </tr>\n",
       "    <tr>\n",
       "      <th id=\"T_73e0d_level0_row71\" class=\"row_heading level0 row71\" >Iran</th>\n",
       "      <td id=\"T_73e0d_row71_col0\" class=\"data row71 col0\" >0.011687</td>\n",
       "    </tr>\n",
       "    <tr>\n",
       "      <th id=\"T_73e0d_level0_row72\" class=\"row_heading level0 row72\" >Turkmenistan</th>\n",
       "      <td id=\"T_73e0d_row72_col0\" class=\"data row72 col0\" >0.011674</td>\n",
       "    </tr>\n",
       "    <tr>\n",
       "      <th id=\"T_73e0d_level0_row73\" class=\"row_heading level0 row73\" >Myanmar</th>\n",
       "      <td id=\"T_73e0d_row73_col0\" class=\"data row73 col0\" >0.011653</td>\n",
       "    </tr>\n",
       "    <tr>\n",
       "      <th id=\"T_73e0d_level0_row74\" class=\"row_heading level0 row74\" >Lebanon</th>\n",
       "      <td id=\"T_73e0d_row74_col0\" class=\"data row74 col0\" >0.011653</td>\n",
       "    </tr>\n",
       "    <tr>\n",
       "      <th id=\"T_73e0d_level0_row75\" class=\"row_heading level0 row75\" >Venezuela</th>\n",
       "      <td id=\"T_73e0d_row75_col0\" class=\"data row75 col0\" >0.011565</td>\n",
       "    </tr>\n",
       "    <tr>\n",
       "      <th id=\"T_73e0d_level0_row76\" class=\"row_heading level0 row76\" >Congo (Kinshasa)</th>\n",
       "      <td id=\"T_73e0d_row76_col0\" class=\"data row76 col0\" >0.011519</td>\n",
       "    </tr>\n",
       "    <tr>\n",
       "      <th id=\"T_73e0d_level0_row77\" class=\"row_heading level0 row77\" >Jordan</th>\n",
       "      <td id=\"T_73e0d_row77_col0\" class=\"data row77 col0\" >0.011261</td>\n",
       "    </tr>\n",
       "    <tr>\n",
       "      <th id=\"T_73e0d_level0_row78\" class=\"row_heading level0 row78\" >India</th>\n",
       "      <td id=\"T_73e0d_row78_col0\" class=\"data row78 col0\" >0.011194</td>\n",
       "    </tr>\n",
       "    <tr>\n",
       "      <th id=\"T_73e0d_level0_row79\" class=\"row_heading level0 row79\" >Malawi</th>\n",
       "      <td id=\"T_73e0d_row79_col0\" class=\"data row79 col0\" >0.011166</td>\n",
       "    </tr>\n",
       "    <tr>\n",
       "      <th id=\"T_73e0d_level0_row80\" class=\"row_heading level0 row80\" >South Sudan</th>\n",
       "      <td id=\"T_73e0d_row80_col0\" class=\"data row80 col0\" >0.010985</td>\n",
       "    </tr>\n",
       "    <tr>\n",
       "      <th id=\"T_73e0d_level0_row81\" class=\"row_heading level0 row81\" >Panama</th>\n",
       "      <td id=\"T_73e0d_row81_col0\" class=\"data row81 col0\" >0.010907</td>\n",
       "    </tr>\n",
       "    <tr>\n",
       "      <th id=\"T_73e0d_level0_row82\" class=\"row_heading level0 row82\" >Serbia</th>\n",
       "      <td id=\"T_73e0d_row82_col0\" class=\"data row82 col0\" >0.010796</td>\n",
       "    </tr>\n",
       "    <tr>\n",
       "      <th id=\"T_73e0d_level0_row83\" class=\"row_heading level0 row83\" >Georgia</th>\n",
       "      <td id=\"T_73e0d_row83_col0\" class=\"data row83 col0\" >0.010055</td>\n",
       "    </tr>\n",
       "    <tr>\n",
       "      <th id=\"T_73e0d_level0_row84\" class=\"row_heading level0 row84\" >Togo</th>\n",
       "      <td id=\"T_73e0d_row84_col0\" class=\"data row84 col0\" >0.009776</td>\n",
       "    </tr>\n",
       "    <tr>\n",
       "      <th id=\"T_73e0d_level0_row85\" class=\"row_heading level0 row85\" >Congo (Brazzaville)</th>\n",
       "      <td id=\"T_73e0d_row85_col0\" class=\"data row85 col0\" >0.009647</td>\n",
       "    </tr>\n",
       "    <tr>\n",
       "      <th id=\"T_73e0d_level0_row86\" class=\"row_heading level0 row86\" >Libya</th>\n",
       "      <td id=\"T_73e0d_row86_col0\" class=\"data row86 col0\" >0.009531</td>\n",
       "    </tr>\n",
       "    <tr>\n",
       "      <th id=\"T_73e0d_level0_row87\" class=\"row_heading level0 row87\" >Argentina</th>\n",
       "      <td id=\"T_73e0d_row87_col0\" class=\"data row87 col0\" >0.009510</td>\n",
       "    </tr>\n",
       "    <tr>\n",
       "      <th id=\"T_73e0d_level0_row88\" class=\"row_heading level0 row88\" >Mali</th>\n",
       "      <td id=\"T_73e0d_row88_col0\" class=\"data row88 col0\" >0.009429</td>\n",
       "    </tr>\n",
       "    <tr>\n",
       "      <th id=\"T_73e0d_level0_row89\" class=\"row_heading level0 row89\" >Israel</th>\n",
       "      <td id=\"T_73e0d_row89_col0\" class=\"data row89 col0\" >0.009199</td>\n",
       "    </tr>\n",
       "    <tr>\n",
       "      <th id=\"T_73e0d_level0_row90\" class=\"row_heading level0 row90\" >Afghanistan</th>\n",
       "      <td id=\"T_73e0d_row90_col0\" class=\"data row90 col0\" >0.009178</td>\n",
       "    </tr>\n",
       "    <tr>\n",
       "      <th id=\"T_73e0d_level0_row91\" class=\"row_heading level0 row91\" >Central African Republic</th>\n",
       "      <td id=\"T_73e0d_row91_col0\" class=\"data row91 col0\" >0.009130</td>\n",
       "    </tr>\n",
       "    <tr>\n",
       "      <th id=\"T_73e0d_level0_row92\" class=\"row_heading level0 row92\" >Chile</th>\n",
       "      <td id=\"T_73e0d_row92_col0\" class=\"data row92 col0\" >0.009055</td>\n",
       "    </tr>\n",
       "    <tr>\n",
       "      <th id=\"T_73e0d_level0_row93\" class=\"row_heading level0 row93\" >Tanzania</th>\n",
       "      <td id=\"T_73e0d_row93_col0\" class=\"data row93 col0\" >0.008976</td>\n",
       "    </tr>\n",
       "    <tr>\n",
       "      <th id=\"T_73e0d_level0_row94\" class=\"row_heading level0 row94\" >Indonesia</th>\n",
       "      <td id=\"T_73e0d_row94_col0\" class=\"data row94 col0\" >0.008779</td>\n",
       "    </tr>\n",
       "    <tr>\n",
       "      <th id=\"T_73e0d_level0_row95\" class=\"row_heading level0 row95\" >Armenia</th>\n",
       "      <td id=\"T_73e0d_row95_col0\" class=\"data row95 col0\" >0.008637</td>\n",
       "    </tr>\n",
       "    <tr>\n",
       "      <th id=\"T_73e0d_level0_row96\" class=\"row_heading level0 row96\" >Cameroon</th>\n",
       "      <td id=\"T_73e0d_row96_col0\" class=\"data row96 col0\" >0.008483</td>\n",
       "    </tr>\n",
       "    <tr>\n",
       "      <th id=\"T_73e0d_level0_row97\" class=\"row_heading level0 row97\" >China</th>\n",
       "      <td id=\"T_73e0d_row97_col0\" class=\"data row97 col0\" >0.008482</td>\n",
       "    </tr>\n",
       "    <tr>\n",
       "      <th id=\"T_73e0d_level0_row98\" class=\"row_heading level0 row98\" >Sierra Leone</th>\n",
       "      <td id=\"T_73e0d_row98_col0\" class=\"data row98 col0\" >0.008291</td>\n",
       "    </tr>\n",
       "    <tr>\n",
       "      <th id=\"T_73e0d_level0_row99\" class=\"row_heading level0 row99\" >Ivory Coast</th>\n",
       "      <td id=\"T_73e0d_row99_col0\" class=\"data row99 col0\" >0.008211</td>\n",
       "    </tr>\n",
       "    <tr>\n",
       "      <th id=\"T_73e0d_level0_row100\" class=\"row_heading level0 row100\" >Burkina Faso</th>\n",
       "      <td id=\"T_73e0d_row100_col0\" class=\"data row100 col0\" >0.007963</td>\n",
       "    </tr>\n",
       "    <tr>\n",
       "      <th id=\"T_73e0d_level0_row101\" class=\"row_heading level0 row101\" >Madagascar</th>\n",
       "      <td id=\"T_73e0d_row101_col0\" class=\"data row101 col0\" >0.007825</td>\n",
       "    </tr>\n",
       "    <tr>\n",
       "      <th id=\"T_73e0d_level0_row102\" class=\"row_heading level0 row102\" >Ethiopia</th>\n",
       "      <td id=\"T_73e0d_row102_col0\" class=\"data row102 col0\" >0.007719</td>\n",
       "    </tr>\n",
       "    <tr>\n",
       "      <th id=\"T_73e0d_level0_row103\" class=\"row_heading level0 row103\" >Guinea</th>\n",
       "      <td id=\"T_73e0d_row103_col0\" class=\"data row103 col0\" >0.007496</td>\n",
       "    </tr>\n",
       "    <tr>\n",
       "      <th id=\"T_73e0d_level0_row104\" class=\"row_heading level0 row104\" >Tunisia</th>\n",
       "      <td id=\"T_73e0d_row104_col0\" class=\"data row104 col0\" >0.007351</td>\n",
       "    </tr>\n",
       "    <tr>\n",
       "      <th id=\"T_73e0d_level0_row105\" class=\"row_heading level0 row105\" >Liberia</th>\n",
       "      <td id=\"T_73e0d_row105_col0\" class=\"data row105 col0\" >0.007031</td>\n",
       "    </tr>\n",
       "    <tr>\n",
       "      <th id=\"T_73e0d_level0_row106\" class=\"row_heading level0 row106\" >Rwanda</th>\n",
       "      <td id=\"T_73e0d_row106_col0\" class=\"data row106 col0\" >0.006998</td>\n",
       "    </tr>\n",
       "    <tr>\n",
       "      <th id=\"T_73e0d_level0_row107\" class=\"row_heading level0 row107\" >Senegal</th>\n",
       "      <td id=\"T_73e0d_row107_col0\" class=\"data row107 col0\" >0.006984</td>\n",
       "    </tr>\n",
       "    <tr>\n",
       "      <th id=\"T_73e0d_level0_row108\" class=\"row_heading level0 row108\" >Morocco</th>\n",
       "      <td id=\"T_73e0d_row108_col0\" class=\"data row108 col0\" >0.006683</td>\n",
       "    </tr>\n",
       "    <tr>\n",
       "      <th id=\"T_73e0d_level0_row109\" class=\"row_heading level0 row109\" >Romania</th>\n",
       "      <td id=\"T_73e0d_row109_col0\" class=\"data row109 col0\" >0.006496</td>\n",
       "    </tr>\n",
       "    <tr>\n",
       "      <th id=\"T_73e0d_level0_row110\" class=\"row_heading level0 row110\" >Namibia</th>\n",
       "      <td id=\"T_73e0d_row110_col0\" class=\"data row110 col0\" >0.006481</td>\n",
       "    </tr>\n",
       "    <tr>\n",
       "      <th id=\"T_73e0d_level0_row111\" class=\"row_heading level0 row111\" >Zambia</th>\n",
       "      <td id=\"T_73e0d_row111_col0\" class=\"data row111 col0\" >0.006446</td>\n",
       "    </tr>\n",
       "    <tr>\n",
       "      <th id=\"T_73e0d_level0_row112\" class=\"row_heading level0 row112\" >Somalia</th>\n",
       "      <td id=\"T_73e0d_row112_col0\" class=\"data row112 col0\" >0.006321</td>\n",
       "    </tr>\n",
       "    <tr>\n",
       "      <th id=\"T_73e0d_level0_row113\" class=\"row_heading level0 row113\" >Bosnia and Herzegovina</th>\n",
       "      <td id=\"T_73e0d_row113_col0\" class=\"data row113 col0\" >0.006039</td>\n",
       "    </tr>\n",
       "    <tr>\n",
       "      <th id=\"T_73e0d_level0_row114\" class=\"row_heading level0 row114\" >Uzbekistan</th>\n",
       "      <td id=\"T_73e0d_row114_col0\" class=\"data row114 col0\" >0.005966</td>\n",
       "    </tr>\n",
       "    <tr>\n",
       "      <th id=\"T_73e0d_level0_row115\" class=\"row_heading level0 row115\" >Algeria</th>\n",
       "      <td id=\"T_73e0d_row115_col0\" class=\"data row115 col0\" >0.005701</td>\n",
       "    </tr>\n",
       "    <tr>\n",
       "      <th id=\"T_73e0d_level0_row116\" class=\"row_heading level0 row116\" >Vietnam</th>\n",
       "      <td id=\"T_73e0d_row116_col0\" class=\"data row116 col0\" >0.005475</td>\n",
       "    </tr>\n",
       "    <tr>\n",
       "      <th id=\"T_73e0d_level0_row117\" class=\"row_heading level0 row117\" >Mauritania</th>\n",
       "      <td id=\"T_73e0d_row117_col0\" class=\"data row117 col0\" >0.005432</td>\n",
       "    </tr>\n",
       "    <tr>\n",
       "      <th id=\"T_73e0d_level0_row118\" class=\"row_heading level0 row118\" >Jamaica</th>\n",
       "      <td id=\"T_73e0d_row118_col0\" class=\"data row118 col0\" >0.005299</td>\n",
       "    </tr>\n",
       "    <tr>\n",
       "      <th id=\"T_73e0d_level0_row119\" class=\"row_heading level0 row119\" >Iraq</th>\n",
       "      <td id=\"T_73e0d_row119_col0\" class=\"data row119 col0\" >0.005297</td>\n",
       "    </tr>\n",
       "    <tr>\n",
       "      <th id=\"T_73e0d_level0_row120\" class=\"row_heading level0 row120\" >Uganda</th>\n",
       "      <td id=\"T_73e0d_row120_col0\" class=\"data row120 col0\" >0.005196</td>\n",
       "    </tr>\n",
       "    <tr>\n",
       "      <th id=\"T_73e0d_level0_row121\" class=\"row_heading level0 row121\" >Trinidad and Tobago</th>\n",
       "      <td id=\"T_73e0d_row121_col0\" class=\"data row121 col0\" >0.004875</td>\n",
       "    </tr>\n",
       "    <tr>\n",
       "      <th id=\"T_73e0d_level0_row122\" class=\"row_heading level0 row122\" >Cambodia</th>\n",
       "      <td id=\"T_73e0d_row122_col0\" class=\"data row122 col0\" >0.004763</td>\n",
       "    </tr>\n",
       "    <tr>\n",
       "      <th id=\"T_73e0d_level0_row123\" class=\"row_heading level0 row123\" >Albania</th>\n",
       "      <td id=\"T_73e0d_row123_col0\" class=\"data row123 col0\" >0.004751</td>\n",
       "    </tr>\n",
       "    <tr>\n",
       "      <th id=\"T_73e0d_level0_row124\" class=\"row_heading level0 row124\" >Kenya</th>\n",
       "      <td id=\"T_73e0d_row124_col0\" class=\"data row124 col0\" >0.004739</td>\n",
       "    </tr>\n",
       "    <tr>\n",
       "      <th id=\"T_73e0d_level0_row125\" class=\"row_heading level0 row125\" >Zimbabwe</th>\n",
       "      <td id=\"T_73e0d_row125_col0\" class=\"data row125 col0\" >0.004680</td>\n",
       "    </tr>\n",
       "    <tr>\n",
       "      <th id=\"T_73e0d_level0_row126\" class=\"row_heading level0 row126\" >Haiti</th>\n",
       "      <td id=\"T_73e0d_row126_col0\" class=\"data row126 col0\" >0.004580</td>\n",
       "    </tr>\n",
       "    <tr>\n",
       "      <th id=\"T_73e0d_level0_row127\" class=\"row_heading level0 row127\" >Tajikistan</th>\n",
       "      <td id=\"T_73e0d_row127_col0\" class=\"data row127 col0\" >0.004571</td>\n",
       "    </tr>\n",
       "    <tr>\n",
       "      <th id=\"T_73e0d_level0_row128\" class=\"row_heading level0 row128\" >Colombia</th>\n",
       "      <td id=\"T_73e0d_row128_col0\" class=\"data row128 col0\" >0.004541</td>\n",
       "    </tr>\n",
       "    <tr>\n",
       "      <th id=\"T_73e0d_level0_row129\" class=\"row_heading level0 row129\" >Comoros</th>\n",
       "      <td id=\"T_73e0d_row129_col0\" class=\"data row129 col0\" >0.004325</td>\n",
       "    </tr>\n",
       "    <tr>\n",
       "      <th id=\"T_73e0d_level0_row130\" class=\"row_heading level0 row130\" >Ecuador</th>\n",
       "      <td id=\"T_73e0d_row130_col0\" class=\"data row130 col0\" >0.004303</td>\n",
       "    </tr>\n",
       "    <tr>\n",
       "      <th id=\"T_73e0d_level0_row131\" class=\"row_heading level0 row131\" >Kyrgyzstan</th>\n",
       "      <td id=\"T_73e0d_row131_col0\" class=\"data row131 col0\" >0.004234</td>\n",
       "    </tr>\n",
       "    <tr>\n",
       "      <th id=\"T_73e0d_level0_row132\" class=\"row_heading level0 row132\" >Syria</th>\n",
       "      <td id=\"T_73e0d_row132_col0\" class=\"data row132 col0\" >0.004223</td>\n",
       "    </tr>\n",
       "    <tr>\n",
       "      <th id=\"T_73e0d_level0_row133\" class=\"row_heading level0 row133\" >Bhutan</th>\n",
       "      <td id=\"T_73e0d_row133_col0\" class=\"data row133 col0\" >0.003900</td>\n",
       "    </tr>\n",
       "    <tr>\n",
       "      <th id=\"T_73e0d_level0_row134\" class=\"row_heading level0 row134\" >Philippines</th>\n",
       "      <td id=\"T_73e0d_row134_col0\" class=\"data row134 col0\" >0.003774</td>\n",
       "    </tr>\n",
       "    <tr>\n",
       "      <th id=\"T_73e0d_level0_row135\" class=\"row_heading level0 row135\" >Peru</th>\n",
       "      <td id=\"T_73e0d_row135_col0\" class=\"data row135 col0\" >0.003702</td>\n",
       "    </tr>\n",
       "    <tr>\n",
       "      <th id=\"T_73e0d_level0_row136\" class=\"row_heading level0 row136\" >Laos</th>\n",
       "      <td id=\"T_73e0d_row136_col0\" class=\"data row136 col0\" >0.003683</td>\n",
       "    </tr>\n",
       "    <tr>\n",
       "      <th id=\"T_73e0d_level0_row137\" class=\"row_heading level0 row137\" >Brazil</th>\n",
       "      <td id=\"T_73e0d_row137_col0\" class=\"data row137 col0\" >0.003683</td>\n",
       "    </tr>\n",
       "    <tr>\n",
       "      <th id=\"T_73e0d_level0_row138\" class=\"row_heading level0 row138\" >Lesotho</th>\n",
       "      <td id=\"T_73e0d_row138_col0\" class=\"data row138 col0\" >0.003589</td>\n",
       "    </tr>\n",
       "    <tr>\n",
       "      <th id=\"T_73e0d_level0_row139\" class=\"row_heading level0 row139\" >Gambia</th>\n",
       "      <td id=\"T_73e0d_row139_col0\" class=\"data row139 col0\" >0.003473</td>\n",
       "    </tr>\n",
       "    <tr>\n",
       "      <th id=\"T_73e0d_level0_row140\" class=\"row_heading level0 row140\" >Costa Rica</th>\n",
       "      <td id=\"T_73e0d_row140_col0\" class=\"data row140 col0\" >0.003395</td>\n",
       "    </tr>\n",
       "    <tr>\n",
       "      <th id=\"T_73e0d_level0_row141\" class=\"row_heading level0 row141\" >Nigeria</th>\n",
       "      <td id=\"T_73e0d_row141_col0\" class=\"data row141 col0\" >0.003350</td>\n",
       "    </tr>\n",
       "    <tr>\n",
       "      <th id=\"T_73e0d_level0_row142\" class=\"row_heading level0 row142\" >Sudan</th>\n",
       "      <td id=\"T_73e0d_row142_col0\" class=\"data row142 col0\" >0.003299</td>\n",
       "    </tr>\n",
       "    <tr>\n",
       "      <th id=\"T_73e0d_level0_row143\" class=\"row_heading level0 row143\" >Nepal</th>\n",
       "      <td id=\"T_73e0d_row143_col0\" class=\"data row143 col0\" >0.003295</td>\n",
       "    </tr>\n",
       "    <tr>\n",
       "      <th id=\"T_73e0d_level0_row144\" class=\"row_heading level0 row144\" >Kosovo</th>\n",
       "      <td id=\"T_73e0d_row144_col0\" class=\"data row144 col0\" >0.003261</td>\n",
       "    </tr>\n",
       "    <tr>\n",
       "      <th id=\"T_73e0d_level0_row145\" class=\"row_heading level0 row145\" >Eswatini</th>\n",
       "      <td id=\"T_73e0d_row145_col0\" class=\"data row145 col0\" >0.003249</td>\n",
       "    </tr>\n",
       "    <tr>\n",
       "      <th id=\"T_73e0d_level0_row146\" class=\"row_heading level0 row146\" >Somaliland region</th>\n",
       "      <td id=\"T_73e0d_row146_col0\" class=\"data row146 col0\" >0.003187</td>\n",
       "    </tr>\n",
       "    <tr>\n",
       "      <th id=\"T_73e0d_level0_row147\" class=\"row_heading level0 row147\" >State of Palestine</th>\n",
       "      <td id=\"T_73e0d_row147_col0\" class=\"data row147 col0\" >0.002934</td>\n",
       "    </tr>\n",
       "    <tr>\n",
       "      <th id=\"T_73e0d_level0_row148\" class=\"row_heading level0 row148\" >Djibouti</th>\n",
       "      <td id=\"T_73e0d_row148_col0\" class=\"data row148 col0\" >0.002897</td>\n",
       "    </tr>\n",
       "    <tr>\n",
       "      <th id=\"T_73e0d_level0_row149\" class=\"row_heading level0 row149\" >Moldova</th>\n",
       "      <td id=\"T_73e0d_row149_col0\" class=\"data row149 col0\" >0.002881</td>\n",
       "    </tr>\n",
       "    <tr>\n",
       "      <th id=\"T_73e0d_level0_row150\" class=\"row_heading level0 row150\" >Yemen</th>\n",
       "      <td id=\"T_73e0d_row150_col0\" class=\"data row150 col0\" >0.002770</td>\n",
       "    </tr>\n",
       "    <tr>\n",
       "      <th id=\"T_73e0d_level0_row151\" class=\"row_heading level0 row151\" >Nicaragua</th>\n",
       "      <td id=\"T_73e0d_row151_col0\" class=\"data row151 col0\" >0.002728</td>\n",
       "    </tr>\n",
       "    <tr>\n",
       "      <th id=\"T_73e0d_level0_row152\" class=\"row_heading level0 row152\" >Mexico</th>\n",
       "      <td id=\"T_73e0d_row152_col0\" class=\"data row152 col0\" >0.002698</td>\n",
       "    </tr>\n",
       "    <tr>\n",
       "      <th id=\"T_73e0d_level0_row153\" class=\"row_heading level0 row153\" >Guatemala</th>\n",
       "      <td id=\"T_73e0d_row153_col0\" class=\"data row153 col0\" >0.002560</td>\n",
       "    </tr>\n",
       "    <tr>\n",
       "      <th id=\"T_73e0d_level0_row154\" class=\"row_heading level0 row154\" >Ghana</th>\n",
       "      <td id=\"T_73e0d_row154_col0\" class=\"data row154 col0\" >0.002473</td>\n",
       "    </tr>\n",
       "    <tr>\n",
       "      <th id=\"T_73e0d_level0_row155\" class=\"row_heading level0 row155\" >Angola</th>\n",
       "      <td id=\"T_73e0d_row155_col0\" class=\"data row155 col0\" >0.001985</td>\n",
       "    </tr>\n",
       "    <tr>\n",
       "      <th id=\"T_73e0d_level0_row156\" class=\"row_heading level0 row156\" >El Salvador</th>\n",
       "      <td id=\"T_73e0d_row156_col0\" class=\"data row156 col0\" >0.001971</td>\n",
       "    </tr>\n",
       "    <tr>\n",
       "      <th id=\"T_73e0d_level0_row157\" class=\"row_heading level0 row157\" >Bolivia</th>\n",
       "      <td id=\"T_73e0d_row157_col0\" class=\"data row157 col0\" >0.001807</td>\n",
       "    </tr>\n",
       "    <tr>\n",
       "      <th id=\"T_73e0d_level0_row158\" class=\"row_heading level0 row158\" >Honduras</th>\n",
       "      <td id=\"T_73e0d_row158_col0\" class=\"data row158 col0\" >0.001486</td>\n",
       "    </tr>\n",
       "    <tr>\n",
       "      <th id=\"T_73e0d_level0_row159\" class=\"row_heading level0 row159\" >Belize</th>\n",
       "      <td id=\"T_73e0d_row159_col0\" class=\"data row159 col0\" >0.000604</td>\n",
       "    </tr>\n",
       "    <tr>\n",
       "      <th id=\"T_73e0d_level0_row160\" class=\"row_heading level0 row160\" >Cuba</th>\n",
       "      <td id=\"T_73e0d_row160_col0\" class=\"data row160 col0\" >0.000036</td>\n",
       "    </tr>\n",
       "    <tr>\n",
       "      <th id=\"T_73e0d_level0_row161\" class=\"row_heading level0 row161\" >Maldives</th>\n",
       "      <td id=\"T_73e0d_row161_col0\" class=\"data row161 col0\" >0.000034</td>\n",
       "    </tr>\n",
       "    <tr>\n",
       "      <th id=\"T_73e0d_level0_row162\" class=\"row_heading level0 row162\" >Oman</th>\n",
       "      <td id=\"T_73e0d_row162_col0\" class=\"data row162 col0\" >0.000020</td>\n",
       "    </tr>\n",
       "    <tr>\n",
       "      <th id=\"T_73e0d_level0_row163\" class=\"row_heading level0 row163\" >Suriname</th>\n",
       "      <td id=\"T_73e0d_row163_col0\" class=\"data row163 col0\" >0.000007</td>\n",
       "    </tr>\n",
       "    <tr>\n",
       "      <th id=\"T_73e0d_level0_row164\" class=\"row_heading level0 row164\" >Guyana</th>\n",
       "      <td id=\"T_73e0d_row164_col0\" class=\"data row164 col0\" >-0.000001</td>\n",
       "    </tr>\n",
       "  </tbody>\n",
       "</table>\n"
      ],
      "text/plain": [
       "<pandas.io.formats.style.Styler at 0x7fdfac44ffd0>"
      ]
     },
     "execution_count": 378,
     "metadata": {},
     "output_type": "execute_result"
    }
   ],
   "source": [
    "# Apply the color map to dataframe for feature imoportance by country\n",
    "styledCountry = df_importanceCountry[['Average Importance']].style.applymap(color_negative_red)\n",
    "\n",
    "styledCountry"
   ]
  },
  {
   "cell_type": "code",
   "execution_count": 379,
   "id": "YduSpIoLbKIw",
   "metadata": {
    "colab": {
     "base_uri": "https://localhost:8080/",
     "height": 269
    },
    "collapsed": true,
    "id": "YduSpIoLbKIw",
    "jupyter": {
     "outputs_hidden": true
    },
    "outputId": "5fc25f11-45a9-4c6a-b58f-b2d383abe629",
    "tags": []
   },
   "outputs": [
    {
     "data": {
      "text/html": [
       "<style type=\"text/css\">\n",
       "#T_d5de8_row0_col0, #T_d5de8_row1_col0, #T_d5de8_row2_col0, #T_d5de8_row3_col0, #T_d5de8_row4_col0, #T_d5de8_row5_col0, #T_d5de8_row6_col0 {\n",
       "  color: green;\n",
       "}\n",
       "</style>\n",
       "<table id=\"T_d5de8\">\n",
       "  <thead>\n",
       "    <tr>\n",
       "      <th class=\"blank level0\" >&nbsp;</th>\n",
       "      <th id=\"T_d5de8_level0_col0\" class=\"col_heading level0 col0\" >Average Importance</th>\n",
       "    </tr>\n",
       "  </thead>\n",
       "  <tbody>\n",
       "    <tr>\n",
       "      <th id=\"T_d5de8_level0_row0\" class=\"row_heading level0 row0\" >GDP</th>\n",
       "      <td id=\"T_d5de8_row0_col0\" class=\"data row0 col0\" >0.486848</td>\n",
       "    </tr>\n",
       "    <tr>\n",
       "      <th id=\"T_d5de8_level0_row1\" class=\"row_heading level0 row1\" >socialSupport</th>\n",
       "      <td id=\"T_d5de8_row1_col0\" class=\"data row1 col0\" >0.205741</td>\n",
       "    </tr>\n",
       "    <tr>\n",
       "      <th id=\"T_d5de8_level0_row2\" class=\"row_heading level0 row2\" >corruption</th>\n",
       "      <td id=\"T_d5de8_row2_col0\" class=\"data row2 col0\" >0.093848</td>\n",
       "    </tr>\n",
       "    <tr>\n",
       "      <th id=\"T_d5de8_level0_row3\" class=\"row_heading level0 row3\" >freedom</th>\n",
       "      <td id=\"T_d5de8_row3_col0\" class=\"data row3 col0\" >0.063421</td>\n",
       "    </tr>\n",
       "    <tr>\n",
       "      <th id=\"T_d5de8_level0_row4\" class=\"row_heading level0 row4\" >generosity</th>\n",
       "      <td id=\"T_d5de8_row4_col0\" class=\"data row4 col0\" >0.053210</td>\n",
       "    </tr>\n",
       "    <tr>\n",
       "      <th id=\"T_d5de8_level0_row5\" class=\"row_heading level0 row5\" >year</th>\n",
       "      <td id=\"T_d5de8_row5_col0\" class=\"data row5 col0\" >0.050054</td>\n",
       "    </tr>\n",
       "    <tr>\n",
       "      <th id=\"T_d5de8_level0_row6\" class=\"row_heading level0 row6\" >lifeExpectancy</th>\n",
       "      <td id=\"T_d5de8_row6_col0\" class=\"data row6 col0\" >0.020406</td>\n",
       "    </tr>\n",
       "  </tbody>\n",
       "</table>\n"
      ],
      "text/plain": [
       "<pandas.io.formats.style.Styler at 0x7fdf986bbac0>"
      ]
     },
     "execution_count": 379,
     "metadata": {},
     "output_type": "execute_result"
    }
   ],
   "source": [
    "# Apply the color map to dataframe for feature imoportance by scores\n",
    "styledScores = df_importanceNon_country[['Average Importance']].style.applymap(color_negative_red)\n",
    "\n",
    "styledScores"
   ]
  },
  {
   "cell_type": "code",
   "execution_count": 380,
   "id": "9da0eca8-f9bf-4b1b-86e0-dd9ebd1bfb0c",
   "metadata": {
    "collapsed": true,
    "jupyter": {
     "outputs_hidden": true
    },
    "tags": []
   },
   "outputs": [
    {
     "data": {
      "text/html": [
       "<div>\n",
       "<style scoped>\n",
       "    .dataframe tbody tr th:only-of-type {\n",
       "        vertical-align: middle;\n",
       "    }\n",
       "\n",
       "    .dataframe tbody tr th {\n",
       "        vertical-align: top;\n",
       "    }\n",
       "\n",
       "    .dataframe thead th {\n",
       "        text-align: right;\n",
       "    }\n",
       "</style>\n",
       "<table border=\"1\" class=\"dataframe\">\n",
       "  <thead>\n",
       "    <tr style=\"text-align: right;\">\n",
       "      <th></th>\n",
       "      <th>Average Importance</th>\n",
       "    </tr>\n",
       "  </thead>\n",
       "  <tbody>\n",
       "    <tr>\n",
       "      <th>GDP</th>\n",
       "      <td>0.486848</td>\n",
       "    </tr>\n",
       "    <tr>\n",
       "      <th>socialSupport</th>\n",
       "      <td>0.205741</td>\n",
       "    </tr>\n",
       "    <tr>\n",
       "      <th>corruption</th>\n",
       "      <td>0.093848</td>\n",
       "    </tr>\n",
       "    <tr>\n",
       "      <th>freedom</th>\n",
       "      <td>0.063421</td>\n",
       "    </tr>\n",
       "    <tr>\n",
       "      <th>generosity</th>\n",
       "      <td>0.053210</td>\n",
       "    </tr>\n",
       "  </tbody>\n",
       "</table>\n",
       "</div>"
      ],
      "text/plain": [
       "               Average Importance\n",
       "GDP                      0.486848\n",
       "socialSupport            0.205741\n",
       "corruption               0.093848\n",
       "freedom                  0.063421\n",
       "generosity               0.053210"
      ]
     },
     "execution_count": 380,
     "metadata": {},
     "output_type": "execute_result"
    }
   ],
   "source": [
    "df_importanceNon_country.head()"
   ]
  },
  {
   "cell_type": "code",
   "execution_count": 381,
   "id": "46abad46-0f88-48a3-b6b2-f8ccd35564e6",
   "metadata": {
    "collapsed": true,
    "jupyter": {
     "outputs_hidden": true
    },
    "tags": []
   },
   "outputs": [
    {
     "data": {
      "image/png": "[encoded data removed]",
      "text/plain": [
       "<Figure size 1000x600 with 1 Axes>"
      ]
     },
     "metadata": {},
     "output_type": "display_data"
    }
   ],
   "source": [
    "# sort in descending order\n",
    "df_importanceNon_country_sorted = df_importanceNon_country.sort_values(by='Average Importance', ascending=False)\n",
    "\n",
    "# create a horizontal bar plot with all bars as white\n",
    "plt.figure(figsize=(10, 6))\n",
    "bars = sns.barplot(x=df_importanceNon_country_sorted['Average Importance'], y=df_importanceNon_country_sorted.index, color='white', edgecolor='black', lw=1)\n",
    "\n",
    "# Set specific bars to a different color (in this case, the two bars with the highest importance)\n",
    "bars.patches[0].set_color('#BF9001')\n",
    "bars.patches[1].set_color('#BF9001')\n",
    "\n",
    "plt.xlabel(\"Permutation Importance Score\")\n",
    "plt.ylabel('')\n",
    "plt.title(\"Contribution of Each Factor On Predicting Happiness\")\n",
    "plt.xticks([])\n",
    "\n",
    "plt.savefig('Pipeline Outputs/Figures/factors_predict_happiness.png', bbox_inches='tight')\n",
    "\n",
    "plt.show()"
   ]
  },
  {
   "cell_type": "markdown",
   "id": "dv3p3yQQhs5P",
   "metadata": {
    "id": "dv3p3yQQhs5P"
   },
   "source": [
    "## Are there any interacting variables that predict happiness?"
   ]
  },
  {
   "cell_type": "markdown",
   "id": "3XS_1U4xhzOw",
   "metadata": {
    "id": "3XS_1U4xhzOw"
   },
   "source": [
    "Pairplots can be used to visualize potential interactions between features in relation to the target variable. To create this we just need  a 3D plot that can illustrate the relationship between two features and the target variable (happiness)."
   ]
  },
  {
   "cell_type": "code",
   "execution_count": 361,
   "id": "prolmNk6iV_6",
   "metadata": {
    "colab": {
     "base_uri": "https://localhost:8080/"
    },
    "collapsed": true,
    "id": "prolmNk6iV_6",
    "jupyter": {
     "outputs_hidden": true
    },
    "outputId": "0376b2ed-73a9-4282-9341-38315e8e7e32"
   },
   "outputs": [
    {
     "name": "stdout",
     "output_type": "stream",
     "text": [
      "Index(['year', 'GDP', 'socialSupport', 'lifeExpectancy', 'freedom',\n",
      "       'generosity', 'corruption', 'country_Afghanistan', 'country_Albania',\n",
      "       'country_Algeria',\n",
      "       ...\n",
      "       'country_United Arab Emirates', 'country_United Kingdom',\n",
      "       'country_United States', 'country_Uruguay', 'country_Uzbekistan',\n",
      "       'country_Venezuela', 'country_Vietnam', 'country_Yemen',\n",
      "       'country_Zambia', 'country_Zimbabwe'],\n",
      "      dtype='object', length=172)\n"
     ]
    }
   ],
   "source": [
    "# the feature names are from this df\n",
    "print(X_encoded.columns)"
   ]
  },
  {
   "cell_type": "code",
   "execution_count": 382,
   "id": "0C5qnKeEilHX",
   "metadata": {
    "colab": {
     "base_uri": "https://localhost:8080/"
    },
    "collapsed": true,
    "id": "0C5qnKeEilHX",
    "jupyter": {
     "outputs_hidden": true
    },
    "outputId": "c9ff433b-f3f2-436e-ba27-ff8455546045"
   },
   "outputs": [
    {
     "name": "stdout",
     "output_type": "stream",
     "text": [
      "('GDP', 'socialSupport')\n",
      "('GDP', 'corruption')\n",
      "('GDP', 'freedom')\n",
      "('GDP', 'generosity')\n",
      "('GDP', 'year')\n",
      "('GDP', 'lifeExpectancy')\n",
      "('socialSupport', 'corruption')\n",
      "('socialSupport', 'freedom')\n",
      "('socialSupport', 'generosity')\n",
      "('socialSupport', 'year')\n",
      "('socialSupport', 'lifeExpectancy')\n",
      "('corruption', 'freedom')\n",
      "('corruption', 'generosity')\n",
      "('corruption', 'year')\n",
      "('corruption', 'lifeExpectancy')\n",
      "('freedom', 'generosity')\n",
      "('freedom', 'year')\n",
      "('freedom', 'lifeExpectancy')\n",
      "('generosity', 'year')\n",
      "('generosity', 'lifeExpectancy')\n",
      "('year', 'lifeExpectancy')\n"
     ]
    }
   ],
   "source": [
    "# what are all the possible combinations of features that we can plot?\n",
    "# the features we are interested in are: GDP, socialSupport, corruption, freedom, generosity, year,and, lifeExpectancy\n",
    "\n",
    "from itertools import combinations\n",
    "\n",
    "features = ['GDP', 'socialSupport', 'corruption', 'freedom', 'generosity', 'year', 'lifeExpectancy']\n",
    "\n",
    "# Get all possible combinations of 2 features\n",
    "feature_combinations = list(combinations(features, 2))\n",
    "\n",
    "# let's print them\n",
    "for combo in feature_combinations:\n",
    "    print(combo)"
   ]
  },
  {
   "cell_type": "code",
   "execution_count": 363,
   "id": "tkljphq_jOL9",
   "metadata": {
    "colab": {
     "base_uri": "https://localhost:8080/"
    },
    "collapsed": true,
    "id": "tkljphq_jOL9",
    "jupyter": {
     "outputs_hidden": true
    },
    "outputId": "c15d17bc-d24e-4344-a784-a1733ed15655"
   },
   "outputs": [
    {
     "name": "stdout",
     "output_type": "stream",
     "text": [
      "21\n"
     ]
    }
   ],
   "source": [
    "# above we found all the possible combinations. So how many combination in total can we plot?\n",
    "print(len(feature_combinations))"
   ]
  },
  {
   "cell_type": "markdown",
   "id": "oFV0DmiGjWgy",
   "metadata": {
    "id": "oFV0DmiGjWgy"
   },
   "source": [
    "We have 21 possible plots to make. We could manually make a plot for each pair, but lets make our life easier and just use a loop to do it all at once."
   ]
  },
  {
   "cell_type": "code",
   "execution_count": 383,
   "id": "0ff58228-7805-46e8-a84b-d218716061f8",
   "metadata": {
    "collapsed": true,
    "jupyter": {
     "outputs_hidden": true
    }
   },
   "outputs": [
    {
     "ename": "NameError",
     "evalue": "name 'df_subset' is not defined",
     "output_type": "error",
     "traceback": [
      "\u001b[0;31m---------------------------------------------------------------------------\u001b[0m",
      "\u001b[0;31mNameError\u001b[0m                                 Traceback (most recent call last)",
      "\u001b[0;32m/var/folders/sk/sy9ttjr53fjfkmt13qcrdcf00000gn/T/ipykernel_30660/2812815335.py\u001b[0m in \u001b[0;36m<module>\u001b[0;34m\u001b[0m\n\u001b[0;32m----> 1\u001b[0;31m \u001b[0mdf_subset\u001b[0m\u001b[0;34m.\u001b[0m\u001b[0mreset_index\u001b[0m\u001b[0;34m(\u001b[0m\u001b[0mdrop\u001b[0m\u001b[0;34m=\u001b[0m\u001b[0;32mTrue\u001b[0m\u001b[0;34m,\u001b[0m \u001b[0minplace\u001b[0m\u001b[0;34m=\u001b[0m\u001b[0;32mTrue\u001b[0m\u001b[0;34m)\u001b[0m\u001b[0;34m\u001b[0m\u001b[0;34m\u001b[0m\u001b[0m\n\u001b[0m\u001b[1;32m      2\u001b[0m \u001b[0msns\u001b[0m\u001b[0;34m.\u001b[0m\u001b[0mpairplot\u001b[0m\u001b[0;34m(\u001b[0m\u001b[0mdf_subset\u001b[0m\u001b[0;34m,\u001b[0m \u001b[0mkind\u001b[0m\u001b[0;34m=\u001b[0m\u001b[0;34m'reg'\u001b[0m\u001b[0;34m)\u001b[0m\u001b[0;34m\u001b[0m\u001b[0;34m\u001b[0m\u001b[0m\n\u001b[1;32m      3\u001b[0m \u001b[0mplt\u001b[0m\u001b[0;34m.\u001b[0m\u001b[0mshow\u001b[0m\u001b[0;34m(\u001b[0m\u001b[0;34m)\u001b[0m\u001b[0;34m\u001b[0m\u001b[0;34m\u001b[0m\u001b[0m\n",
      "\u001b[0;31mNameError\u001b[0m: name 'df_subset' is not defined"
     ]
    }
   ],
   "source": [
    "df_subset.reset_index(drop=True, inplace=True)\n",
    "sns.pairplot(df_subset, kind='reg')\n",
    "plt.show()"
   ]
  },
  {
   "cell_type": "markdown",
   "id": "2bf50d29-740e-4d6a-bf64-bd97835a87db",
   "metadata": {},
   "source": [
    "The pairplots above allows us to visually see which two features are dependent on each other. Let's compute the R-squared to numerically determine which two pairs are goof predictors of each other.\n",
    "\n",
    "An R-squared value ranges from 0 to 1. A high R-squared value, closer to 1, indicates that a large proportion of the variability in the dependent variable is accounted for by the independent variable(s).\n",
    "\n",
    "In the context of the relationship between two variables, a high R-squared value would mean that there's a strong linear relationship between the two variables. More specifically, it means that the independent variable is a good predictor of the dependent variable, as it accounts for a large proportion of the observed variation in the dependent variable. In other words, how well does the change in the independent variable predict the change in the dependent variable."
   ]
  },
  {
   "cell_type": "markdown",
   "id": "8eba90c0-5dd8-453c-891d-8cbeefd88c37",
   "metadata": {},
   "source": [
    "Simimlar to [Kaur et al., 2019](https://www.mdpi.com/2076-3417/9/8/1613), we will use RSME to evaluate performance. The lower values of RMSE indicated better fit models. "
   ]
  },
  {
   "cell_type": "code",
   "execution_count": 118,
   "id": "76fc8403-05d0-4db2-8a76-d984874c6b6a",
   "metadata": {
    "collapsed": true,
    "jupyter": {
     "outputs_hidden": true
    }
   },
   "outputs": [
    {
     "name": "stdout",
     "output_type": "stream",
     "text": [
      "                                        r  R-squared      RMSE     abs_r\n",
      "GDP vs lifeExpectancy            0.805471   0.648784  4.035998  0.805471\n",
      "GDP vs socialSupport             0.672463   0.452206  0.089716  0.672463\n",
      "socialSupport vs lifeExpectancy  0.596624   0.355960  5.465379  0.596624\n",
      "freedom vs corruption           -0.468796   0.219770  0.162530  0.468796\n",
      "socialSupport vs freedom         0.410315   0.168358  0.126642  0.410315\n",
      "lifeExpectancy vs freedom        0.372909   0.139061  0.128853  0.372909\n",
      "GDP vs corruption               -0.364998   0.133224  0.171307  0.364998\n",
      "GDP vs freedom                   0.361559   0.130725  0.129475  0.361559\n",
      "freedom vs generosity            0.314469   0.098891  0.150664  0.314469\n",
      "lifeExpectancy vs corruption    -0.288514   0.083240  0.176177  0.288514\n",
      "generosity vs corruption        -0.270057   0.072931  0.177165  0.270057\n",
      "year vs freedom                  0.235856   0.055628  0.134952  0.235856\n",
      "socialSupport vs corruption     -0.225346   0.050781  0.179269  0.225346\n",
      "year vs lifeExpectancy           0.170643   0.029119  6.710376  0.170643\n",
      "year vs corruption              -0.077615   0.006024  0.183447  0.077615\n",
      "year vs GDP                      0.070320   0.004945  1.155271  0.070320\n",
      "socialSupport vs generosity      0.069334   0.004807  0.158334  0.069334\n",
      "year vs socialSupport           -0.037181   0.001382  0.121132  0.037181\n",
      "lifeExpectancy vs generosity     0.013734   0.000189  0.158701  0.013734\n",
      "year vs generosity               0.013312   0.000177  0.158702  0.013312\n",
      "GDP vs generosity               -0.005009   0.000025  0.158714  0.005009\n"
     ]
    }
   ],
   "source": [
    "model = LinearRegression() # Initialize the model\n",
    "\n",
    "df_no_country_happiness = df.drop(columns=['country', 'happiness']) # Remove country and happiness columns\n",
    "\n",
    "metrics_df = pd.DataFrame(columns=['r','R-squared', 'RMSE']) # Prepare dataframe to store R-squared and RMSE values\n",
    "\n",
    "# Loop over each pair of columns\n",
    "for i, col1 in enumerate(df_no_country_happiness.columns):\n",
    "    for j, col2 in enumerate(df_no_country_happiness.columns):\n",
    "        # Skip when columns are the same\n",
    "        if i < j:\n",
    "            # Fit the model\n",
    "            model.fit(df_no_country_happiness[[col1]], df_no_country_happiness[col2])\n",
    "            # Get r\n",
    "            r = scipy.stats.pearsonr(df_no_country_happiness[col1], df_no_country_happiness[col2])[0]\n",
    "            # Get R-squared\n",
    "            r_squared = model.score(df_no_country_happiness[[col1]], df_no_country_happiness[col2])\n",
    "            # Predict values\n",
    "            predictions = model.predict(df_no_country_happiness[[col1]])\n",
    "            # Calculate RMSE\n",
    "            rmse = np.sqrt(mean_squared_error(df_no_country_happiness[col2], predictions))\n",
    "            # Store R-squared and RMSE\n",
    "            metrics_df.loc[f'{col1} vs {col2}'] = [r, r_squared, rmse]\n",
    "\n",
    "# Sort the dataframe such that the models with the highest correlation are at the top\n",
    "metrics_df['abs_r'] = metrics_df['r'].abs() # we'll sort by absolute value so that strong negative relationships are also near the top of the dataframe\n",
    "metrics_df = metrics_df.sort_values('abs_r', ascending=False)\n",
    "\n",
    "print(metrics_df)\n"
   ]
  },
  {
   "cell_type": "markdown",
   "id": "aa4937d2-6f9e-438d-8506-f66056da93a2",
   "metadata": {},
   "source": [
    "`GDP vs lifeExpectancy` , `GDP vs socialSupport`, and  `socialSupport vs lifeExpectancy` have a correlation that is either at a moderate or above moderate strength. These will be our candidates.\n",
    "\n",
    "According to the r-squared;\n",
    "* `GDP` explains `64.9%` of the vairance in `lifeExpectancy`.\n",
    "* `GDP` explains `45.2%` of the vairance in `socialSupport`.\n",
    "* `socialSupport` explains `35.6%` of the vairance in `lifeExpectancy`.\n",
    "\n",
    "These three relationships appear to be dependent on each other. "
   ]
  },
  {
   "cell_type": "markdown",
   "id": "591cd630-935b-49b5-8a0a-1db4f86653e9",
   "metadata": {},
   "source": [
    "It turns out `GDP` is predictive of both `lifeExpectancy` and `socialSupport`. Let's model that!"
   ]
  },
  {
   "cell_type": "markdown",
   "id": "sqmnNm_ypV47",
   "metadata": {
    "id": "sqmnNm_ypV47"
   },
   "source": [
    "Static plots 3d are hard to visually inspect, so we will also make an interactive one too."
   ]
  },
  {
   "cell_type": "code",
   "execution_count": 348,
   "id": "7f761e79-309f-4942-a31b-cb577db3cc00",
   "metadata": {
    "collapsed": true,
    "jupyter": {
     "outputs_hidden": true
    }
   },
   "outputs": [
    {
     "data": {
      "image/png": "[encoded data removed]",
      "text/plain": [
       "<Figure size 500x500 with 1 Axes>"
      ]
     },
     "metadata": {},
     "output_type": "display_data"
    }
   ],
   "source": [
    "scaler_life_social = StandardScaler() # Create a new scaler for the features\n",
    "X_life_social  = scaler_life_social.fit_transform(X_encoded[['socialSupport', 'lifeExpectancy']]) # Fit and transform the features\n",
    "\n",
    "\n",
    "x = X_life_social[:, 0]  # social support\n",
    "y = X_life_social[:, 1]  # life expectancy\n",
    "z = X_encoded[['GDP']].values.ravel()  # GDP per capita. our z value needs to be a 1d array, not column from df\n",
    "# Create an interactive3D scatter plot\n",
    "fig = go.Figure(data=[go.Scatter3d(x=x, y=y, z=z, mode='markers',\n",
    "                                   marker=dict(size=3, color=z, colorscale='Viridis'))])\n",
    "\n",
    "fig.update_layout(scene=dict(xaxis=dict(title='Social support'),\n",
    "                             yaxis=dict(title='Life expectancy'),\n",
    "                             zaxis=dict(title='GDP per capita')),\n",
    "                  title='GDP as a function of social support and life expectancy')\n",
    "\n",
    "fig.update_layout(scene=dict(\n",
    "    xaxis=dict(title='Social support', tickvals=[-4, 1], ticktext=['-', '+'], showticklabels=True),\n",
    "    yaxis=dict(title='Life expectancy', tickvals=[-8, 2], ticktext=['-', '+'], showticklabels=True),\n",
    "    zaxis=dict(title='GDP per capita', tickvals=[6, 11], ticktext=['-', '+'], showticklabels=True)),\n",
    "    title='GDP as a function of social support and life expectancy'\n",
    ")\n",
    "\n",
    "\n",
    "fig.show()\n",
    "\n",
    "# Create a static 3D scatter plot\n",
    "fig = plt.figure(figsize=(5, 5))\n",
    "ax = fig.add_subplot(111, projection='3d')\n",
    "ax.scatter(x, y, z, c=y, marker='o', s=3) # setting color = y elucidates dimensionality despite graph being 2d\n",
    "\n",
    "\n",
    "ax.set_xlabel('Social support')\n",
    "ax.set_ylabel('Life expectancy')\n",
    "ax.set_zlabel('GDP per capita')\n",
    "\n",
    "# remove the tick labels since they are not meaningful in and of themselves, just add +/- for reference\n",
    "\n",
    "ax.set_xlim([-5, 1])  # set the range \n",
    "ax.set_ylim([-8, 2])  # set the range \n",
    "ax.set_zlim([6, 11])  # set the range \n",
    "\n",
    "ax.set_xticks([-4.5,1])  \n",
    "ax.set_yticks([-7.5,1.5])\n",
    "ax.set_zticks([6.5,11])\n",
    "\n",
    "ax.set_xticklabels(['-','+'])  \n",
    "ax.set_yticklabels(['-','+'])\n",
    "ax.set_zticklabels(['-','+'])\n",
    "\n",
    "\n",
    "ax.view_init(elev=10, azim=10) # let's rotate graph along z-axis to get a better look at the data distribution \n",
    "\n",
    "# alpha = 0.1, 0.1, 0.1, 0.1 # RGBA\n",
    "alpha = 0, 0, 0, 0 # RGBA\n",
    "\n",
    "\n",
    "ax.xaxis._axinfo[\"grid\"]['color'] =  (alpha)\n",
    "ax.yaxis._axinfo[\"grid\"]['color'] =  (alpha)\n",
    "ax.zaxis._axinfo[\"grid\"]['color'] =  (alpha)\n",
    "\n",
    "plt.savefig('Pipeline Outputs/Figures/GDP_Life_Social', bbox_inches='tight')\n",
    "\n",
    "plt.show()"
   ]
  },
  {
   "cell_type": "markdown",
   "id": "28677f6d-12e3-49fe-a7a5-7dae1f1f212e",
   "metadata": {},
   "source": [
    "Importance permutation performed earlier revealed the ranking of which independent variable has the greatest influence on our tagret variable, happiness in the SVM regression. \n",
    "\n",
    "Now that we have 3 candidates from our linear regression, lets see if any of the pairs of independent variables are good predictors of happiness. \n",
    "\n",
    "Where importance permutation was a univariate analysis, now we will perform a type of multivariate analysis to see if perhaps happiness is perdicted by a combination of independent variables, rather than just one.\n",
    "\n",
    "To conduct this analysis, we will add a third dimension (z-axis) that will represent happiness, with the pairs `GDP vs lifeExpectancy` , `GDP vs socialSupport`, and  `socialSupport vs lifeExpectancy` plotted on the x- and y-axis."
   ]
  },
  {
   "cell_type": "markdown",
   "id": "a278cd29-e34a-4525-a56f-1571397e0979",
   "metadata": {},
   "source": [
    "For plots where we observe that there is a strong linear relationship between two variables, let's check to see if the combination of those to also are predictors of happines."
   ]
  },
  {
   "cell_type": "code",
   "execution_count": 345,
   "id": "98ef6746-ccd1-4795-b833-91263b310dba",
   "metadata": {
    "collapsed": true,
    "jupyter": {
     "outputs_hidden": true
    },
    "tags": []
   },
   "outputs": [
    {
     "data": {
      "image/png": "[encoded data removed]",
      "text/plain": [
       "<Figure size 500x500 with 1 Axes>"
      ]
     },
     "metadata": {},
     "output_type": "display_data"
    }
   ],
   "source": [
    "scaler_GDP_life = StandardScaler() # Create a new scaler for the features\n",
    "X_GDP_life = scaler_GDP_life.fit_transform(X_encoded[['GDP', 'lifeExpectancy']]) # Fit and transform the features\n",
    "\n",
    "\n",
    "x = X_GDP_life[:, 0]  # GDP per capita\n",
    "y = X_GDP_life[:, 1]  # life expectancy\n",
    "z = y  # Happiness scores\n",
    "\n",
    "# Create an interactive3D scatter plot\n",
    "fig = go.Figure(data=[go.Scatter3d(x=x, y=y, z=z, mode='markers',\n",
    "                                   marker=dict(size=3, color=z, colorscale='Viridis'))])\n",
    "\n",
    "fig.update_layout(scene=dict(xaxis=dict(title='GDP per capita',tickvals=[6, 11], ticktext=['-', '+'], showticklabels=True),\n",
    "                             yaxis=dict(title='Life expectancy', tickvals=[-8, 2], ticktext=['-', '+'], showticklabels=True),\n",
    "                             zaxis=dict(title='Happiness', tickvals=[-8, 2], ticktext=['-', '+'], showticklabels=True)),\n",
    "                  title='Happiness as a function of GDP and life expectancy')\n",
    "\n",
    "fig.show()\n",
    "\n",
    "\n",
    "# Create a static 3D scatter plot\n",
    "fig = plt.figure(figsize=(5, 5))\n",
    "ax = fig.add_subplot(111, projection='3d')\n",
    "ax.scatter(x, y, z, c=z, marker='o',s=3) # setting color = z elucidates dimensionality despite graph being 2d\n",
    "\n",
    "\n",
    "ax.set_xlabel('GDP per capita')\n",
    "ax.set_ylabel('Life expectancy')\n",
    "ax.set_zlabel('Happiness')\n",
    "\n",
    "# remove the tick labels since they are not meaningful in and of themselves, just add +/- reference\n",
    "ax.set_xticks([-3, 2])  \n",
    "ax.set_yticks([-8,2])\n",
    "ax.set_zticks([-8, 2])\n",
    "\n",
    "ax.set_xticklabels(['-','+'])  \n",
    "ax.set_yticklabels(['-','+'])\n",
    "ax.set_zticklabels(['-','+'])\n",
    "\n",
    "\n",
    "ax.view_init(elev=10, azim=10) # let's rotate graph along z-axis to get a better look at the data distribution \n",
    "\n",
    "# alpha = 0.1, 0.1, 0.1, 0.1 # RGBA\n",
    "alpha = 0, 0, 0, 0 # RGBA\n",
    "\n",
    "ax.xaxis._axinfo[\"grid\"]['color'] =  (alpha)\n",
    "ax.yaxis._axinfo[\"grid\"]['color'] =  (alpha)\n",
    "ax.zaxis._axinfo[\"grid\"]['color'] =  (alpha)\n",
    "\n",
    "plt.figtext(0.5, 0.01, 'Happiness as a function of GDP and life expectancy', ha='center', va='center')\n",
    "\n",
    "plt.savefig('Pipeline Outputs/Figures/Happiness_predictedBy_Life_gdp', bbox_inches='tight')\n",
    "\n",
    "plt.show()"
   ]
  },
  {
   "cell_type": "code",
   "execution_count": 346,
   "id": "c3b42b57-928a-4ce2-addd-1fd5d24d332d",
   "metadata": {
    "collapsed": true,
    "jupyter": {
     "outputs_hidden": true
    }
   },
   "outputs": [
    {
     "data": {
      "image/png": "[encoded data removed]",
      "text/plain": [
       "<Figure size 500x500 with 1 Axes>"
      ]
     },
     "metadata": {},
     "output_type": "display_data"
    }
   ],
   "source": [
    "scaler_GDP_Social = StandardScaler()# Create a new scaler for the features\n",
    "X_GDP_Social = scaler_GDP_Social.fit_transform(X_encoded[['GDP', 'socialSupport']]) # Fit and transform the features\n",
    "\n",
    "x = X_GDP_Social[:, 0]  \n",
    "y = X_GDP_Social[:, 1]  \n",
    "z = y  # Happiness scores\n",
    "\n",
    "# Create an interactive 3D scatter plot\n",
    "fig = go.Figure(data=[go.Scatter3d(x=x, y=y, z=z, mode='markers',\n",
    "                                   marker=dict(size=3, color=z, colorscale='Viridis'))])\n",
    "\n",
    "fig.update_layout(scene=dict(xaxis=dict(title='GDP per capita', tickvals=[-3, 2], ticktext=['-', '+'], showticklabels=True),\n",
    "                             yaxis=dict(title='Social support', tickvals=[-4, 1], ticktext=['-', '+'], showticklabels=True),\n",
    "                             zaxis=dict(title='Happiness', tickvals=[-4, 1], ticktext=['-', '+'], showticklabels=True)),\n",
    "                  title='Happiness as a function of GDP and social support')\n",
    "\n",
    "fig.show()\n",
    "\n",
    "# Create a static 3D scatter plot\n",
    "fig = plt.figure(figsize=(5, 5))\n",
    "ax = fig.add_subplot(111, projection='3d')\n",
    "ax.scatter(x, y, z, c=z, marker='o', s=3) # setting color = z elucidates dimensionality despite graph being 2d\n",
    "\n",
    "ax.set_xlabel('GDP per capita')\n",
    "ax.set_ylabel('Social support')\n",
    "ax.set_zlabel('Happiness')\n",
    "\n",
    "# remove the tick labels since they are not meaningful in and of themselves, just add +/- for reference\n",
    "ax.set_xticks([-3, 2])  \n",
    "ax.set_yticks([-4, 1])\n",
    "ax.set_zticks([-4, 1])\n",
    "\n",
    "ax.set_xticklabels(['-','+'])  \n",
    "ax.set_yticklabels(['-','+'])\n",
    "ax.set_zticklabels(['-','+'])\n",
    "\n",
    "\n",
    "ax.view_init(elev=10, azim=10) # let's rotate graph along z-axis to get a better look at the data distribution \n",
    "\n",
    "# alpha = 0.1, 0.1, 0.1, 0.1 # RGBA\n",
    "alpha = 0, 0, 0, 0 # RGBA\n",
    "\n",
    "ax.xaxis._axinfo[\"grid\"]['color'] =  (alpha)\n",
    "ax.yaxis._axinfo[\"grid\"]['color'] =  (alpha)\n",
    "ax.zaxis._axinfo[\"grid\"]['color'] =  (alpha)\n",
    "\n",
    "plt.figtext(0.5, 0.01, 'Happiness as a Function of GDP and Social Support', ha='center', va='center')\n",
    "\n",
    "plt.savefig('Pipeline Outputs/Figures/Happiness_predictedBy_gdp_Social', bbox_inches='tight')\n",
    "\n",
    "plt.show()"
   ]
  },
  {
   "cell_type": "code",
   "execution_count": 347,
   "id": "856c7bf4-9ee4-402c-ba85-50fd6c7e078d",
   "metadata": {
    "collapsed": true,
    "jupyter": {
     "outputs_hidden": true
    }
   },
   "outputs": [
    {
     "data": {
      "image/png": "[encoded data removed]",
      "text/plain": [
       "<Figure size 500x500 with 1 Axes>"
      ]
     },
     "metadata": {},
     "output_type": "display_data"
    }
   ],
   "source": [
    "scaler_social_life = StandardScaler() # Create a new scaler for the features\n",
    "X_social_life = scaler_social_life.fit_transform(X_encoded[['socialSupport', 'lifeExpectancy']]) # Fit and transform the features\n",
    "\n",
    "x = X_social_life[:, 0]  \n",
    "y = X_social_life[:, 1]  \n",
    "z = y  # Happiness scores\n",
    "\n",
    "# Create an interactive 3D scatter plot\n",
    "fig = go.Figure(data=[go.Scatter3d(x=x, y=y, z=z, mode='markers',\n",
    "                                   marker=dict(size=3, color=z, colorscale='Viridis'))])\n",
    "\n",
    "fig.update_layout(scene=dict(xaxis=dict(title='Social support', tickvals=[-4, 1], ticktext=['-', '+'], showticklabels=True),\n",
    "                             yaxis=dict(title='Life expectancy', tickvals=[-8, 2], ticktext=['-', '+'], showticklabels=True),\n",
    "                             zaxis=dict(title='Happiness', tickvals=[-8, 2], ticktext=['-', '+'], showticklabels=True)),\n",
    "                  title='Happiness as a function of social support and life expectancy')\n",
    "\n",
    "fig.show()\n",
    "\n",
    "# Create a static 3d plot\n",
    "fig = plt.figure(figsize=(5, 5))\n",
    "ax = fig.add_subplot(111, projection='3d')\n",
    "ax.scatter(x, y, z, c=z, marker='o', s=3) # setting color = z elucidates dimensionality despite graph being 2d\n",
    "\n",
    "ax.set_xlabel('Social support')\n",
    "ax.set_ylabel('Life expectancy')\n",
    "ax.set_zlabel('Happiness')\n",
    "\n",
    "# remove the tick labels since they are not meaningful in and of themselves, just add +/- for reference\n",
    "ax.set_xticks([-4, 1])  \n",
    "ax.set_yticks([-8, 2])\n",
    "ax.set_zticks([-8, 2])\n",
    "\n",
    "ax.set_xticklabels(['-','+'])  \n",
    "ax.set_yticklabels(['-','+'])\n",
    "ax.set_zticklabels(['-','+'])\n",
    "\n",
    "\n",
    "ax.view_init(elev=10, azim=10) # let's rotate graph along z-axis to get a better look at the data distribution \n",
    "\n",
    "# alpha = 0.1, 0.1, 0.1, 0.1 # RGBA\n",
    "alpha = 0, 0, 0, 0 # RGBA\n",
    "\n",
    "ax.xaxis._axinfo[\"grid\"]['color'] =  (alpha)\n",
    "ax.yaxis._axinfo[\"grid\"]['color'] =  (alpha)\n",
    "ax.zaxis._axinfo[\"grid\"]['color'] =  (alpha)\n",
    "\n",
    "plt.figtext(0.5, 0.01, 'Happiness as a Function of Social Support and Life Expectancy', ha='center', va='center')\n",
    "\n",
    "plt.savefig('Pipeline Outputs/Figures/Happiness_predictedBy_life_Social', bbox_inches='tight')\n",
    "\n",
    "\n",
    "plt.show()"
   ]
  }
 ],
 "metadata": {
  "colab": {
   "collapsed_sections": [
    "N_SdK2fDSvLh",
    "_pdbRUevTEdy",
    "W3Iia0SPzBJm",
    "ScrbBosq_eL_",
    "8X2R17x81ymj",
    "pAnG2TrK0KL1",
    "0hBdHNYxzyyc",
    "sktrs2kpsIIH",
    "jBbBbWQ0Ym_-",
    "JaENk7ZzSqZW",
    "uqfuthBnIQAf",
    "SMbeAUf69rEi",
    "rZ6yS7kJ9rEj",
    "T2sanB9S9rEk",
    "bmF6pM8vL3VJ",
    "klWfhzl1MDEL",
    "3HR0fLH0MIZn",
    "oqFHZpEfRke_",
    "g5kKj1KRIERJ",
    "ncvSteTbzLk4",
    "CQeajNpNFqRr",
    "BBSFcvQ5RH5-",
    "0LdLNCeoSL4G",
    "OdAxws60khnj",
    "6H3ioFXlYDBG",
    "FZcLc3hFjBAM",
    "8vunfBcgjY8X",
    "w03MJZ25fBs-",
    "V7mSgLvOzHng",
    "aYKAmLxIzb8I",
    "Wv0rESnbzM_a",
    "3q5m5WAnmDAh",
    "CZE8jfjYakd_"
   ],
   "provenance": []
  },
  "kernelspec": {
   "display_name": "Python 3 (ipykernel)",
   "language": "python",
   "name": "python3"
  },
  "language_info": {
   "codemirror_mode": {
    "name": "ipython",
    "version": 3
   },
   "file_extension": ".py",
   "mimetype": "text/x-python",
   "name": "python",
   "nbconvert_exporter": "python",
   "pygments_lexer": "ipython3",
   "version": "3.9.13"
  }
 },
 "nbformat": 4,
 "nbformat_minor": 5
}
